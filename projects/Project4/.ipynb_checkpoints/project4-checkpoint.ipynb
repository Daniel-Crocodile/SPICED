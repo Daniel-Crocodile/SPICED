{
 "cells": [
  {
   "cell_type": "code",
   "execution_count": 3,
   "metadata": {},
   "outputs": [],
   "source": [
    "from bs4 import BeautifulSoup\n",
    "import requests\n",
    "import re\n",
    "import os\n",
    "import csv"
   ]
  },
  {
   "cell_type": "code",
   "execution_count": 4,
   "metadata": {},
   "outputs": [],
   "source": [
    "url = 'https://www.lyrics.com/artist/Lenny-Kravitz/4708'\n",
    "response = requests.get(url)"
   ]
  },
  {
   "cell_type": "code",
   "execution_count": 5,
   "metadata": {},
   "outputs": [],
   "source": [
    "response.status_code\n",
    "html_art = response.text"
   ]
  },
  {
   "cell_type": "code",
   "execution_count": 6,
   "metadata": {},
   "outputs": [],
   "source": [
    "parsed_art = BeautifulSoup(html_art, 'html.parser')\n",
    "#parsed.prettify()"
   ]
  },
  {
   "cell_type": "code",
   "execution_count": null,
   "metadata": {},
   "outputs": [],
   "source": [
    "links = parsed_art.find_all('a')\n",
    "length = len(links)\n",
    "length"
   ]
  },
  {
   "cell_type": "code",
   "execution_count": null,
   "metadata": {},
   "outputs": [],
   "source": []
  },
  {
   "cell_type": "code",
   "execution_count": null,
   "metadata": {},
   "outputs": [],
   "source": [
    "artist = 'Lenny Kravitz'\n",
    "lyrics_links = receive_lyrics_list(artist) # rceive the links of all songs of the artist"
   ]
  },
  {
   "cell_type": "code",
   "execution_count": null,
   "metadata": {},
   "outputs": [],
   "source": [
    "for links in lyrics_links:\n",
    "    links = '/lyric/77475/Lenny+Kravitz/Always+on+the+Run'\n",
    "    url = 'https://www.lyrics.com' + links\n",
    "    response = requests.get(url).text\n",
    "    html_parsed = BeautifulSoup(response)\n",
    "    song = str(html_parsed.find_all('pre')[0])"
   ]
  },
  {
   "cell_type": "code",
   "execution_count": null,
   "metadata": {},
   "outputs": [],
   "source": [
    "with open('Always on the run', 'w') as file:\n",
    "            file.write(song)"
   ]
  },
  {
   "cell_type": "code",
   "execution_count": null,
   "metadata": {},
   "outputs": [],
   "source": [
    "current_workingdirectory = os.getcwd()"
   ]
  },
  {
   "cell_type": "code",
   "execution_count": null,
   "metadata": {},
   "outputs": [],
   "source": [
    "def get_links(artist):\n",
    "    url ='https://www.lyrics.com/artist/'+ artist\n",
    "    response = requests.get(url).text\n",
    "    lyrics_links = []\n",
    "    html_parsed = BeautifulSoup(response) #find_all function(below) does not work \n",
    "                                          #without parsing?? any other methods to parse\n",
    "    for lyrics in html_parsed.find_all('a', attrs = {'class': 'tal qx'}):\n",
    "        link_pattern = 'href=\"(.*)\">'\n",
    "        lyrics_links.append(re.findall(link_pattern, str(lyrics))[0])\n",
    "\n",
    "    return lyrics_links"
   ]
  },
  {
   "cell_type": "code",
   "execution_count": null,
   "metadata": {},
   "outputs": [],
   "source": [
    "art_name = '(.*)\\\\/' # the artist name\n",
    "directory_name = re.findall(pattern, artist)[0] #the name of the folder is the name of the artist\n",
    "directory_name"
   ]
  },
  {
   "cell_type": "code",
   "execution_count": null,
   "metadata": {},
   "outputs": [],
   "source": [
    "lyrics_links = []\n",
    "    link_pattern = 'href=\\\"(.*)\\\">'\n",
    "    a = 0\n",
    "    current_workingdirectory = os.getcwd()\n",
    "    os.mkdir(current_workingdirectory+'/'+ directory_name)\n",
    "    \n",
    "    #finds the links of the lyrics of an artist and collects them into a list\n",
    "    #finds the lyrics of an artist using their links and collects them as text files \n",
    "    #under the name of the artist\n",
    "    for lyrics in html_parsed.find_all('td', attrs = {'class': 'tal qx'}):\n",
    "        url_lyrics = re.findall(link_pattern, str(lyrics))[0]\n",
    "        lyrics_links.append(url_lyrics)\n",
    "        lyrics_text = requests.get('https://www.lyrics.com/artist'+ url_lyrics).text\n",
    "        filename = str(a)\n",
    "        a = a+1\n",
    "        with open(filename, 'w') as file:\n",
    "            file.write(lyrics_text)"
   ]
  },
  {
   "cell_type": "code",
   "execution_count": null,
   "metadata": {},
   "outputs": [],
   "source": []
  }
 ],
 "metadata": {
  "kernelspec": {
   "display_name": "Python 3",
   "language": "python",
   "name": "python3"
  },
  "language_info": {
   "codemirror_mode": {
    "name": "ipython",
    "version": 3
   },
   "file_extension": ".py",
   "mimetype": "text/x-python",
   "name": "python",
   "nbconvert_exporter": "python",
   "pygments_lexer": "ipython3",
   "version": "3.7.6"
  }
 },
 "nbformat": 4,
 "nbformat_minor": 4
}
