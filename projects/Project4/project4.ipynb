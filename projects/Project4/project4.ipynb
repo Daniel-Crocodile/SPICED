{
 "cells": [
  {
   "cell_type": "code",
   "execution_count": 107,
   "metadata": {},
   "outputs": [],
   "source": [
    "import concurrent.futures \n",
    "from bs4 import BeautifulSoup\n",
    "from time import sleep\n",
    "import requests\n",
    "import re\n",
    "import os\n",
    "import json"
   ]
  },
  {
   "cell_type": "code",
   "execution_count": 108,
   "metadata": {},
   "outputs": [],
   "source": [
    "url = 'https://www.lyrics.com/artist/OneRepublic/770910'"
   ]
  },
  {
   "cell_type": "code",
   "execution_count": 109,
   "metadata": {},
   "outputs": [],
   "source": [
    "#html_links = [a.get('href') for a in parsed_art.find_all('a', href=True)]\n",
    "#len(html_links)"
   ]
  },
  {
   "cell_type": "code",
   "execution_count": 110,
   "metadata": {},
   "outputs": [],
   "source": [
    "def get_hl(url):\n",
    "    '''\n",
    "    response = requests.get(url)\n",
    "    html_artist = response.text\n",
    "    artist_name = re.findall('Albums by <strong>([^<]+)', html_artist)[0]\n",
    "    s_artist = BeautifulSoup(html_artist, features=\"lxml\")\n",
    "    html_links = s_artist.find_all(attrs={'class': 'tal qx'})\n",
    "    lyrics_links = []\n",
    "    for entry in html_links:\n",
    "        a = str(entry)\n",
    "        b = re.sub('.+=+?\"', '', a)\n",
    "        c = re.sub('\".+>', '', b)\n",
    "        d = 'https://www.lyrics.com' + c\n",
    "        lyrics_links.append(d)\n",
    "    return lyrics_links, artist_name\n",
    "    '''\n",
    "    response = requests.get(url)\n",
    "    html_art = response.text\n",
    "    html_parsed = BeautifulSoup(html_art, features='lxml')\n",
    "    art_name = re.findall('Albums by <strong>([^<]+)', html_art)[0]\n",
    "    html_links = html_parsed.find_all(attrs={'class': 'tal qx'})\n",
    "    links = []\n",
    "    for entry in html_links:\n",
    "        a = str(entry)\n",
    "        b = re.sub('.+=+?\"', '', a)\n",
    "        c = re.sub('\".+>', '', b)\n",
    "        d = 'https://www.lyrics.com' + c\n",
    "        links.append(d)\n",
    "    return links, art_name"
   ]
  },
  {
   "cell_type": "code",
   "execution_count": 111,
   "metadata": {},
   "outputs": [],
   "source": [
    "result = get_hl(url)"
   ]
  },
  {
   "cell_type": "code",
   "execution_count": null,
   "metadata": {},
   "outputs": [],
   "source": []
  },
  {
   "cell_type": "code",
   "execution_count": 112,
   "metadata": {},
   "outputs": [
    {
     "data": {
      "text/plain": [
       "tuple"
      ]
     },
     "execution_count": 112,
     "metadata": {},
     "output_type": "execute_result"
    }
   ],
   "source": [
    "type(result)"
   ]
  },
  {
   "cell_type": "code",
   "execution_count": 104,
   "metadata": {},
   "outputs": [],
   "source": [
    "def scrape_and_save(url):\n",
    "    \n",
    "    links, art_name = get_hl(url)\n",
    "    for i, song in enumerate(links, 1):\n",
    "        html_song = requests.get(song).text\n",
    "        #html_song = response_song.text\n",
    "        # TODO: maybe here I can add the song_name. This may avoid duplicates...\n",
    "        soup_song = BeautifulSoup(html_song, features=\"lxml\")\n",
    "        html_lyrics = str(soup_song.find(attrs={'id': 'lyric-body-text'}))\n",
    "        if html_lyrics == 'None':\n",
    "            continue # skips empty lyrics\n",
    "        else:\n",
    "            lyrics = re.sub('<.+?>+?', '', html_lyrics)\n",
    "            lyrics = re.sub('\\[', '', lyrics)\n",
    "            lyrics = re.sub('\\]', '', lyrics)\n",
    "            num_len = len(str(len(links)))         \n",
    "            with open(art_name + +'.txt','w') as f:\n",
    "                #zfill(num_len) makes sure there are enough leading 0's before the number to sort files easily.\n",
    "                f.writelines(lyrics)\n",
    "            list_lyrics_artist(art_name, i)  "
   ]
  },
  {
   "cell_type": "code",
   "execution_count": 105,
   "metadata": {},
   "outputs": [],
   "source": [
    "def list_lyrics_artist(art_name, num_songs):\n",
    "    '''\n",
    "    Creates two lists of strings: one with the i lyrics and another with the name of the artist i times.\n",
    "    '''\n",
    "    \n",
    "    artist_list = [art_name for i in range(1, num_songs+1)]\n",
    "    num_len = len(str(num_songs))\n",
    "    lyrics_list = []\n",
    "    for i in range(1, num_songs + 1):\n",
    "        with open(art_name+ str(i).zfill(num_len) + '.txt', 'r') as f:\n",
    "            lyrics_list.append(f.read())\n",
    "    return lyrics_list, artist_list"
   ]
  },
  {
   "cell_type": "code",
   "execution_count": 106,
   "metadata": {},
   "outputs": [
    {
     "ename": "FileNotFoundError",
     "evalue": "[Errno 2] No such file or directory: 'OneRepublic1.txt'",
     "output_type": "error",
     "traceback": [
      "\u001b[0;31m---------------------------------------------------------------------------\u001b[0m",
      "\u001b[0;31mFileNotFoundError\u001b[0m                         Traceback (most recent call last)",
      "\u001b[0;32m<ipython-input-106-dde4809d9555>\u001b[0m in \u001b[0;36m<module>\u001b[0;34m\u001b[0m\n\u001b[0;32m----> 1\u001b[0;31m \u001b[0mlyrics\u001b[0m \u001b[0;34m=\u001b[0m \u001b[0mscrape_and_save\u001b[0m\u001b[0;34m(\u001b[0m\u001b[0murl\u001b[0m\u001b[0;34m)\u001b[0m\u001b[0;34m\u001b[0m\u001b[0;34m\u001b[0m\u001b[0m\n\u001b[0m",
      "\u001b[0;32m<ipython-input-104-c96b6ab650db>\u001b[0m in \u001b[0;36mscrape_and_save\u001b[0;34m(url)\u001b[0m\n\u001b[1;32m     18\u001b[0m                 \u001b[0;31m#zfill(num_len) makes sure there are enough leading 0's before the number to sort files easily.\u001b[0m\u001b[0;34m\u001b[0m\u001b[0;34m\u001b[0m\u001b[0;34m\u001b[0m\u001b[0m\n\u001b[1;32m     19\u001b[0m                 \u001b[0mf\u001b[0m\u001b[0;34m.\u001b[0m\u001b[0mwritelines\u001b[0m\u001b[0;34m(\u001b[0m\u001b[0mlyrics\u001b[0m\u001b[0;34m)\u001b[0m\u001b[0;34m\u001b[0m\u001b[0;34m\u001b[0m\u001b[0m\n\u001b[0;32m---> 20\u001b[0;31m             \u001b[0mlist_lyrics_artist\u001b[0m\u001b[0;34m(\u001b[0m\u001b[0mart_name\u001b[0m\u001b[0;34m,\u001b[0m \u001b[0mi\u001b[0m\u001b[0;34m)\u001b[0m\u001b[0;34m\u001b[0m\u001b[0;34m\u001b[0m\u001b[0m\n\u001b[0m",
      "\u001b[0;32m<ipython-input-105-4bcaccb3f1ea>\u001b[0m in \u001b[0;36mlist_lyrics_artist\u001b[0;34m(art_name, num_songs)\u001b[0m\n\u001b[1;32m      8\u001b[0m     \u001b[0mlyrics_list\u001b[0m \u001b[0;34m=\u001b[0m \u001b[0;34m[\u001b[0m\u001b[0;34m]\u001b[0m\u001b[0;34m\u001b[0m\u001b[0;34m\u001b[0m\u001b[0m\n\u001b[1;32m      9\u001b[0m     \u001b[0;32mfor\u001b[0m \u001b[0mi\u001b[0m \u001b[0;32min\u001b[0m \u001b[0mrange\u001b[0m\u001b[0;34m(\u001b[0m\u001b[0;36m1\u001b[0m\u001b[0;34m,\u001b[0m \u001b[0mnum_songs\u001b[0m \u001b[0;34m+\u001b[0m \u001b[0;36m1\u001b[0m\u001b[0;34m)\u001b[0m\u001b[0;34m:\u001b[0m\u001b[0;34m\u001b[0m\u001b[0;34m\u001b[0m\u001b[0m\n\u001b[0;32m---> 10\u001b[0;31m         \u001b[0;32mwith\u001b[0m \u001b[0mopen\u001b[0m\u001b[0;34m(\u001b[0m\u001b[0mart_name\u001b[0m\u001b[0;34m+\u001b[0m \u001b[0mstr\u001b[0m\u001b[0;34m(\u001b[0m\u001b[0mi\u001b[0m\u001b[0;34m)\u001b[0m\u001b[0;34m.\u001b[0m\u001b[0mzfill\u001b[0m\u001b[0;34m(\u001b[0m\u001b[0mnum_len\u001b[0m\u001b[0;34m)\u001b[0m \u001b[0;34m+\u001b[0m \u001b[0;34m'.txt'\u001b[0m\u001b[0;34m,\u001b[0m \u001b[0;34m'r'\u001b[0m\u001b[0;34m)\u001b[0m \u001b[0;32mas\u001b[0m \u001b[0mf\u001b[0m\u001b[0;34m:\u001b[0m\u001b[0;34m\u001b[0m\u001b[0;34m\u001b[0m\u001b[0m\n\u001b[0m\u001b[1;32m     11\u001b[0m             \u001b[0mlyrics_list\u001b[0m\u001b[0;34m.\u001b[0m\u001b[0mappend\u001b[0m\u001b[0;34m(\u001b[0m\u001b[0mf\u001b[0m\u001b[0;34m.\u001b[0m\u001b[0mread\u001b[0m\u001b[0;34m(\u001b[0m\u001b[0;34m)\u001b[0m\u001b[0;34m)\u001b[0m\u001b[0;34m\u001b[0m\u001b[0;34m\u001b[0m\u001b[0m\n\u001b[1;32m     12\u001b[0m     \u001b[0;32mreturn\u001b[0m \u001b[0mlyrics_list\u001b[0m\u001b[0;34m,\u001b[0m \u001b[0martist_list\u001b[0m\u001b[0;34m\u001b[0m\u001b[0;34m\u001b[0m\u001b[0m\n",
      "\u001b[0;31mFileNotFoundError\u001b[0m: [Errno 2] No such file or directory: 'OneRepublic1.txt'"
     ]
    }
   ],
   "source": [
    "lyrics = scrape_and_save(url)"
   ]
  },
  {
   "cell_type": "code",
   "execution_count": null,
   "metadata": {},
   "outputs": [],
   "source": [
    "url = 'https://spiced.academy/en/program/' + program\n",
    "    response = requests.get(url).text\n",
    "    html_parsed = BeautifulSoup(response)\n",
    "    curriculum_sections = []\n",
    "    current_workingdirectory = os.getcwd()\n",
    "    os.mkdir(current_workingdirectory+'/'+program)\n",
    "    for section in html_parsed.find_all('div', attrs={'class': 'curriculum-mini-section'}):\n",
    "        filename = current_workingdirectory + '/' + program + '/' + section.find_all('h3')[0].text\n",
    "        with open(filename, 'w') as file:\n",
    "            file.write(section.find_all('h3')[1].text)"
   ]
  },
  {
   "cell_type": "code",
   "execution_count": null,
   "metadata": {},
   "outputs": [],
   "source": [
    "def get_lyrics(lyric_urls, artist):\n",
    "        artist_name = format_artist_name(artist)\n",
    "        current_wd = os.getcwd()\n",
    "        new_d_name = artist_name.lower().replace(\\\"+\\\\\", \\\"_\\\\\")\n",
    "        artist_d = os.mkdir(current_wd+'/'+new_d_name)\n",
    "        \n",
    "        metadata = [[\\\"song_num\\\\\", \\\\\"song_title\\\"]]\n",
    "        for url in lyric_urls:\n",
    "            r = requests.get(url)\n",
    "            html_songpage = r.text\n",
    "            parsed_html_songpage = BeautifulSoup(html_songpage)\n",
    "            try:\n",
    "                song_title = parsed_html_songpage.find_all(\\\"h1\\\\\", attrs={'class': 'lyric-title'})[0].text\n",
    "                song_text = parsed_html_songpage.find_all(\\\"pre\\\\\")[0].text #, attrs={'class': 'lyric-body wselect-cnt'})\n",
    "                filename = re.search(\\\"\\\\d+\\\\\",url).group()\n",
    "                metadata_song = [filename,song_title]\\n\",\n",
    "                metadata.append(metadata_song)\\n\",\n",
    "                path = current_wd + '/'+ new_d_name + '/' + filename+\\\".txt\\\\\"\n",
    "                with open(path, 'w') as file:\n",
    "                    file.write(song_text)\n",
    "            except:\n",
    "                continue\n",
    "\n",
    "        path_metadata = current_wd + '/'+ new_d_name + '/' + \\\"metadata\\\" + \\\".csv\\\\\"\n",
    "        with open(path_metadata, 'w') as csv_file:\n",
    "            csv_file_writer = csv.writer(csv_file)\n",
    "            csv_file_writer.writerows(metadata)"
   ]
  },
  {
   "cell_type": "code",
   "execution_count": null,
   "metadata": {},
   "outputs": [],
   "source": [
    " path_metadata = current_wd + '/'+ new_d_name + '/' + \\\"metadata\\\" + \\\".csv\\\\\"\n",
    "        with open(path_metadata, 'w') as csv_file:\n",
    "            csv_file_writer = csv.writer(csv_file)\n",
    "            csv_file_writer.writerows(metadata)"
   ]
  },
  {
   "cell_type": "code",
   "execution_count": null,
   "metadata": {},
   "outputs": [],
   "source": []
  },
  {
   "cell_type": "code",
   "execution_count": null,
   "metadata": {},
   "outputs": [],
   "source": []
  },
  {
   "cell_type": "code",
   "execution_count": null,
   "metadata": {},
   "outputs": [],
   "source": []
  },
  {
   "cell_type": "code",
   "execution_count": null,
   "metadata": {},
   "outputs": [],
   "source": []
  },
  {
   "cell_type": "code",
   "execution_count": null,
   "metadata": {},
   "outputs": [],
   "source": []
  }
 ],
 "metadata": {
  "kernelspec": {
   "display_name": "Python 3",
   "language": "python",
   "name": "python3"
  },
  "language_info": {
   "codemirror_mode": {
    "name": "ipython",
    "version": 3
   },
   "file_extension": ".py",
   "mimetype": "text/x-python",
   "name": "python",
   "nbconvert_exporter": "python",
   "pygments_lexer": "ipython3",
   "version": "3.7.6"
  }
 },
 "nbformat": 4,
 "nbformat_minor": 4
}
