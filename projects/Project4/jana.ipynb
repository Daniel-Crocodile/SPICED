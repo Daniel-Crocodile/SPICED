{
 "cells": [
  {
   "cell_type": "code",
   "execution_count": 2,
   "metadata": {},
   "outputs": [],
   "source": [
    "import requests\n",
    "from bs4 import BeautifulSoup\n",
    "import re\n",
    "import os\n",
    "from sklearn.model_selection import train_test_split, GridSearchCV, cross_validate\n",
    "from sklearn.feature_extraction.text import CountVectorizer, TfidfVectorizer\n",
    "import pandas as pd\n",
    "from sklearn.ensemble import RandomForestClassifier"
   ]
  },
  {
   "cell_type": "code",
   "execution_count": 6,
   "metadata": {},
   "outputs": [
    {
     "ename": "NameError",
     "evalue": "name 'html_art' is not defined",
     "output_type": "error",
     "traceback": [
      "\u001b[0;31m---------------------------------------------------------------------------\u001b[0m",
      "\u001b[0;31mNameError\u001b[0m                                 Traceback (most recent call last)",
      "\u001b[0;32m<ipython-input-6-f48815cfa8e3>\u001b[0m in \u001b[0;36m<module>\u001b[0;34m\u001b[0m\n\u001b[1;32m      1\u001b[0m \u001b[0murl\u001b[0m \u001b[0;34m=\u001b[0m \u001b[0;34m'https://www.lyrics.com/artist/OneRepublic/770910'\u001b[0m\u001b[0;34m\u001b[0m\u001b[0;34m\u001b[0m\u001b[0m\n\u001b[1;32m      2\u001b[0m \u001b[0mresponse\u001b[0m \u001b[0;34m=\u001b[0m \u001b[0mrequests\u001b[0m\u001b[0;34m.\u001b[0m\u001b[0mget\u001b[0m\u001b[0;34m(\u001b[0m\u001b[0murl\u001b[0m\u001b[0;34m)\u001b[0m\u001b[0;34m\u001b[0m\u001b[0;34m\u001b[0m\u001b[0m\n\u001b[0;32m----> 3\u001b[0;31m \u001b[0martist\u001b[0m \u001b[0;34m=\u001b[0m \u001b[0mre\u001b[0m\u001b[0;34m.\u001b[0m\u001b[0mfindall\u001b[0m\u001b[0;34m(\u001b[0m\u001b[0;34m'Albums by <strong>([^<]+)'\u001b[0m\u001b[0;34m,\u001b[0m \u001b[0mhtml_art\u001b[0m\u001b[0;34m)\u001b[0m\u001b[0;34m[\u001b[0m\u001b[0;36m0\u001b[0m\u001b[0;34m]\u001b[0m\u001b[0;34m\u001b[0m\u001b[0;34m\u001b[0m\u001b[0m\n\u001b[0m",
      "\u001b[0;31mNameError\u001b[0m: name 'html_art' is not defined"
     ]
    }
   ],
   "source": [
    "url = 'https://www.lyrics.com/artist/OneRepublic/770910'\n",
    "response = requests.get(url)\n",
    "artist = re.findall('Albums by <strong>([^<]+)', html_art)[0]"
   ]
  },
  {
   "cell_type": "code",
   "execution_count": null,
   "metadata": {},
   "outputs": [],
   "source": [
    "def get_lst_url(url, artist):\n",
    "    #Transform the Artist in the format for RegEx\n",
    "    artist_transformed = artist.split()\n",
    "    artist_re = '\\+'.join(artist_transformed)\n",
    "    art_short = artist_transformed[0]\n",
    "    \n",
    "    #Get the html of the artist as string\n",
    "    response = requests.get(url)\n",
    "    html_artist = response.text\n",
    "    # Extract the url for the lyrics\n",
    "    string = html_artist\n",
    "    pattern = '/lyric/\\d*/'+artist_re+'/[A-Za-z0-9+]*'\n",
    "    lyric = re.findall(pattern, string)\n",
    "    #bring the urls in the full format\n",
    "    lst_lyric_url = []\n",
    "    for link in lyric:\n",
    "        a = 'https://www.lyrics.com'+link\n",
    "        lst_lyric_url.append(a)\n",
    "    return lst_lyric_url"
   ]
  },
  {
   "cell_type": "code",
   "execution_count": 7,
   "metadata": {},
   "outputs": [],
   "source": [
    "def get_lyrics_lst(lst):\n",
    "    #cut list with lyrics urls cause of the volume\n",
    "    lst1 = lst[0:500]\n",
    "    \n",
    "    #get the lyrics-text and store it in a list\n",
    "    lst_lyrics= []\n",
    "    for element in lst1:\n",
    "        #print statement is just a marker when running the code\n",
    "        print(lst1.index(element))\n",
    "        #get the html of the lyrics as string\n",
    "        resp = requests.get(element)\n",
    "        html = BeautifulSoup(resp.text)\n",
    "        #check if lyrics is available as text\n",
    "        if html.find('div', attrs={'class': \"lyric-no-data clearfix\"}) == None:\n",
    "            #extract the songtext\n",
    "            lyrics = html.find('pre', attrs={'id': \"lyric-body-text\"}).text\n",
    "            #store the songtext in a list\n",
    "            lst_lyrics.append(lyrics)\n",
    "        else:\n",
    "            pass\n",
    "    return lst_lyrics"
   ]
  },
  {
   "cell_type": "code",
   "execution_count": 8,
   "metadata": {},
   "outputs": [],
   "source": [
    "def save_txt(lst, foldername):\n",
    "    #create folder 'songs' in operating system\n",
    "    cwd = os.getcwd()\n",
    "    os.mkdir(cwd+'/'+foldername)\n",
    "    #store the lyrics as txt-files in the songs folder    \n",
    "    for element in lst:\n",
    "        filename = cwd+'/'+foldername+'/'+'00_lyrics_'+str(lst.index(element))+'.txt'\n",
    "        with open(filename, 'w') as f:\n",
    "            f.write(element)"
   ]
  },
  {
   "cell_type": "code",
   "execution_count": 14,
   "metadata": {},
   "outputs": [],
   "source": [
    "def read_txt(directory):\n",
    "    lst_data = []\n",
    "    path = directory\n",
    "    for file in os.listdir(directory):\n",
    "        if file.endswith('txt'):\n",
    "            a = path+'/'+file\n",
    "            with open(a, 'r') as t:\n",
    "                lst_data.append(t.read())\n",
    "    return lst_data"
   ]
  },
  {
   "cell_type": "code",
   "execution_count": 15,
   "metadata": {},
   "outputs": [
    {
     "ename": "NameError",
     "evalue": "name 'lst_data' is not defined",
     "output_type": "error",
     "traceback": [
      "\u001b[0;31m---------------------------------------------------------------------------\u001b[0m",
      "\u001b[0;31mNameError\u001b[0m                                 Traceback (most recent call last)",
      "\u001b[0;32m<ipython-input-15-78b742967c1e>\u001b[0m in \u001b[0;36m<module>\u001b[0;34m\u001b[0m\n\u001b[0;32m----> 1\u001b[0;31m \u001b[0mlst_data\u001b[0m\u001b[0;34m.\u001b[0m\u001b[0mread_txt\u001b[0m\u001b[0;34m(\u001b[0m\u001b[0;34m'./OneRepublic'\u001b[0m\u001b[0;34m)\u001b[0m\u001b[0;34m\u001b[0m\u001b[0;34m\u001b[0m\u001b[0m\n\u001b[0m",
      "\u001b[0;31mNameError\u001b[0m: name 'lst_data' is not defined"
     ]
    }
   ],
   "source": [
    "lst_data.read_txt('./OneRepublic')"
   ]
  },
  {
   "cell_type": "code",
   "execution_count": 11,
   "metadata": {},
   "outputs": [
    {
     "ename": "NameError",
     "evalue": "name 'lst_data' is not defined",
     "output_type": "error",
     "traceback": [
      "\u001b[0;31m---------------------------------------------------------------------------\u001b[0m",
      "\u001b[0;31mNameError\u001b[0m                                 Traceback (most recent call last)",
      "\u001b[0;32m<ipython-input-11-8b93f46cc2f9>\u001b[0m in \u001b[0;36m<module>\u001b[0;34m\u001b[0m\n\u001b[1;32m      1\u001b[0m \u001b[0mlst_y\u001b[0m \u001b[0;34m=\u001b[0m \u001b[0;34m[\u001b[0m\u001b[0;34m]\u001b[0m\u001b[0;34m\u001b[0m\u001b[0;34m\u001b[0m\u001b[0m\n\u001b[0;32m----> 2\u001b[0;31m \u001b[0;32mfor\u001b[0m \u001b[0mi\u001b[0m \u001b[0;32min\u001b[0m \u001b[0mrange\u001b[0m\u001b[0;34m(\u001b[0m\u001b[0mlen\u001b[0m\u001b[0;34m(\u001b[0m\u001b[0mlst_data\u001b[0m\u001b[0;34m)\u001b[0m\u001b[0;34m)\u001b[0m\u001b[0;34m:\u001b[0m\u001b[0;34m\u001b[0m\u001b[0;34m\u001b[0m\u001b[0m\n\u001b[0m\u001b[1;32m      3\u001b[0m     \u001b[0mlst_y\u001b[0m\u001b[0;34m.\u001b[0m\u001b[0mappend\u001b[0m\u001b[0;34m(\u001b[0m\u001b[0;34m'Jack Johnson'\u001b[0m\u001b[0;34m)\u001b[0m\u001b[0;34m\u001b[0m\u001b[0;34m\u001b[0m\u001b[0m\n",
      "\u001b[0;31mNameError\u001b[0m: name 'lst_data' is not defined"
     ]
    }
   ],
   "source": [
    "lst_y = []\n",
    "for i in range(len(lst_data)):\n",
    "    lst_y.append('Jack Johnson')      "
   ]
  },
  {
   "cell_type": "code",
   "execution_count": null,
   "metadata": {},
   "outputs": [],
   "source": []
  }
 ],
 "metadata": {
  "kernelspec": {
   "display_name": "Python 3",
   "language": "python",
   "name": "python3"
  },
  "language_info": {
   "codemirror_mode": {
    "name": "ipython",
    "version": 3
   },
   "file_extension": ".py",
   "mimetype": "text/x-python",
   "name": "python",
   "nbconvert_exporter": "python",
   "pygments_lexer": "ipython3",
   "version": "3.7.6"
  }
 },
 "nbformat": 4,
 "nbformat_minor": 4
}
