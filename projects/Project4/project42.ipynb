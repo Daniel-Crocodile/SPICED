{
 "cells": [
  {
   "cell_type": "code",
   "execution_count": 12,
   "metadata": {},
   "outputs": [],
   "source": [
    "import requests\n",
    "from bs4 import BeautifulSoup\n",
    "import re\n",
    "import pandas as pd"
   ]
  },
  {
   "cell_type": "code",
   "execution_count": 13,
   "metadata": {},
   "outputs": [],
   "source": [
    "# load queen page html\n",
    "url = 'https://www.lyrics.com/artist/OneRepublic/770910'\n",
    "response = requests.get(url)\n",
    "html = response.text\n",
    "parsed_html = BeautifulSoup(html)"
   ]
  },
  {
   "cell_type": "code",
   "execution_count": 14,
   "metadata": {},
   "outputs": [],
   "source": [
    " #find all links to songs\n",
    "parsed_list = parsed_html.find_all('td',attrs={'class' : 'tal qx'})"
   ]
  },
  {
   "cell_type": "code",
   "execution_count": 21,
   "metadata": {},
   "outputs": [],
   "source": [
    "link_list = []\n",
    "for entry in parsed_list:\n",
    "    link = entry.find('a').get('href')\n",
    "    link_list.append(link)"
   ]
  },
  {
   "cell_type": "code",
   "execution_count": 22,
   "metadata": {},
   "outputs": [],
   "source": [
    "#find song names with regular expressions in links\n",
    "pattern = '/OneRepublic/(.*)'\n",
    "song_list = []\n",
    "for link in link_list:\n",
    "    song = re.findall( pattern, link)\n",
    "    song_list.append(song)"
   ]
  },
  {
   "cell_type": "code",
   "execution_count": 23,
   "metadata": {},
   "outputs": [],
   "source": [
    "#remove duplicate songs\n",
    "song_df = pd.DataFrame(link_list)\n",
    "song_df['title'] = song_list\n",
    "song_df = song_df.astype(str).drop_duplicates(['title'])\n"
   ]
  },
  {
   "cell_type": "code",
   "execution_count": 24,
   "metadata": {},
   "outputs": [],
   "source": [
    "#read all song texts via song links\n",
    "for link in song_df[0]:\n",
    "    song_url = 'https://www.lyrics.com' + link\n",
    "    song_response = requests.get(song_url)\n",
    "    song_html = song_response.text\n",
    "    parsed_song = BeautifulSoup(song_html)"
   ]
  },
  {
   "cell_type": "code",
   "execution_count": 25,
   "metadata": {},
   "outputs": [],
   "source": [
    " parsed_text_list = parsed_song.find_all('pre',attrs={'id' : 'lyric-body-text'})"
   ]
  },
  {
   "cell_type": "code",
   "execution_count": 26,
   "metadata": {},
   "outputs": [
    {
     "data": {
      "text/html": [
       "<div>\n",
       "<style scoped>\n",
       "    .dataframe tbody tr th:only-of-type {\n",
       "        vertical-align: middle;\n",
       "    }\n",
       "\n",
       "    .dataframe tbody tr th {\n",
       "        vertical-align: top;\n",
       "    }\n",
       "\n",
       "    .dataframe thead th {\n",
       "        text-align: right;\n",
       "    }\n",
       "</style>\n",
       "<table border=\"1\" class=\"dataframe\">\n",
       "  <thead>\n",
       "    <tr style=\"text-align: right;\">\n",
       "      <th></th>\n",
       "      <th>0</th>\n",
       "      <th>title</th>\n",
       "    </tr>\n",
       "  </thead>\n",
       "  <tbody>\n",
       "    <tr>\n",
       "      <th>0</th>\n",
       "      <td>/lyric/36050827/OneRepublic/Bones</td>\n",
       "      <td>['Bones']</td>\n",
       "    </tr>\n",
       "    <tr>\n",
       "      <th>1</th>\n",
       "      <td>/lyric/36145790/OneRepublic/Apologize</td>\n",
       "      <td>['Apologize']</td>\n",
       "    </tr>\n",
       "    <tr>\n",
       "      <th>2</th>\n",
       "      <td>/lyric/36547919/OneRepublic/Somebody+to+Love</td>\n",
       "      <td>['Somebody+to+Love']</td>\n",
       "    </tr>\n",
       "    <tr>\n",
       "      <th>4</th>\n",
       "      <td>/lyric/36518180/OneRepublic/Wanted</td>\n",
       "      <td>['Wanted']</td>\n",
       "    </tr>\n",
       "    <tr>\n",
       "      <th>7</th>\n",
       "      <td>/lyric/35027818/OneRepublic/Stop+and+Stare</td>\n",
       "      <td>['Stop+and+Stare']</td>\n",
       "    </tr>\n",
       "    <tr>\n",
       "      <th>...</th>\n",
       "      <td>...</td>\n",
       "      <td>...</td>\n",
       "    </tr>\n",
       "    <tr>\n",
       "      <th>492</th>\n",
       "      <td>/lyric/37890256/OneRepublic/Better+Days</td>\n",
       "      <td>['Better+Days']</td>\n",
       "    </tr>\n",
       "    <tr>\n",
       "      <th>499</th>\n",
       "      <td>/lyric/36222980/OneRepublic/Rescue+Me</td>\n",
       "      <td>['Rescue+Me']</td>\n",
       "    </tr>\n",
       "    <tr>\n",
       "      <th>503</th>\n",
       "      <td>/lyric/37586692/OneRepublic/Wild+Life</td>\n",
       "      <td>['Wild+Life']</td>\n",
       "    </tr>\n",
       "    <tr>\n",
       "      <th>512</th>\n",
       "      <td>/lyric/36636715/OneRepublic/Dreaming+out+Loud+...</td>\n",
       "      <td>['Dreaming+out+Loud+%5BBonus+Track%5D']</td>\n",
       "    </tr>\n",
       "    <tr>\n",
       "      <th>525</th>\n",
       "      <td>/lyric/37279544/OneRepublic/Didn%27t+I</td>\n",
       "      <td>['Didn%27t+I']</td>\n",
       "    </tr>\n",
       "  </tbody>\n",
       "</table>\n",
       "<p>132 rows × 2 columns</p>\n",
       "</div>"
      ],
      "text/plain": [
       "                                                     0  \\\n",
       "0                    /lyric/36050827/OneRepublic/Bones   \n",
       "1                /lyric/36145790/OneRepublic/Apologize   \n",
       "2         /lyric/36547919/OneRepublic/Somebody+to+Love   \n",
       "4                   /lyric/36518180/OneRepublic/Wanted   \n",
       "7           /lyric/35027818/OneRepublic/Stop+and+Stare   \n",
       "..                                                 ...   \n",
       "492            /lyric/37890256/OneRepublic/Better+Days   \n",
       "499              /lyric/36222980/OneRepublic/Rescue+Me   \n",
       "503              /lyric/37586692/OneRepublic/Wild+Life   \n",
       "512  /lyric/36636715/OneRepublic/Dreaming+out+Loud+...   \n",
       "525             /lyric/37279544/OneRepublic/Didn%27t+I   \n",
       "\n",
       "                                       title  \n",
       "0                                  ['Bones']  \n",
       "1                              ['Apologize']  \n",
       "2                       ['Somebody+to+Love']  \n",
       "4                                 ['Wanted']  \n",
       "7                         ['Stop+and+Stare']  \n",
       "..                                       ...  \n",
       "492                          ['Better+Days']  \n",
       "499                            ['Rescue+Me']  \n",
       "503                            ['Wild+Life']  \n",
       "512  ['Dreaming+out+Loud+%5BBonus+Track%5D']  \n",
       "525                           ['Didn%27t+I']  \n",
       "\n",
       "[132 rows x 2 columns]"
      ]
     },
     "execution_count": 26,
     "metadata": {},
     "output_type": "execute_result"
    }
   ],
   "source": [
    "song_df"
   ]
  },
  {
   "cell_type": "code",
   "execution_count": 6,
   "metadata": {},
   "outputs": [],
   "source": [
    "song_url = 'https://www.lyrics.com/lyric/25733586/Queen/These+Are+The+Days+Of+Our+Lives'\n",
    "song_response = requests.get(song_url)\n",
    "song_html = song_response.text\n",
    "parsed_song = BeautifulSoup(song_html)"
   ]
  },
  {
   "cell_type": "code",
   "execution_count": null,
   "metadata": {},
   "outputs": [],
   "source": []
  },
  {
   "cell_type": "code",
   "execution_count": null,
   "metadata": {},
   "outputs": [],
   "source": []
  }
 ],
 "metadata": {
  "kernelspec": {
   "display_name": "Python 3",
   "language": "python",
   "name": "python3"
  },
  "language_info": {
   "codemirror_mode": {
    "name": "ipython",
    "version": 3
   },
   "file_extension": ".py",
   "mimetype": "text/x-python",
   "name": "python",
   "nbconvert_exporter": "python",
   "pygments_lexer": "ipython3",
   "version": "3.7.6"
  }
 },
 "nbformat": 4,
 "nbformat_minor": 4
}
