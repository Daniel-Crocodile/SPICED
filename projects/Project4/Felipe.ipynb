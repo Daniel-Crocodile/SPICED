{
 "cells": [
  {
   "cell_type": "code",
   "execution_count": 1,
   "metadata": {},
   "outputs": [],
   "source": [
    "import requests\n",
    "from bs4 import BeautifulSoup\n",
    "import re\n",
    "import sys\n",
    "from sklearn.linear_model import LogisticRegression\n",
    "from sklearn.model_selection import train_test_split as tts"
   ]
  },
  {
   "cell_type": "code",
   "execution_count": 6,
   "metadata": {},
   "outputs": [],
   "source": [
    "url = 'https://www.lyrics.com/artist/Lenny-Kravitz/4708'\n",
    "\n",
    "def get_links(url):\n",
    "    '''\n",
    "    Scrapes the links to all songs of an artist provided their page on lyrics.com.\n",
    "    \n",
    "    Parameters\n",
    "    ----------\n",
    "    url : str\n",
    "        the url of artist page on lyrics.com\n",
    "    Returns\n",
    "    -------\n",
    "    list\n",
    "        a list of strings with the links to the all song lyrics on the artist page on lyrics.com\n",
    "    '''\n",
    "\n",
    "    response = requests.get(url)\n",
    "    html_artist = response.text\n",
    "    artist_name = re.findall('Albums by <strong>([^<]+)', html_artist)[0]\n",
    "    soup_artist = BeautifulSoup(html_artist, features=\"lxml\")\n",
    "    html_links = \n",
    "    lyrics_links = []\n",
    "    for entry in html_links:\n",
    "        a = str(entry)\n",
    "        b = re.sub('.+=+?\"', '', a)\n",
    "        c = re.sub('\".+>', '', b)\n",
    "        d = 'https://www.lyrics.com' + c\n",
    "        lyrics_links.append(d)\n",
    "    return lyrics_links, artist_name"
   ]
  },
  {
   "cell_type": "code",
   "execution_count": 7,
   "metadata": {},
   "outputs": [],
   "source": [
    "def scrape_lyrics(url):\n",
    "    '''\n",
    "    Scrapes the lyrics of all songs of an artist provided their page on lyrics.com.\n",
    "    The lyrics are then saved as separate files in a new diretcory in the current working directory.\n",
    "    \n",
    "    Parameters\n",
    "    ----------\n",
    "    url : str\n",
    "        the url of artist page on lyrics.com\n",
    "    '''\n",
    "    lyrics_links, artist_name = scrape_links(url)\n",
    "    for i, song in enumerate(lyrics_links, 1):\n",
    "        response_song = requests.get(song,features=\"lxml\")\n",
    "        html_song = response_song.text\n",
    "        # TODO: maybe here I can add the song_name. This may avoid duplicates...\n",
    "        soup_song = BeautifulSoup(html_song)\n",
    "        html_lyrics = str(soup_song.find(attrs={'id': 'lyric-body-text'}))\n",
    "        if html_lyrics == 'None':\n",
    "            continue # skips empty lyrics\n",
    "        else:\n",
    "            lyrics = re.sub('<.+?>+?', '', html_lyrics)\n",
    "            lyrics = re.sub('\\[', '', lyrics)\n",
    "            lyrics = re.sub('\\]', '', lyrics)\n",
    "            num_len = len(str(len(lyrics_links))) # length of number of songs\n",
    "            with open('./songs/' + artist_name.replace(' ', '_') + '_' + str(i).zfill(num_len) + '.txt', 'w') as f:\n",
    "                #zfill(num_len) makes sure there are enough leading 0's before the number to sort files easily.\n",
    "                f.writelines(lyrics)\n",
    "            list_lyrics_artist(artist_name, i)"
   ]
  },
  {
   "cell_type": "code",
   "execution_count": 8,
   "metadata": {},
   "outputs": [],
   "source": [
    "def list_lyrics_artist(artist_name, num_songs):\n",
    "    '''\n",
    "    Creates two lists of strings: one with the i lyrics and another with the name of the artist i times.\n",
    "    '''\n",
    "    artist_list = [artist_name for i in range(1, num_songs+1)]\n",
    "    num_len = len(str(num_songs))\n",
    "    lyrics_list = []\n",
    "    for i in range(1, num_songs + 1):\n",
    "        with open('./songs/' + artist_name.replace(' ', '_') + '_' + str(i).zfill(num_len) + '.txt', 'r') as f:\n",
    "            lyrics_list.append(f.read())\n",
    "    return lyrics_list, artist_list"
   ]
  },
  {
   "cell_type": "code",
   "execution_count": 5,
   "metadata": {},
   "outputs": [
    {
     "ename": "TypeError",
     "evalue": "list_lyrics_artist() missing 2 required positional arguments: 'artist_name' and 'num_songs'",
     "output_type": "error",
     "traceback": [
      "\u001b[0;31m---------------------------------------------------------------------------\u001b[0m",
      "\u001b[0;31mTypeError\u001b[0m                                 Traceback (most recent call last)",
      "\u001b[0;32m<ipython-input-5-b02c8764761b>\u001b[0m in \u001b[0;36m<module>\u001b[0;34m\u001b[0m\n\u001b[1;32m     11\u001b[0m \u001b[0my\u001b[0m \u001b[0;34m=\u001b[0m \u001b[0;34m[\u001b[0m\u001b[0;34m]\u001b[0m\u001b[0;34m\u001b[0m\u001b[0;34m\u001b[0m\u001b[0m\n\u001b[1;32m     12\u001b[0m \u001b[0;34m\u001b[0m\u001b[0m\n\u001b[0;32m---> 13\u001b[0;31m \u001b[0mlyrics_list\u001b[0m\u001b[0;34m,\u001b[0m \u001b[0martist_list\u001b[0m \u001b[0;34m=\u001b[0m \u001b[0mlist_lyrics_artist\u001b[0m\u001b[0;34m(\u001b[0m\u001b[0;34m)\u001b[0m\u001b[0;34m\u001b[0m\u001b[0;34m\u001b[0m\u001b[0m\n\u001b[0m\u001b[1;32m     14\u001b[0m \u001b[0mX\u001b[0m\u001b[0;34m.\u001b[0m\u001b[0mappend\u001b[0m\u001b[0;34m(\u001b[0m\u001b[0mlyrics_list\u001b[0m\u001b[0;34m)\u001b[0m\u001b[0;34m\u001b[0m\u001b[0;34m\u001b[0m\u001b[0m\n\u001b[1;32m     15\u001b[0m \u001b[0my\u001b[0m\u001b[0;34m.\u001b[0m\u001b[0mappend\u001b[0m\u001b[0;34m(\u001b[0m\u001b[0martist_list\u001b[0m\u001b[0;34m)\u001b[0m\u001b[0;34m\u001b[0m\u001b[0;34m\u001b[0m\u001b[0m\n",
      "\u001b[0;31mTypeError\u001b[0m: list_lyrics_artist() missing 2 required positional arguments: 'artist_name' and 'num_songs'"
     ]
    }
   ],
   "source": [
    "def build_model(X, y):\n",
    "    '''\n",
    "    Trains Logistic Regression model\n",
    "    '''\n",
    "    Xtrain, Xtest, ytrain, ytest = tts(X, y)\n",
    "    cv = CountVectorizer()\n",
    "\n",
    "## Main Program:\n",
    "\n",
    "X = []\n",
    "y = []\n",
    "\n",
    "lyrics_list, artist_list = list_lyrics_artist()\n",
    "X.append(lyrics_list)\n",
    "y.append(artist_list)"
   ]
  },
  {
   "cell_type": "code",
   "execution_count": null,
   "metadata": {},
   "outputs": [],
   "source": []
  }
 ],
 "metadata": {
  "kernelspec": {
   "display_name": "Python 3",
   "language": "python",
   "name": "python3"
  },
  "language_info": {
   "codemirror_mode": {
    "name": "ipython",
    "version": 3
   },
   "file_extension": ".py",
   "mimetype": "text/x-python",
   "name": "python",
   "nbconvert_exporter": "python",
   "pygments_lexer": "ipython3",
   "version": "3.7.6"
  }
 },
 "nbformat": 4,
 "nbformat_minor": 4
}
