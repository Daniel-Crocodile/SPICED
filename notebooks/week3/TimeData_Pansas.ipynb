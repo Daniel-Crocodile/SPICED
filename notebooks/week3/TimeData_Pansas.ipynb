{
 "cells": [
  {
   "cell_type": "code",
   "execution_count": null,
   "metadata": {},
   "outputs": [],
   "source": [
    "import pandas as pd"
   ]
  },
  {
   "cell_type": "markdown",
   "metadata": {},
   "source": [
    "# Time series / date functionality in Pandas\n",
    "* Pandas was developed for financial modelling (Wes Mckinney, AQR Capital)\n",
    "* Handling time series therefore comprises an integral part of the package\n",
    "* We're going to look at two different concepts in Pandas\n",
    "    - 1) Timestamps\n",
    "    - 2) Timedeltas"
   ]
  },
  {
   "cell_type": "markdown",
   "metadata": {},
   "source": [
    "## 1) Timestamp objects\n",
    "* Pandas has built-in TimeStamp objects\n",
    "* An array of TimeStamp objects is a DateTimeIndex\n",
    "* The datatype of a TimeStamp object is datetime64\n",
    "* There are two main methods of creating Timestamps or a DateTimeIndex:\n",
    "    - 1) `pd.to_datetime()`\n",
    "    - 2) `pd.date_range()`"
   ]
  },
  {
   "cell_type": "markdown",
   "metadata": {},
   "source": [
    "### 1.1) `pd.to_datetime()`\n",
    "\n",
    "- You can use a lot of different formats to convert a string into a Timestamp"
   ]
  },
  {
   "cell_type": "code",
   "execution_count": null,
   "metadata": {},
   "outputs": [],
   "source": [
    "# Convert todays day in a pd.Timestamp\n"
   ]
  },
  {
   "cell_type": "markdown",
   "metadata": {},
   "source": [
    "- You could also pass a `pd.Series` or a `pd.DataFrame` into `pd.to_datetime()` if the values are convertable to a Timestamp."
   ]
  },
  {
   "cell_type": "code",
   "execution_count": null,
   "metadata": {},
   "outputs": [],
   "source": [
    "# Create a list of dates, e.g. [today, tomorrow]\n"
   ]
  },
  {
   "cell_type": "code",
   "execution_count": null,
   "metadata": {},
   "outputs": [],
   "source": [
    "# Convert it to a pd.DatetimeIndex\n"
   ]
  },
  {
   "cell_type": "markdown",
   "metadata": {},
   "source": [
    "### 1.2) `pd.date_range()`\n",
    "\n",
    "What happens if you want to create a range of dates?\n",
    "You can use `pd.date_range()` to create a DateTimeIndex (array of Timestamps):"
   ]
  },
  {
   "cell_type": "code",
   "execution_count": null,
   "metadata": {},
   "outputs": [],
   "source": [
    "# Import the datetime package; it provides basic date and time types in Python\n",
    "\n",
    "import datetime"
   ]
  },
  {
   "cell_type": "code",
   "execution_count": null,
   "metadata": {},
   "outputs": [],
   "source": [
    "# On which date did you start the bootcamp?\n",
    "\n",
    "start = ..."
   ]
  },
  {
   "cell_type": "code",
   "execution_count": null,
   "metadata": {},
   "outputs": [],
   "source": [
    "# On which date are you going to graduate?\n",
    "\n",
    "end = ..."
   ]
  },
  {
   "cell_type": "code",
   "execution_count": null,
   "metadata": {},
   "outputs": [],
   "source": [
    "# Create a DatetimeIndex from start to end\n",
    "\n",
    "dt_range = ..."
   ]
  },
  {
   "cell_type": "code",
   "execution_count": null,
   "metadata": {},
   "outputs": [],
   "source": [
    "# Convert dt_range into a pd.Series\n"
   ]
  },
  {
   "cell_type": "markdown",
   "metadata": {},
   "source": [
    "### 1.3) This is all nice and fine, but why do we care?\n",
    "\n",
    "The reason we care for Timestamps in pandas is because they allow us to perform time related actions on the data.\n",
    "Several things you can do with a timestamp:\n",
    "\n",
    "- extract the hour\n",
    "- extract the day\n",
    "- extract the month\n",
    "- extract the year\n",
    "- Slice a DataFrame or Series if the DateTimeIndex is the Index of the DataFrame\n",
    "- calculate time differences"
   ]
  },
  {
   "cell_type": "markdown",
   "metadata": {},
   "source": [
    "How could that be useful?\n",
    "Let us look at the data for this week and think about what we could do with this functionality:\n",
    "\n",
    "- Extract weekdays from the Timestamp\n",
    "- Extract the hour of the day from the Timestamp\n",
    "- Create subsets of the data\n",
    "- ..."
   ]
  },
  {
   "cell_type": "code",
   "execution_count": null,
   "metadata": {},
   "outputs": [],
   "source": [
    "# Load this weeks training data\n",
    "\n",
    "df = pd.read_csv('./data/train.csv', parse_dates=True, index_col=0)\n",
    "# parse_dates=True will try to interpret the index_col as a pd.DatetimeIndex\n",
    "\n",
    "df.head()"
   ]
  },
  {
   "cell_type": "code",
   "execution_count": null,
   "metadata": {},
   "outputs": [],
   "source": [
    "# Inspect the type of the df.index\n",
    "\n"
   ]
  },
  {
   "cell_type": "code",
   "execution_count": null,
   "metadata": {},
   "outputs": [],
   "source": [
    "# Until which date do we have data?\n",
    "\n"
   ]
  },
  {
   "cell_type": "code",
   "execution_count": null,
   "metadata": {},
   "outputs": [],
   "source": [
    "# Slice the pd.DataFrame by one date\n"
   ]
  },
  {
   "cell_type": "code",
   "execution_count": null,
   "metadata": {},
   "outputs": [],
   "source": [
    "# Slice the pd.DataFrame by one date + datetime\n"
   ]
  },
  {
   "cell_type": "code",
   "execution_count": null,
   "metadata": {},
   "outputs": [],
   "source": [
    "# Extract information about the date or time\n",
    "\n",
    "..."
   ]
  },
  {
   "cell_type": "markdown",
   "metadata": {},
   "source": [
    "### 1.4) `df.between_time()`"
   ]
  },
  {
   "cell_type": "code",
   "execution_count": null,
   "metadata": {},
   "outputs": [],
   "source": []
  },
  {
   "cell_type": "markdown",
   "metadata": {},
   "source": [
    "## 2) Timedelta objects\n",
    "\n",
    "Pandas has built-in Timedelta objects\n",
    "* An array of Timedelta objects is a TimedeltaIndex\n",
    "* The datatype of a TimeStamp object is timedelta64\n",
    "* There are three methods of creating Timedeltas or a TimedeltaIndex:\n",
    "    - 1) `pd.to_timedelta()`\n",
    "    - 2) `pd.timedelta_range()`\n",
    "    - 3) Subtract two pd.Timestamp objects"
   ]
  },
  {
   "cell_type": "code",
   "execution_count": null,
   "metadata": {},
   "outputs": [],
   "source": [
    "# Calculate the Timedelta between the last and the first observation of our data\n"
   ]
  },
  {
   "cell_type": "code",
   "execution_count": null,
   "metadata": {},
   "outputs": [],
   "source": []
  },
  {
   "cell_type": "markdown",
   "metadata": {},
   "source": [
    "## 3) Other concepts: `resample()`, `shift()` and `rolling()`\n",
    "\n",
    "You will see these concepts in later points of the course."
   ]
  },
  {
   "cell_type": "code",
   "execution_count": null,
   "metadata": {},
   "outputs": [],
   "source": []
  }
 ],
 "metadata": {
  "kernelspec": {
   "display_name": "Python 3",
   "language": "python",
   "name": "python3"
  },
  "language_info": {
   "codemirror_mode": {
    "name": "ipython",
    "version": 3
   },
   "file_extension": ".py",
   "mimetype": "text/x-python",
   "name": "python",
   "nbconvert_exporter": "python",
   "pygments_lexer": "ipython3",
   "version": "3.8.3"
  }
 },
 "nbformat": 4,
 "nbformat_minor": 4
}
