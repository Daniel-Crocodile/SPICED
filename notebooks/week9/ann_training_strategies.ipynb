{
  "nbformat": 4,
  "nbformat_minor": 0,
  "metadata": {
    "colab": {
      "name": "ann_training_strategies.ipynb",
      "provenance": []
    },
    "kernelspec": {
      "name": "python3",
      "display_name": "Python 3"
    },
    "language_info": {
      "name": "python"
    }
  },
  "cells": [
    {
      "cell_type": "markdown",
      "metadata": {
        "id": "LaP7qzfvhssk"
      },
      "source": [
        "# ANN Training Strategies"
      ]
    },
    {
      "cell_type": "code",
      "metadata": {
        "id": "fm433BK6jexn"
      },
      "source": [
        "import math\n",
        "import numpy as np\n",
        "import pandas as pd\n",
        "import matplotlib.pyplot as plt\n",
        "import tensorflow.keras as keras\n",
        "from tensorflow.keras import backend as K\n",
        "from tensorflow.keras.utils import to_categorical\n",
        "from tensorflow.keras import layers"
      ],
      "execution_count": null,
      "outputs": []
    },
    {
      "cell_type": "code",
      "metadata": {
        "id": "JViKqqOrpQNo"
      },
      "source": [
        "K.clear_session()\n",
        "model = keras.models.Sequential()"
      ],
      "execution_count": null,
      "outputs": []
    },
    {
      "cell_type": "markdown",
      "metadata": {
        "id": "-c8f0o-zTbkH"
      },
      "source": [
        "The code run as a whole will not give you a meaningful output, so don't run the whole notebook and expect a result. The code is meant to illustrate different training strategies."
      ]
    },
    {
      "cell_type": "markdown",
      "metadata": {
        "id": "_6JVcXAljALq"
      },
      "source": [
        "## Activation Functions"
      ]
    },
    {
      "cell_type": "code",
      "metadata": {
        "id": "QOFTqZc0jXqg"
      },
      "source": [
        "model.add(layers.Dense(64, activation=keras.activations.sigmoid))"
      ],
      "execution_count": null,
      "outputs": []
    },
    {
      "cell_type": "code",
      "metadata": {
        "id": "r7Vkm1DIjZlb"
      },
      "source": [
        "model.add(layers.Dense(64))\n",
        "model.add(layers.Activation(keras.activations.sigmoid))"
      ],
      "execution_count": null,
      "outputs": []
    },
    {
      "cell_type": "code",
      "metadata": {
        "id": "1OyRErLMjc8R"
      },
      "source": [
        "model.add(layers.Dense(64, activation='sigmoid'))"
      ],
      "execution_count": null,
      "outputs": []
    },
    {
      "cell_type": "code",
      "metadata": {
        "id": "gkJOlB2pj_eJ"
      },
      "source": [
        "x = np.linspace(-5, 5, 100)"
      ],
      "execution_count": 93,
      "outputs": []
    },
    {
      "cell_type": "markdown",
      "metadata": {
        "id": "-YzQLpM6lWkJ"
      },
      "source": [
        "#### sigmoid"
      ]
    },
    {
      "cell_type": "code",
      "metadata": {
        "id": "1QNsyLXZjG5W"
      },
      "source": [
        "def sigmoid(x):    \n",
        "    y = 1/(1+np.exp(-x))\n",
        "    plt.plot(x, y)\n",
        "    return y"
      ],
      "execution_count": 94,
      "outputs": []
    },
    {
      "cell_type": "code",
      "metadata": {
        "id": "6qOBh82GCB5I",
        "colab": {
          "base_uri": "https://localhost:8080/",
          "height": 265
        },
        "outputId": "ff6f755c-d4c1-4a56-bf5f-9ac42a886142"
      },
      "source": [
        "sigmoid(x);"
      ],
      "execution_count": 95,
      "outputs": [
        {
          "output_type": "display_data",
          "data": {
            "image/png": "[encoded data removed]",
            "text/plain": [
              "<Figure size 432x288 with 1 Axes>"
            ]
          },
          "metadata": {
            "tags": [],
            "needs_background": "light"
          }
        }
      ]
    },
    {
      "cell_type": "markdown",
      "metadata": {
        "id": "9TJEN-V6lQK6"
      },
      "source": [
        "#### tanh"
      ]
    },
    {
      "cell_type": "code",
      "metadata": {
        "id": "5gOEhpspk63p"
      },
      "source": [
        "def tanh(x):\n",
        "    y = (np.exp(x) - np.exp(-x)) / (np.exp(x) + np.exp(-x))\n",
        "    plt.plot(x, y)\n",
        "    return y"
      ],
      "execution_count": 96,
      "outputs": []
    },
    {
      "cell_type": "code",
      "metadata": {
        "colab": {
          "base_uri": "https://localhost:8080/",
          "height": 265
        },
        "id": "QmHZn5cXk9Uj",
        "outputId": "7ec3d2c6-21ce-4818-d7d9-6dc46499bd88"
      },
      "source": [
        "tanh(x);"
      ],
      "execution_count": 97,
      "outputs": [
        {
          "output_type": "display_data",
          "data": {
            "image/png": "[encoded data removed]",
            "text/plain": [
              "<Figure size 432x288 with 1 Axes>"
            ]
          },
          "metadata": {
            "tags": [],
            "needs_background": "light"
          }
        }
      ]
    },
    {
      "cell_type": "markdown",
      "metadata": {
        "id": "dVNyD1zJlGcV"
      },
      "source": [
        "#### ReLU"
      ]
    },
    {
      "cell_type": "code",
      "metadata": {
        "id": "wsLDD7eHlalj"
      },
      "source": [
        "def relu(x):\n",
        "    y = np.maximum(0, x)\n",
        "    plt.plot(x, y)\n",
        "    return y"
      ],
      "execution_count": 98,
      "outputs": []
    },
    {
      "cell_type": "code",
      "metadata": {
        "colab": {
          "base_uri": "https://localhost:8080/",
          "height": 265
        },
        "id": "vOHLXcG3mLvo",
        "outputId": "efe8d227-6a28-4d51-cb2a-3722c12efa38"
      },
      "source": [
        "relu(x);"
      ],
      "execution_count": 99,
      "outputs": [
        {
          "output_type": "display_data",
          "data": {
            "image/png": "[encoded data removed]",
            "text/plain": [
              "<Figure size 432x288 with 1 Axes>"
            ]
          },
          "metadata": {
            "tags": [],
            "needs_background": "light"
          }
        }
      ]
    },
    {
      "cell_type": "markdown",
      "metadata": {
        "id": "k7zSfgkamAZe"
      },
      "source": [
        "#### Leaky ReLU"
      ]
    },
    {
      "cell_type": "code",
      "metadata": {
        "id": "D8u7jJEdl_eU"
      },
      "source": [
        "def leaky_relu(x):\n",
        "    y = np.maximum(0.1*x, x)\n",
        "    plt.plot(x, y)\n",
        "    return y"
      ],
      "execution_count": 104,
      "outputs": []
    },
    {
      "cell_type": "code",
      "metadata": {
        "colab": {
          "base_uri": "https://localhost:8080/",
          "height": 265
        },
        "id": "DduW6Qx3mRa8",
        "outputId": "cea6c589-5bbe-40d6-b6cb-69d8b8b50069"
      },
      "source": [
        "leaky_relu(x);"
      ],
      "execution_count": 105,
      "outputs": [
        {
          "output_type": "display_data",
          "data": {
            "image/png": "[encoded data removed]",
            "text/plain": [
              "<Figure size 432x288 with 1 Axes>"
            ]
          },
          "metadata": {
            "tags": [],
            "needs_background": "light"
          }
        }
      ]
    },
    {
      "cell_type": "markdown",
      "metadata": {
        "id": "RX7RH7TN4rRc"
      },
      "source": [
        "#### ELU"
      ]
    },
    {
      "cell_type": "code",
      "metadata": {
        "id": "dwjA8Q2T4uBl"
      },
      "source": [
        "def elu(x):\n",
        "    y = [i if i >= 0 else 0.5*(math.e**i -1) for i in x]\n",
        "    plt.plot(x, y)\n",
        "    return y"
      ],
      "execution_count": 108,
      "outputs": []
    },
    {
      "cell_type": "code",
      "metadata": {
        "colab": {
          "base_uri": "https://localhost:8080/",
          "height": 265
        },
        "id": "fwIVyxR84zlX",
        "outputId": "7e392ac5-2cdd-4f37-c1f3-b5d1166dde14"
      },
      "source": [
        "elu(x);"
      ],
      "execution_count": 109,
      "outputs": [
        {
          "output_type": "display_data",
          "data": {
            "image/png": "[encoded data removed]",
            "text/plain": [
              "<Figure size 432x288 with 1 Axes>"
            ]
          },
          "metadata": {
            "tags": [],
            "needs_background": "light"
          }
        }
      ]
    },
    {
      "cell_type": "markdown",
      "metadata": {
        "id": "ixiQdxJ7siDA"
      },
      "source": [
        "## Weights initialization"
      ]
    },
    {
      "cell_type": "code",
      "metadata": {
        "id": "dMmnd0m8matb"
      },
      "source": [
        "model.add(layers.Dense(64,\n",
        "                       kernel_initializer=keras.initializers.RandomNormal(stddev=0.01),\n",
        "                       bias_initializer=keras.initializers.Zeros()))"
      ],
      "execution_count": null,
      "outputs": []
    },
    {
      "cell_type": "code",
      "metadata": {
        "id": "691RnX8Qmajy"
      },
      "source": [
        "model.add(layers.Dense(64,\n",
        "                       kernel_initializer='random_normal',\n",
        "                       bias_initializer='zeros'))"
      ],
      "execution_count": null,
      "outputs": []
    },
    {
      "cell_type": "code",
      "metadata": {
        "id": "HwjLJQnGcsyt"
      },
      "source": [
        "model.add(layers.Dense(64,\n",
        "                       kernel_initializer=keras.initializers.GlorotNormal(),\n",
        "                       bias_initializer=keras.initializers.Zeros()))"
      ],
      "execution_count": null,
      "outputs": []
    },
    {
      "cell_type": "markdown",
      "metadata": {
        "id": "Clita2dim9Rw"
      },
      "source": [
        "## Regularization"
      ]
    },
    {
      "cell_type": "markdown",
      "metadata": {
        "id": "K90k2zdAyVJt"
      },
      "source": [
        "#### L1/L2"
      ]
    },
    {
      "cell_type": "code",
      "metadata": {
        "id": "NgQbijSKmaau"
      },
      "source": [
        "model.add(layers.Dense(64,\n",
        "                       kernel_regularizer=keras.regularizers.l1(0.01)))"
      ],
      "execution_count": null,
      "outputs": []
    },
    {
      "cell_type": "code",
      "metadata": {
        "id": "SMfnv_9LmaSx"
      },
      "source": [
        "model.add(layers.Dense(64,\n",
        "                       kernel_regularizer=keras.regularizers.l1_l2(l1=0.01, l2=0.01)))"
      ],
      "execution_count": null,
      "outputs": []
    },
    {
      "cell_type": "code",
      "metadata": {
        "id": "halnOpQrmaKs"
      },
      "source": [
        "model.add(layers.Dense(64,\n",
        "                       kernel_regularizer='l2')"
      ],
      "execution_count": null,
      "outputs": []
    },
    {
      "cell_type": "markdown",
      "metadata": {
        "id": "f94UwQ0xybNv"
      },
      "source": [
        "#### Dropout"
      ]
    },
    {
      "cell_type": "code",
      "metadata": {
        "id": "buWZAaZRmaDZ"
      },
      "source": [
        "model.add(layers.Dense(64))\n",
        "model.add(layers.Dropout(0.2))"
      ],
      "execution_count": null,
      "outputs": []
    },
    {
      "cell_type": "markdown",
      "metadata": {
        "id": "ac7srJKoydaZ"
      },
      "source": [
        "#### Early Stopping"
      ]
    },
    {
      "cell_type": "code",
      "metadata": {
        "id": "EpcQYcmNmZ62"
      },
      "source": [
        "# monitor is the metric to be monitored\n",
        "# min_delta is the threshold under which we assume there is no improvement\n",
        "# patience is the number of epochs with no improvement after which we stop training\n",
        "# mode='min' means we observe for when the metric has stopped decreasing\n",
        "callback = keras.callbacks.EarlyStopping(monitor='val_loss',\n",
        "                                         min_delta=0.001,\n",
        "                                         patience=5,\n",
        "                                         mode='min')\n",
        "hist = model.fit(xtrain,\n",
        "                 ytrain,\n",
        "                 epochs=__,\n",
        "                 batch_size=__,\n",
        "                 validation_split=__,\n",
        "                 callbacks=[callback]\n",
        "                 )"
      ],
      "execution_count": null,
      "outputs": []
    },
    {
      "cell_type": "markdown",
      "metadata": {
        "id": "aryix8tsGx5g"
      },
      "source": [
        "## Optimizers"
      ]
    },
    {
      "cell_type": "code",
      "metadata": {
        "id": "wdVsUP3CGwab"
      },
      "source": [
        "model.compile(optimizer='adam',\n",
        "              loss='categorical_crossentropy',\n",
        "              metrics=['accuracy'])"
      ],
      "execution_count": null,
      "outputs": []
    },
    {
      "cell_type": "code",
      "metadata": {
        "id": "I1iILdtrHUpU"
      },
      "source": [
        "# epoch is a pass through the whole dataset\n",
        "# batch_size is a number of datapoints used for each weights update\n",
        "# e.g. if your batch_size is 1/4 of your dataset, you'll have 4 weights updates in each epoch\n",
        "hist = model.fit(xtrain, ytrain,\n",
        "                 epochs=__, \n",
        "                 batch_size=__,\n",
        "                 validation_split=__)"
      ],
      "execution_count": null,
      "outputs": []
    },
    {
      "cell_type": "markdown",
      "metadata": {
        "id": "3vrUJE__voXV"
      },
      "source": [
        "## Feed-forward Neural Network with MNIST data"
      ]
    },
    {
      "cell_type": "code",
      "metadata": {
        "id": "kb5yFMFlCDVQ",
        "colab": {
          "base_uri": "https://localhost:8080/"
        },
        "outputId": "62379deb-0af4-4c48-fcb5-8bffc705b326"
      },
      "source": [
        "(xtrain, ytrain), (xtest, ytest) = keras.datasets.mnist.load_data()"
      ],
      "execution_count": null,
      "outputs": [
        {
          "output_type": "stream",
          "text": [
            "Downloading data from https://storage.googleapis.com/tensorflow/tf-keras-datasets/mnist.npz\n",
            "11493376/11490434 [==============================] - 0s 0us/step\n"
          ],
          "name": "stdout"
        }
      ]
    },
    {
      "cell_type": "code",
      "metadata": {
        "colab": {
          "base_uri": "https://localhost:8080/",
          "height": 256
        },
        "id": "YKCFEml74EpR",
        "outputId": "8ed17c49-12da-41ca-989a-06cee7498498"
      },
      "source": [
        "for i in range(25):\n",
        "    plt.subplot(5, 5, i+1)\n",
        "    plt.imshow(xtrain[i], cmap=plt.cm.Greys)\n",
        "    plt.axis('off')\n",
        "    plt.text(0, 0, ytrain[i])"
      ],
      "execution_count": null,
      "outputs": [
        {
          "output_type": "display_data",
          "data": {
            "image/png": "[encoded data removed]",
            "text/plain": [
              "<Figure size 432x288 with 25 Axes>"
            ]
          },
          "metadata": {
            "tags": [],
            "needs_background": "light"
          }
        }
      ]
    },
    {
      "cell_type": "code",
      "metadata": {
        "id": "Anb0bFAab-3J"
      },
      "source": [
        "# flattens x from (28, 28) to (784,)\n",
        "xtrain = xtrain.reshape(60000, -1)"
      ],
      "execution_count": null,
      "outputs": []
    },
    {
      "cell_type": "code",
      "metadata": {
        "id": "G1Hl-WBWcNl-"
      },
      "source": [
        "# one-hot-encodes y\n",
        "ytrain = to_categorical(ytrain)"
      ],
      "execution_count": null,
      "outputs": []
    },
    {
      "cell_type": "code",
      "metadata": {
        "id": "AljFsRZ4cNL1"
      },
      "source": [
        "K.clear_session()\n",
        "model = keras.models.Sequential()"
      ],
      "execution_count": null,
      "outputs": []
    },
    {
      "cell_type": "code",
      "metadata": {
        "id": "5eTegxFMcMtn"
      },
      "source": [
        "# input layer\n",
        "model.add(layers.Dense(units=__, \n",
        "                             activation=__, \n",
        "                             input_shape=(784, )\n",
        "                             ,__))"
      ],
      "execution_count": null,
      "outputs": []
    },
    {
      "cell_type": "code",
      "metadata": {
        "id": "-TdwDCPVvzVr"
      },
      "source": [
        "# hidden layer(s)\n",
        "model.add(layers.Dense(__))\n",
        "model.add(__)"
      ],
      "execution_count": null,
      "outputs": []
    },
    {
      "cell_type": "code",
      "metadata": {
        "id": "79Rwge-ffdmC"
      },
      "source": [
        "# output layer\n",
        "model.add(layers.Dense(units=__,\n",
        "                       activation=__,\n",
        "                       __))"
      ],
      "execution_count": null,
      "outputs": []
    },
    {
      "cell_type": "code",
      "metadata": {
        "id": "P2QlskXxd2Tf"
      },
      "source": [
        "model.compile(optimizer='rmsprop',\n",
        "              loss='categorical_crossentropy',\n",
        "              metrics=['accuracy'])"
      ],
      "execution_count": null,
      "outputs": []
    },
    {
      "cell_type": "code",
      "metadata": {
        "id": "cRpeb9mV4Qtv",
        "colab": {
          "base_uri": "https://localhost:8080/"
        },
        "outputId": "4f48303c-1e6a-4176-b82b-fb0f6c7897e0"
      },
      "source": [
        "hist = model.fit(xtrain, ytrain,\n",
        "                 epochs=__, # 1 epoch is 1 iteration over entire X and y data\n",
        "                 batch_size=__, # number of samples per gradient update\n",
        "                 validation_split=__)"
      ],
      "execution_count": null,
      "outputs": [
        {
          "output_type": "stream",
          "text": [
            "Epoch 1/100\n",
            "1500/1500 [==============================] - 4s 2ms/step - loss: 8.0926 - accuracy: 0.7788 - val_loss: 0.7500 - val_accuracy: 0.8953\n",
            "Epoch 2/100\n",
            "1500/1500 [==============================] - 3s 2ms/step - loss: 0.6697 - accuracy: 0.9005 - val_loss: 0.5425 - val_accuracy: 0.9123\n",
            "Epoch 3/100\n",
            "1500/1500 [==============================] - 3s 2ms/step - loss: 0.5324 - accuracy: 0.9213 - val_loss: 0.7207 - val_accuracy: 0.9204\n",
            "Epoch 4/100\n",
            "1500/1500 [==============================] - 3s 2ms/step - loss: 0.4781 - accuracy: 0.9329 - val_loss: 0.6125 - val_accuracy: 0.9342\n",
            "Epoch 5/100\n",
            "1500/1500 [==============================] - 3s 2ms/step - loss: 0.4287 - accuracy: 0.9390 - val_loss: 0.7365 - val_accuracy: 0.9377\n",
            "Epoch 6/100\n",
            "1500/1500 [==============================] - 3s 2ms/step - loss: 0.4274 - accuracy: 0.9427 - val_loss: 0.7117 - val_accuracy: 0.9315\n",
            "Epoch 7/100\n",
            "1500/1500 [==============================] - 3s 2ms/step - loss: 0.4047 - accuracy: 0.9465 - val_loss: 0.5960 - val_accuracy: 0.9409\n",
            "Epoch 8/100\n",
            "1500/1500 [==============================] - 3s 2ms/step - loss: 0.3799 - accuracy: 0.9495 - val_loss: 0.6119 - val_accuracy: 0.9433\n",
            "Epoch 9/100\n",
            "1500/1500 [==============================] - 3s 2ms/step - loss: 0.3575 - accuracy: 0.9482 - val_loss: 0.7351 - val_accuracy: 0.9462\n",
            "Epoch 10/100\n",
            "1500/1500 [==============================] - 3s 2ms/step - loss: 0.3650 - accuracy: 0.9507 - val_loss: 0.7263 - val_accuracy: 0.9405\n",
            "Epoch 11/100\n",
            "1500/1500 [==============================] - 3s 2ms/step - loss: 0.3811 - accuracy: 0.9501 - val_loss: 0.6696 - val_accuracy: 0.9407\n",
            "Epoch 12/100\n",
            "1500/1500 [==============================] - 3s 2ms/step - loss: 0.3315 - accuracy: 0.9556 - val_loss: 0.7989 - val_accuracy: 0.9430\n",
            "Epoch 13/100\n",
            "1500/1500 [==============================] - 3s 2ms/step - loss: 0.3276 - accuracy: 0.9550 - val_loss: 0.7644 - val_accuracy: 0.9372\n",
            "Epoch 14/100\n",
            "1500/1500 [==============================] - 3s 2ms/step - loss: 0.3225 - accuracy: 0.9553 - val_loss: 0.8133 - val_accuracy: 0.9399\n",
            "Epoch 15/100\n",
            "1500/1500 [==============================] - 3s 2ms/step - loss: 0.3292 - accuracy: 0.9582 - val_loss: 0.8445 - val_accuracy: 0.9384\n",
            "Epoch 16/100\n",
            "1500/1500 [==============================] - 3s 2ms/step - loss: 0.3010 - accuracy: 0.9589 - val_loss: 0.9042 - val_accuracy: 0.9477\n",
            "Epoch 17/100\n",
            "1500/1500 [==============================] - 3s 2ms/step - loss: 0.2988 - accuracy: 0.9597 - val_loss: 0.9541 - val_accuracy: 0.9403\n",
            "Epoch 18/100\n",
            "1500/1500 [==============================] - 3s 2ms/step - loss: 0.2763 - accuracy: 0.9601 - val_loss: 0.8476 - val_accuracy: 0.9414\n",
            "Epoch 19/100\n",
            "1500/1500 [==============================] - 3s 2ms/step - loss: 0.2762 - accuracy: 0.9631 - val_loss: 0.9222 - val_accuracy: 0.9430\n",
            "Epoch 20/100\n",
            "1500/1500 [==============================] - 3s 2ms/step - loss: 0.2737 - accuracy: 0.9635 - val_loss: 1.0578 - val_accuracy: 0.9425\n",
            "Epoch 21/100\n",
            "1500/1500 [==============================] - 3s 2ms/step - loss: 0.2464 - accuracy: 0.9654 - val_loss: 1.0313 - val_accuracy: 0.9475\n",
            "Epoch 22/100\n",
            "1500/1500 [==============================] - 3s 2ms/step - loss: 0.2815 - accuracy: 0.9667 - val_loss: 1.0704 - val_accuracy: 0.9457\n",
            "Epoch 23/100\n",
            "1500/1500 [==============================] - 3s 2ms/step - loss: 0.2624 - accuracy: 0.9659 - val_loss: 1.0446 - val_accuracy: 0.9413\n",
            "Epoch 24/100\n",
            "1500/1500 [==============================] - 3s 2ms/step - loss: 0.2612 - accuracy: 0.9667 - val_loss: 1.0762 - val_accuracy: 0.9465\n",
            "Epoch 25/100\n",
            "1500/1500 [==============================] - 3s 2ms/step - loss: 0.2851 - accuracy: 0.9652 - val_loss: 1.2234 - val_accuracy: 0.9488\n",
            "Epoch 26/100\n",
            "1500/1500 [==============================] - 3s 2ms/step - loss: 0.2504 - accuracy: 0.9686 - val_loss: 1.1903 - val_accuracy: 0.9442\n",
            "Epoch 27/100\n",
            "1500/1500 [==============================] - 3s 2ms/step - loss: 0.2444 - accuracy: 0.9667 - val_loss: 1.1982 - val_accuracy: 0.9486\n",
            "Epoch 28/100\n",
            "1500/1500 [==============================] - 3s 2ms/step - loss: 0.2399 - accuracy: 0.9683 - val_loss: 1.2850 - val_accuracy: 0.9465\n",
            "Epoch 29/100\n",
            "1500/1500 [==============================] - 3s 2ms/step - loss: 0.2696 - accuracy: 0.9695 - val_loss: 1.3784 - val_accuracy: 0.9453\n",
            "Epoch 30/100\n",
            "1500/1500 [==============================] - 3s 2ms/step - loss: 0.2544 - accuracy: 0.9691 - val_loss: 1.3414 - val_accuracy: 0.9465\n",
            "Epoch 31/100\n",
            "1500/1500 [==============================] - 3s 2ms/step - loss: 0.2734 - accuracy: 0.9699 - val_loss: 1.3389 - val_accuracy: 0.9462\n",
            "Epoch 32/100\n",
            "1500/1500 [==============================] - 3s 2ms/step - loss: 0.2302 - accuracy: 0.9688 - val_loss: 1.3108 - val_accuracy: 0.9473\n",
            "Epoch 33/100\n",
            "1500/1500 [==============================] - 3s 2ms/step - loss: 0.2339 - accuracy: 0.9711 - val_loss: 1.4020 - val_accuracy: 0.9483\n",
            "Epoch 34/100\n",
            "1500/1500 [==============================] - 3s 2ms/step - loss: 0.2554 - accuracy: 0.9702 - val_loss: 1.3875 - val_accuracy: 0.9429\n",
            "Epoch 35/100\n",
            "1500/1500 [==============================] - 3s 2ms/step - loss: 0.2187 - accuracy: 0.9719 - val_loss: 1.5237 - val_accuracy: 0.9457\n",
            "Epoch 36/100\n",
            "1500/1500 [==============================] - 3s 2ms/step - loss: 0.2374 - accuracy: 0.9712 - val_loss: 1.3433 - val_accuracy: 0.9490\n",
            "Epoch 37/100\n",
            "1500/1500 [==============================] - 3s 2ms/step - loss: 0.2202 - accuracy: 0.9713 - val_loss: 1.5439 - val_accuracy: 0.9477\n",
            "Epoch 38/100\n",
            "1500/1500 [==============================] - 3s 2ms/step - loss: 0.2401 - accuracy: 0.9730 - val_loss: 1.4020 - val_accuracy: 0.9515\n",
            "Epoch 39/100\n",
            "1500/1500 [==============================] - 3s 2ms/step - loss: 0.2018 - accuracy: 0.9730 - val_loss: 1.4976 - val_accuracy: 0.9482\n",
            "Epoch 40/100\n",
            "1500/1500 [==============================] - 3s 2ms/step - loss: 0.2089 - accuracy: 0.9729 - val_loss: 1.4924 - val_accuracy: 0.9462\n",
            "Epoch 41/100\n",
            "1500/1500 [==============================] - 3s 2ms/step - loss: 0.2158 - accuracy: 0.9732 - val_loss: 1.5619 - val_accuracy: 0.9483\n",
            "Epoch 42/100\n",
            "1500/1500 [==============================] - 3s 2ms/step - loss: 0.2008 - accuracy: 0.9734 - val_loss: 1.6983 - val_accuracy: 0.9473\n",
            "Epoch 43/100\n",
            "1500/1500 [==============================] - 3s 2ms/step - loss: 0.1895 - accuracy: 0.9747 - val_loss: 1.6560 - val_accuracy: 0.9473\n",
            "Epoch 44/100\n",
            "1500/1500 [==============================] - 3s 2ms/step - loss: 0.1871 - accuracy: 0.9742 - val_loss: 1.6688 - val_accuracy: 0.9504\n",
            "Epoch 45/100\n",
            "1500/1500 [==============================] - 3s 2ms/step - loss: 0.2184 - accuracy: 0.9733 - val_loss: 1.7112 - val_accuracy: 0.9507\n",
            "Epoch 46/100\n",
            "1500/1500 [==============================] - 3s 2ms/step - loss: 0.1987 - accuracy: 0.9745 - val_loss: 1.6836 - val_accuracy: 0.9499\n",
            "Epoch 47/100\n",
            "1500/1500 [==============================] - 3s 2ms/step - loss: 0.2143 - accuracy: 0.9737 - val_loss: 1.9100 - val_accuracy: 0.9453\n",
            "Epoch 48/100\n",
            "1500/1500 [==============================] - 3s 2ms/step - loss: 0.2158 - accuracy: 0.9743 - val_loss: 1.9234 - val_accuracy: 0.9498\n",
            "Epoch 49/100\n",
            "1500/1500 [==============================] - 3s 2ms/step - loss: 0.2112 - accuracy: 0.9756 - val_loss: 1.7270 - val_accuracy: 0.9501\n",
            "Epoch 50/100\n",
            "1500/1500 [==============================] - 3s 2ms/step - loss: 0.2022 - accuracy: 0.9747 - val_loss: 1.8878 - val_accuracy: 0.9487\n",
            "Epoch 51/100\n",
            "1500/1500 [==============================] - 3s 2ms/step - loss: 0.2067 - accuracy: 0.9752 - val_loss: 1.7359 - val_accuracy: 0.9504\n",
            "Epoch 52/100\n",
            "1500/1500 [==============================] - 3s 2ms/step - loss: 0.2047 - accuracy: 0.9764 - val_loss: 1.7370 - val_accuracy: 0.9482\n",
            "Epoch 53/100\n",
            "1500/1500 [==============================] - 3s 2ms/step - loss: 0.1986 - accuracy: 0.9759 - val_loss: 1.8021 - val_accuracy: 0.9492\n",
            "Epoch 54/100\n",
            "1500/1500 [==============================] - 3s 2ms/step - loss: 0.1747 - accuracy: 0.9778 - val_loss: 1.7715 - val_accuracy: 0.9485\n",
            "Epoch 55/100\n",
            "1500/1500 [==============================] - 3s 2ms/step - loss: 0.1829 - accuracy: 0.9767 - val_loss: 1.9372 - val_accuracy: 0.9488\n",
            "Epoch 56/100\n",
            "1500/1500 [==============================] - 3s 2ms/step - loss: 0.1992 - accuracy: 0.9753 - val_loss: 2.0106 - val_accuracy: 0.9492\n",
            "Epoch 57/100\n",
            "1500/1500 [==============================] - 3s 2ms/step - loss: 0.2025 - accuracy: 0.9748 - val_loss: 1.9554 - val_accuracy: 0.9511\n",
            "Epoch 58/100\n",
            "1500/1500 [==============================] - 3s 2ms/step - loss: 0.1867 - accuracy: 0.9761 - val_loss: 2.0863 - val_accuracy: 0.9490\n",
            "Epoch 59/100\n",
            "1500/1500 [==============================] - 3s 2ms/step - loss: 0.1885 - accuracy: 0.9782 - val_loss: 1.8646 - val_accuracy: 0.9497\n",
            "Epoch 60/100\n",
            "1500/1500 [==============================] - 3s 2ms/step - loss: 0.1904 - accuracy: 0.9786 - val_loss: 2.0937 - val_accuracy: 0.9463\n",
            "Epoch 61/100\n",
            "1500/1500 [==============================] - 3s 2ms/step - loss: 0.1800 - accuracy: 0.9758 - val_loss: 1.9819 - val_accuracy: 0.9480\n",
            "Epoch 62/100\n",
            "1500/1500 [==============================] - 3s 2ms/step - loss: 0.1753 - accuracy: 0.9766 - val_loss: 2.0904 - val_accuracy: 0.9488\n",
            "Epoch 63/100\n",
            "1500/1500 [==============================] - 3s 2ms/step - loss: 0.1897 - accuracy: 0.9772 - val_loss: 2.1949 - val_accuracy: 0.9470\n",
            "Epoch 64/100\n",
            "1500/1500 [==============================] - 3s 2ms/step - loss: 0.1699 - accuracy: 0.9771 - val_loss: 2.4054 - val_accuracy: 0.9504\n",
            "Epoch 65/100\n",
            "1500/1500 [==============================] - 3s 2ms/step - loss: 0.1862 - accuracy: 0.9775 - val_loss: 2.2790 - val_accuracy: 0.9470\n",
            "Epoch 66/100\n",
            "1500/1500 [==============================] - 3s 2ms/step - loss: 0.1690 - accuracy: 0.9789 - val_loss: 2.2661 - val_accuracy: 0.9482\n",
            "Epoch 67/100\n",
            "1500/1500 [==============================] - 3s 2ms/step - loss: 0.1718 - accuracy: 0.9781 - val_loss: 2.2400 - val_accuracy: 0.9478\n",
            "Epoch 68/100\n",
            "1500/1500 [==============================] - 3s 2ms/step - loss: 0.1515 - accuracy: 0.9796 - val_loss: 2.3861 - val_accuracy: 0.9484\n",
            "Epoch 69/100\n",
            "1500/1500 [==============================] - 3s 2ms/step - loss: 0.1717 - accuracy: 0.9769 - val_loss: 2.3906 - val_accuracy: 0.9459\n",
            "Epoch 70/100\n",
            "1500/1500 [==============================] - 3s 2ms/step - loss: 0.1799 - accuracy: 0.9782 - val_loss: 2.4235 - val_accuracy: 0.9475\n",
            "Epoch 71/100\n",
            "1500/1500 [==============================] - 3s 2ms/step - loss: 0.1718 - accuracy: 0.9786 - val_loss: 2.4278 - val_accuracy: 0.9482\n",
            "Epoch 72/100\n",
            "1500/1500 [==============================] - 3s 2ms/step - loss: 0.1698 - accuracy: 0.9793 - val_loss: 2.4282 - val_accuracy: 0.9473\n",
            "Epoch 73/100\n",
            "1500/1500 [==============================] - 3s 2ms/step - loss: 0.1587 - accuracy: 0.9788 - val_loss: 2.5239 - val_accuracy: 0.9479\n",
            "Epoch 74/100\n",
            "1500/1500 [==============================] - 3s 2ms/step - loss: 0.1627 - accuracy: 0.9784 - val_loss: 2.6367 - val_accuracy: 0.9446\n",
            "Epoch 75/100\n",
            "1500/1500 [==============================] - 4s 3ms/step - loss: 0.1590 - accuracy: 0.9789 - val_loss: 2.7265 - val_accuracy: 0.9477\n",
            "Epoch 76/100\n",
            "1500/1500 [==============================] - 3s 2ms/step - loss: 0.1834 - accuracy: 0.9787 - val_loss: 2.4733 - val_accuracy: 0.9478\n",
            "Epoch 77/100\n",
            "1500/1500 [==============================] - 3s 2ms/step - loss: 0.1667 - accuracy: 0.9796 - val_loss: 2.6114 - val_accuracy: 0.9494\n",
            "Epoch 78/100\n",
            "1500/1500 [==============================] - 3s 2ms/step - loss: 0.1887 - accuracy: 0.9788 - val_loss: 2.4487 - val_accuracy: 0.9472\n",
            "Epoch 79/100\n",
            "1500/1500 [==============================] - 3s 2ms/step - loss: 0.1614 - accuracy: 0.9792 - val_loss: 2.6537 - val_accuracy: 0.9472\n",
            "Epoch 80/100\n",
            "1500/1500 [==============================] - 3s 2ms/step - loss: 0.1569 - accuracy: 0.9786 - val_loss: 2.6727 - val_accuracy: 0.9491\n",
            "Epoch 81/100\n",
            "1500/1500 [==============================] - 3s 2ms/step - loss: 0.1408 - accuracy: 0.9822 - val_loss: 2.6726 - val_accuracy: 0.9476\n",
            "Epoch 82/100\n",
            "1500/1500 [==============================] - 3s 2ms/step - loss: 0.1849 - accuracy: 0.9797 - val_loss: 2.8144 - val_accuracy: 0.9481\n",
            "Epoch 83/100\n",
            "1500/1500 [==============================] - 3s 2ms/step - loss: 0.1531 - accuracy: 0.9791 - val_loss: 2.6517 - val_accuracy: 0.9474\n",
            "Epoch 84/100\n",
            "1500/1500 [==============================] - 3s 2ms/step - loss: 0.1588 - accuracy: 0.9801 - val_loss: 2.7340 - val_accuracy: 0.9466\n",
            "Epoch 85/100\n",
            "1500/1500 [==============================] - 3s 2ms/step - loss: 0.1431 - accuracy: 0.9808 - val_loss: 2.7007 - val_accuracy: 0.9482\n",
            "Epoch 86/100\n",
            "1500/1500 [==============================] - 3s 2ms/step - loss: 0.1481 - accuracy: 0.9821 - val_loss: 2.6738 - val_accuracy: 0.9458\n",
            "Epoch 87/100\n",
            "1500/1500 [==============================] - 3s 2ms/step - loss: 0.1508 - accuracy: 0.9811 - val_loss: 2.8784 - val_accuracy: 0.9474\n",
            "Epoch 88/100\n",
            "1500/1500 [==============================] - 3s 2ms/step - loss: 0.1593 - accuracy: 0.9808 - val_loss: 2.8322 - val_accuracy: 0.9470\n",
            "Epoch 89/100\n",
            "1500/1500 [==============================] - 3s 2ms/step - loss: 0.1334 - accuracy: 0.9792 - val_loss: 2.8398 - val_accuracy: 0.9469\n",
            "Epoch 90/100\n",
            "1500/1500 [==============================] - 3s 2ms/step - loss: 0.1467 - accuracy: 0.9807 - val_loss: 2.7075 - val_accuracy: 0.9469\n",
            "Epoch 91/100\n",
            "1500/1500 [==============================] - 3s 2ms/step - loss: 0.1452 - accuracy: 0.9798 - val_loss: 3.0008 - val_accuracy: 0.9466\n",
            "Epoch 92/100\n",
            "1500/1500 [==============================] - 3s 2ms/step - loss: 0.1339 - accuracy: 0.9806 - val_loss: 2.8934 - val_accuracy: 0.9459\n",
            "Epoch 93/100\n",
            "1500/1500 [==============================] - 3s 2ms/step - loss: 0.1622 - accuracy: 0.9798 - val_loss: 2.8747 - val_accuracy: 0.9490\n",
            "Epoch 94/100\n",
            "1500/1500 [==============================] - 3s 2ms/step - loss: 0.1366 - accuracy: 0.9821 - val_loss: 2.8718 - val_accuracy: 0.9456\n",
            "Epoch 95/100\n",
            "1500/1500 [==============================] - 3s 2ms/step - loss: 0.1492 - accuracy: 0.9815 - val_loss: 2.8864 - val_accuracy: 0.9449\n",
            "Epoch 96/100\n",
            "1500/1500 [==============================] - 3s 2ms/step - loss: 0.1537 - accuracy: 0.9812 - val_loss: 2.8892 - val_accuracy: 0.9469\n",
            "Epoch 97/100\n",
            "1500/1500 [==============================] - 3s 2ms/step - loss: 0.1239 - accuracy: 0.9822 - val_loss: 2.9784 - val_accuracy: 0.9470\n",
            "Epoch 98/100\n",
            "1500/1500 [==============================] - 3s 2ms/step - loss: 0.1436 - accuracy: 0.9798 - val_loss: 3.2066 - val_accuracy: 0.9463\n",
            "Epoch 99/100\n",
            "1500/1500 [==============================] - 3s 2ms/step - loss: 0.1554 - accuracy: 0.9806 - val_loss: 3.0426 - val_accuracy: 0.9464\n",
            "Epoch 100/100\n",
            "1500/1500 [==============================] - 3s 2ms/step - loss: 0.1372 - accuracy: 0.9817 - val_loss: 3.0831 - val_accuracy: 0.9467\n"
          ],
          "name": "stdout"
        }
      ]
    },
    {
      "cell_type": "code",
      "metadata": {
        "colab": {
          "base_uri": "https://localhost:8080/"
        },
        "id": "P8rvpwO0fYtj",
        "outputId": "460ab317-e8ab-4672-d6bc-bbd9de7e8048"
      },
      "source": [
        "hist.history.keys()"
      ],
      "execution_count": null,
      "outputs": [
        {
          "output_type": "execute_result",
          "data": {
            "text/plain": [
              "dict_keys(['loss', 'accuracy', 'val_loss', 'val_accuracy'])"
            ]
          },
          "metadata": {
            "tags": []
          },
          "execution_count": 34
        }
      ]
    },
    {
      "cell_type": "code",
      "metadata": {
        "colab": {
          "base_uri": "https://localhost:8080/",
          "height": 282
        },
        "id": "GwEVWmS9uCe-",
        "outputId": "d0b43788-7176-4499-c3e5-cc0cf27836ab"
      },
      "source": [
        "pd.DataFrame(hist.history).plot()"
      ],
      "execution_count": null,
      "outputs": [
        {
          "output_type": "execute_result",
          "data": {
            "text/plain": [
              "<matplotlib.axes._subplots.AxesSubplot at 0x7fa45cd76190>"
            ]
          },
          "metadata": {
            "tags": []
          },
          "execution_count": 35
        },
        {
          "output_type": "display_data",
          "data": {
            "image/png": "[encoded data removed]",
            "text/plain": [
              "<Figure size 432x288 with 1 Axes>"
            ]
          },
          "metadata": {
            "tags": [],
            "needs_background": "light"
          }
        }
      ]
    },
    {
      "cell_type": "code",
      "metadata": {
        "id": "DtCV7o3kuSVD"
      },
      "source": [
        ""
      ],
      "execution_count": null,
      "outputs": []
    }
  ]
}