{
 "cells": [
  {
   "cell_type": "markdown",
   "metadata": {},
   "source": [
    "### State of (open-source) Deep Learning, in Python:\n",
    "- 2 most popular frameworks:\n",
    "    - Tensorflow (Google) ~2015\n",
    "        - Keras (Google) ~2015\n",
    "    - PyTorch (Facebook) ~2016"
   ]
  },
  {
   "cell_type": "markdown",
   "metadata": {},
   "source": [
    "As of 2020, Keras library is now directly part of TensorFlow\n",
    "- i.e. ``import tensorflow.keras``"
   ]
  },
  {
   "cell_type": "markdown",
   "metadata": {},
   "source": [
    "## 1. Install Tensorflow:"
   ]
  },
  {
   "cell_type": "markdown",
   "metadata": {},
   "source": [
    "1. Switch to that environment:\n",
    "   - `conda activate deep_learning`\n",
    "2. Install Jupyter within that environment:\n",
    "   - `conda install -c conda-forge jupyterlab`\n",
    "   - or `pip install jupyter`\n",
    "3. Launch Jupyter from within that environment.\n",
    "   - `jupyter lab`\n",
    "   - or `jupyter notebook`"
   ]
  },
  {
   "cell_type": "code",
   "execution_count": 1,
   "metadata": {},
   "outputs": [],
   "source": [
    "# Import tensorflow.keras\n",
    "import tensorflow.keras"
   ]
  },
  {
   "cell_type": "code",
   "execution_count": 4,
   "metadata": {},
   "outputs": [
    {
     "name": "stdout",
     "output_type": "stream",
     "text": [
      "/Users/stefanroth/anaconda3/envs/deep_learning/bin/jupyter\r\n"
     ]
    }
   ],
   "source": [
    "# Check if you are in the right environment\n",
    "!which jupyter"
   ]
  },
  {
   "cell_type": "markdown",
   "metadata": {},
   "source": [
    "## 2. Other Options:"
   ]
  },
  {
   "cell_type": "markdown",
   "metadata": {},
   "source": [
    "Other options:\n",
    "\n",
    "1. install tensorflow via `conda install -c conda-forge tensorflow`\n",
    "\n",
    "\n",
    "2. Use Docker - https://www.tensorflow.org/install/docker\n",
    "    - e.g. `docker run -it -p 8888:8888 tensorflow/tensorflow:nightly-jupyter`\n",
    "   \n",
    "   \n",
    "3. Use Cloud-Based Alternatives:\n",
    "   - Google Colab: https://colab.research.google.com/\n",
    "       - Run notebooks right in the cloud. \n",
    "       - Comes with GPU Support.\n",
    "   - PaperSpace Gradient: https://gradient.paperspace.com/\n",
    "   "
   ]
  },
  {
   "cell_type": "markdown",
   "metadata": {},
   "source": [
    "---"
   ]
  },
  {
   "cell_type": "markdown",
   "metadata": {},
   "source": [
    "### Making Neural Networks in Tensorflow / Keras"
   ]
  },
  {
   "cell_type": "code",
   "execution_count": 5,
   "metadata": {},
   "outputs": [
    {
     "name": "stdout",
     "output_type": "stream",
     "text": [
      "Requirement already satisfied: scikit-learn in /Users/stefanroth/anaconda3/envs/deep_learning/lib/python3.6/site-packages (0.24.2)\n",
      "Requirement already satisfied: joblib>=0.11 in /Users/stefanroth/anaconda3/envs/deep_learning/lib/python3.6/site-packages (from scikit-learn) (1.0.1)\n",
      "Requirement already satisfied: threadpoolctl>=2.0.0 in /Users/stefanroth/anaconda3/envs/deep_learning/lib/python3.6/site-packages (from scikit-learn) (2.1.0)\n",
      "Requirement already satisfied: numpy>=1.13.3 in /Users/stefanroth/anaconda3/envs/deep_learning/lib/python3.6/site-packages (from scikit-learn) (1.19.5)\n",
      "Requirement already satisfied: scipy>=0.19.1 in /Users/stefanroth/anaconda3/envs/deep_learning/lib/python3.6/site-packages (from scikit-learn) (1.5.4)\n",
      "Requirement already satisfied: matplotlib in /Users/stefanroth/anaconda3/envs/deep_learning/lib/python3.6/site-packages (3.3.4)\n",
      "Requirement already satisfied: kiwisolver>=1.0.1 in /Users/stefanroth/anaconda3/envs/deep_learning/lib/python3.6/site-packages (from matplotlib) (1.3.1)\n",
      "Requirement already satisfied: numpy>=1.15 in /Users/stefanroth/anaconda3/envs/deep_learning/lib/python3.6/site-packages (from matplotlib) (1.19.5)\n",
      "Requirement already satisfied: python-dateutil>=2.1 in /Users/stefanroth/anaconda3/envs/deep_learning/lib/python3.6/site-packages (from matplotlib) (2.8.1)\n",
      "Requirement already satisfied: pyparsing!=2.0.4,!=2.1.2,!=2.1.6,>=2.0.3 in /Users/stefanroth/anaconda3/envs/deep_learning/lib/python3.6/site-packages (from matplotlib) (2.4.7)\n",
      "Requirement already satisfied: cycler>=0.10 in /Users/stefanroth/anaconda3/envs/deep_learning/lib/python3.6/site-packages (from matplotlib) (0.10.0)\n",
      "Requirement already satisfied: pillow>=6.2.0 in /Users/stefanroth/anaconda3/envs/deep_learning/lib/python3.6/site-packages (from matplotlib) (8.2.0)\n",
      "Requirement already satisfied: six in /Users/stefanroth/anaconda3/envs/deep_learning/lib/python3.6/site-packages (from cycler>=0.10->matplotlib) (1.15.0)\n",
      "Requirement already satisfied: pandas in /Users/stefanroth/anaconda3/envs/deep_learning/lib/python3.6/site-packages (1.1.5)\n",
      "Requirement already satisfied: pytz>=2017.2 in /Users/stefanroth/anaconda3/envs/deep_learning/lib/python3.6/site-packages (from pandas) (2021.1)\n",
      "Requirement already satisfied: numpy>=1.15.4 in /Users/stefanroth/anaconda3/envs/deep_learning/lib/python3.6/site-packages (from pandas) (1.19.5)\n",
      "Requirement already satisfied: python-dateutil>=2.7.3 in /Users/stefanroth/anaconda3/envs/deep_learning/lib/python3.6/site-packages (from pandas) (2.8.1)\n",
      "Requirement already satisfied: six>=1.5 in /Users/stefanroth/anaconda3/envs/deep_learning/lib/python3.6/site-packages (from python-dateutil>=2.7.3->pandas) (1.15.0)\n",
      "Requirement already satisfied: seaborn in /Users/stefanroth/anaconda3/envs/deep_learning/lib/python3.6/site-packages (0.11.1)\n",
      "Requirement already satisfied: pandas>=0.23 in /Users/stefanroth/anaconda3/envs/deep_learning/lib/python3.6/site-packages (from seaborn) (1.1.5)\n",
      "Requirement already satisfied: matplotlib>=2.2 in /Users/stefanroth/anaconda3/envs/deep_learning/lib/python3.6/site-packages (from seaborn) (3.3.4)\n",
      "Requirement already satisfied: numpy>=1.15 in /Users/stefanroth/anaconda3/envs/deep_learning/lib/python3.6/site-packages (from seaborn) (1.19.5)\n",
      "Requirement already satisfied: scipy>=1.0 in /Users/stefanroth/anaconda3/envs/deep_learning/lib/python3.6/site-packages (from seaborn) (1.5.4)\n",
      "Requirement already satisfied: kiwisolver>=1.0.1 in /Users/stefanroth/anaconda3/envs/deep_learning/lib/python3.6/site-packages (from matplotlib>=2.2->seaborn) (1.3.1)\n",
      "Requirement already satisfied: pyparsing!=2.0.4,!=2.1.2,!=2.1.6,>=2.0.3 in /Users/stefanroth/anaconda3/envs/deep_learning/lib/python3.6/site-packages (from matplotlib>=2.2->seaborn) (2.4.7)\n",
      "Requirement already satisfied: python-dateutil>=2.1 in /Users/stefanroth/anaconda3/envs/deep_learning/lib/python3.6/site-packages (from matplotlib>=2.2->seaborn) (2.8.1)\n",
      "Requirement already satisfied: cycler>=0.10 in /Users/stefanroth/anaconda3/envs/deep_learning/lib/python3.6/site-packages (from matplotlib>=2.2->seaborn) (0.10.0)\n",
      "Requirement already satisfied: pillow>=6.2.0 in /Users/stefanroth/anaconda3/envs/deep_learning/lib/python3.6/site-packages (from matplotlib>=2.2->seaborn) (8.2.0)\n",
      "Requirement already satisfied: six in /Users/stefanroth/anaconda3/envs/deep_learning/lib/python3.6/site-packages (from cycler>=0.10->matplotlib>=2.2->seaborn) (1.15.0)\n",
      "Requirement already satisfied: pytz>=2017.2 in /Users/stefanroth/anaconda3/envs/deep_learning/lib/python3.6/site-packages (from pandas>=0.23->seaborn) (2021.1)\n"
     ]
    }
   ],
   "source": [
    "# Install some other libraries we will need\n",
    "!pip install --no-input scikit-learn\n",
    "!pip install --no-input matplotlib\n",
    "!pip install --no-input pandas\n",
    "!pip install --no-input seaborn"
   ]
  },
  {
   "cell_type": "code",
   "execution_count": 6,
   "metadata": {},
   "outputs": [],
   "source": [
    "import matplotlib.pyplot as plt\n",
    "import seaborn as sns\n",
    "\n",
    "plt.rcParams['figure.figsize'] = (12,6)"
   ]
  },
  {
   "cell_type": "code",
   "execution_count": 7,
   "metadata": {},
   "outputs": [],
   "source": [
    "# Import the practice dataset\n",
    "from sklearn.datasets import make_moons\n",
    "\n",
    "X, y = make_moons(n_samples=500, noise=0.2, random_state=42)"
   ]
  },
  {
   "cell_type": "code",
   "execution_count": 8,
   "metadata": {},
   "outputs": [
    {
     "data": {
      "text/plain": [
       "<AxesSubplot:>"
      ]
     },
     "execution_count": 8,
     "metadata": {},
     "output_type": "execute_result"
    },
    {
     "data": {
      "image/png": "[encoded data removed]",
      "text/plain": [
       "<Figure size 864x432 with 1 Axes>"
      ]
     },
     "metadata": {
      "needs_background": "light"
     },
     "output_type": "display_data"
    }
   ],
   "source": [
    "# Create a scatterplot\n",
    "sns.scatterplot(x=X[:,0], y=X[:,1], hue=y)"
   ]
  },
  {
   "cell_type": "code",
   "execution_count": 10,
   "metadata": {},
   "outputs": [
    {
     "data": {
      "text/plain": [
       "(500, 2)"
      ]
     },
     "execution_count": 10,
     "metadata": {},
     "output_type": "execute_result"
    }
   ],
   "source": [
    "# Inspect the shape of X\n",
    "X.shape"
   ]
  },
  {
   "cell_type": "code",
   "execution_count": 11,
   "metadata": {},
   "outputs": [
    {
     "data": {
      "text/plain": [
       "(500,)"
      ]
     },
     "execution_count": 11,
     "metadata": {},
     "output_type": "execute_result"
    }
   ],
   "source": [
    "# Inspect the shape of y\n",
    "y.shape"
   ]
  },
  {
   "cell_type": "markdown",
   "metadata": {},
   "source": [
    "**Making a Feed-Forward Network**"
   ]
  },
  {
   "cell_type": "code",
   "execution_count": 12,
   "metadata": {},
   "outputs": [],
   "source": [
    "# Import the Sequential model in Tensorflow\n",
    "from tensorflow.keras.models import Sequential\n",
    "\n",
    "# Import the Dense layer\n",
    "from tensorflow.keras.layers import Dense"
   ]
  },
  {
   "cell_type": "code",
   "execution_count": 13,
   "metadata": {},
   "outputs": [
    {
     "data": {
      "text/plain": [
       "(2,)"
      ]
     },
     "execution_count": 13,
     "metadata": {},
     "output_type": "execute_result"
    }
   ],
   "source": [
    "# Understand the input shape of each single entry in X\n",
    "X[0].shape"
   ]
  },
  {
   "cell_type": "code",
   "execution_count": 14,
   "metadata": {},
   "outputs": [
    {
     "data": {
      "text/plain": [
       "array([ 0.83085779, -0.33434228])"
      ]
     },
     "execution_count": 14,
     "metadata": {},
     "output_type": "execute_result"
    }
   ],
   "source": [
    "X[0]"
   ]
  },
  {
   "cell_type": "code",
   "execution_count": 15,
   "metadata": {},
   "outputs": [],
   "source": [
    "# Define the model - instantiate and object of the class Sequential\n",
    "m = Sequential(\n",
    "        [Dense(units=2, activation='sigmoid', input_shape=(2,)),\n",
    "         # units: #_of_neurons, activatin: activation function, input_shape: shape of each\n",
    "         # datapoint\n",
    "         Dense(units=1, activation='sigmoid')\n",
    "        ]\n",
    ")\n",
    "\n",
    "# input shape is always defined in the first layer\n",
    "# afterwards Keras knows "
   ]
  },
  {
   "cell_type": "code",
   "execution_count": 16,
   "metadata": {},
   "outputs": [
    {
     "name": "stdout",
     "output_type": "stream",
     "text": [
      "Model: \"sequential\"\n",
      "_________________________________________________________________\n",
      "Layer (type)                 Output Shape              Param #   \n",
      "=================================================================\n",
      "dense (Dense)                (None, 2)                 6         \n",
      "_________________________________________________________________\n",
      "dense_1 (Dense)              (None, 1)                 3         \n",
      "=================================================================\n",
      "Total params: 9\n",
      "Trainable params: 9\n",
      "Non-trainable params: 0\n",
      "_________________________________________________________________\n"
     ]
    }
   ],
   "source": [
    "# Look at the summary of the model\n",
    "m.summary()"
   ]
  },
  {
   "cell_type": "markdown",
   "metadata": {},
   "source": [
    "**At this point, in sklearn, we would jump straight to m.fit()**\n",
    "- But in Keras, there's one extra step:\n",
    "    - compilation: compiling the python code you wrote into lower-level c++ code for better performance."
   ]
  },
  {
   "cell_type": "code",
   "execution_count": 18,
   "metadata": {},
   "outputs": [],
   "source": [
    "m.compile(optimizer='rmsprop', loss='binary_crossentropy', metrics=['accuracy'])\n",
    "\n",
    "# optimizer: algorithm that finds the minimum of the loss function\n",
    "# loss: the loss function to be optimized; we choose the loss function depending on the \n",
    "# problem we are solving\n",
    "# metrics: metrics to be tracked over training"
   ]
  },
  {
   "cell_type": "markdown",
   "metadata": {},
   "source": [
    "**Now we can train**: 🚃\n",
    "- we can save our fitting history to our variable"
   ]
  },
  {
   "cell_type": "code",
   "execution_count": 19,
   "metadata": {},
   "outputs": [
    {
     "name": "stdout",
     "output_type": "stream",
     "text": [
      "Epoch 1/100\n",
      "13/13 [==============================] - 1s 18ms/step - loss: 0.6848 - accuracy: 0.5812 - val_loss: 0.6886 - val_accuracy: 0.5300\n",
      "Epoch 2/100\n",
      "13/13 [==============================] - 0s 4ms/step - loss: 0.6835 - accuracy: 0.5362 - val_loss: 0.6878 - val_accuracy: 0.5200\n",
      "Epoch 3/100\n",
      "13/13 [==============================] - 0s 4ms/step - loss: 0.6804 - accuracy: 0.5423 - val_loss: 0.6872 - val_accuracy: 0.5100\n",
      "Epoch 4/100\n",
      "13/13 [==============================] - 0s 5ms/step - loss: 0.6829 - accuracy: 0.5072 - val_loss: 0.6866 - val_accuracy: 0.5000\n",
      "Epoch 5/100\n",
      "13/13 [==============================] - 0s 6ms/step - loss: 0.6820 - accuracy: 0.4875 - val_loss: 0.6859 - val_accuracy: 0.4900\n",
      "Epoch 6/100\n",
      "13/13 [==============================] - 0s 5ms/step - loss: 0.6791 - accuracy: 0.4989 - val_loss: 0.6854 - val_accuracy: 0.4800\n",
      "Epoch 7/100\n",
      "13/13 [==============================] - 0s 5ms/step - loss: 0.6784 - accuracy: 0.5049 - val_loss: 0.6846 - val_accuracy: 0.4800\n",
      "Epoch 8/100\n",
      "13/13 [==============================] - 0s 5ms/step - loss: 0.6740 - accuracy: 0.5455 - val_loss: 0.6838 - val_accuracy: 0.4800\n",
      "Epoch 9/100\n",
      "13/13 [==============================] - 0s 4ms/step - loss: 0.6749 - accuracy: 0.5211 - val_loss: 0.6830 - val_accuracy: 0.4800\n",
      "Epoch 10/100\n",
      "13/13 [==============================] - 0s 5ms/step - loss: 0.6748 - accuracy: 0.5174 - val_loss: 0.6823 - val_accuracy: 0.4700\n",
      "Epoch 11/100\n",
      "13/13 [==============================] - 0s 5ms/step - loss: 0.6809 - accuracy: 0.4598 - val_loss: 0.6816 - val_accuracy: 0.4600\n",
      "Epoch 12/100\n",
      "13/13 [==============================] - 0s 5ms/step - loss: 0.6678 - accuracy: 0.5406 - val_loss: 0.6808 - val_accuracy: 0.4600\n",
      "Epoch 13/100\n",
      "13/13 [==============================] - 0s 5ms/step - loss: 0.6714 - accuracy: 0.4905 - val_loss: 0.6800 - val_accuracy: 0.4800\n",
      "Epoch 14/100\n",
      "13/13 [==============================] - 0s 5ms/step - loss: 0.6730 - accuracy: 0.5010 - val_loss: 0.6792 - val_accuracy: 0.4700\n",
      "Epoch 15/100\n",
      "13/13 [==============================] - 0s 4ms/step - loss: 0.6655 - accuracy: 0.5299 - val_loss: 0.6783 - val_accuracy: 0.4800\n",
      "Epoch 16/100\n",
      "13/13 [==============================] - 0s 12ms/step - loss: 0.6665 - accuracy: 0.5235 - val_loss: 0.6774 - val_accuracy: 0.4900\n",
      "Epoch 17/100\n",
      "13/13 [==============================] - 0s 5ms/step - loss: 0.6624 - accuracy: 0.5319 - val_loss: 0.6765 - val_accuracy: 0.4900\n",
      "Epoch 18/100\n",
      "13/13 [==============================] - 0s 4ms/step - loss: 0.6655 - accuracy: 0.5296 - val_loss: 0.6756 - val_accuracy: 0.4900\n",
      "Epoch 19/100\n",
      "13/13 [==============================] - 0s 5ms/step - loss: 0.6645 - accuracy: 0.5213 - val_loss: 0.6746 - val_accuracy: 0.4900\n",
      "Epoch 20/100\n",
      "13/13 [==============================] - 0s 5ms/step - loss: 0.6653 - accuracy: 0.5305 - val_loss: 0.6736 - val_accuracy: 0.5000\n",
      "Epoch 21/100\n",
      "13/13 [==============================] - 0s 5ms/step - loss: 0.6566 - accuracy: 0.6010 - val_loss: 0.6726 - val_accuracy: 0.5100\n",
      "Epoch 22/100\n",
      "13/13 [==============================] - 0s 4ms/step - loss: 0.6607 - accuracy: 0.5842 - val_loss: 0.6715 - val_accuracy: 0.5300\n",
      "Epoch 23/100\n",
      "13/13 [==============================] - 0s 5ms/step - loss: 0.6600 - accuracy: 0.5862 - val_loss: 0.6706 - val_accuracy: 0.5300\n",
      "Epoch 24/100\n",
      "13/13 [==============================] - 0s 4ms/step - loss: 0.6591 - accuracy: 0.5957 - val_loss: 0.6693 - val_accuracy: 0.5700\n",
      "Epoch 25/100\n",
      "13/13 [==============================] - 0s 4ms/step - loss: 0.6543 - accuracy: 0.6414 - val_loss: 0.6680 - val_accuracy: 0.6100\n",
      "Epoch 26/100\n",
      "13/13 [==============================] - 0s 4ms/step - loss: 0.6602 - accuracy: 0.6188 - val_loss: 0.6669 - val_accuracy: 0.6300\n",
      "Epoch 27/100\n",
      "13/13 [==============================] - 0s 4ms/step - loss: 0.6564 - accuracy: 0.6564 - val_loss: 0.6658 - val_accuracy: 0.6300\n",
      "Epoch 28/100\n",
      "13/13 [==============================] - 0s 4ms/step - loss: 0.6523 - accuracy: 0.6692 - val_loss: 0.6646 - val_accuracy: 0.6500\n",
      "Epoch 29/100\n",
      "13/13 [==============================] - 0s 4ms/step - loss: 0.6578 - accuracy: 0.6773 - val_loss: 0.6635 - val_accuracy: 0.6700\n",
      "Epoch 30/100\n",
      "13/13 [==============================] - 0s 4ms/step - loss: 0.6483 - accuracy: 0.7156 - val_loss: 0.6621 - val_accuracy: 0.6700\n",
      "Epoch 31/100\n",
      "13/13 [==============================] - 0s 4ms/step - loss: 0.6552 - accuracy: 0.7104 - val_loss: 0.6609 - val_accuracy: 0.6700\n",
      "Epoch 32/100\n",
      "13/13 [==============================] - 0s 4ms/step - loss: 0.6522 - accuracy: 0.7295 - val_loss: 0.6596 - val_accuracy: 0.6800\n",
      "Epoch 33/100\n",
      "13/13 [==============================] - 0s 4ms/step - loss: 0.6464 - accuracy: 0.7658 - val_loss: 0.6582 - val_accuracy: 0.6800\n",
      "Epoch 34/100\n",
      "13/13 [==============================] - 0s 4ms/step - loss: 0.6465 - accuracy: 0.7285 - val_loss: 0.6568 - val_accuracy: 0.7000\n",
      "Epoch 35/100\n",
      "13/13 [==============================] - 0s 4ms/step - loss: 0.6517 - accuracy: 0.7161 - val_loss: 0.6556 - val_accuracy: 0.7000\n",
      "Epoch 36/100\n",
      "13/13 [==============================] - 0s 4ms/step - loss: 0.6390 - accuracy: 0.7691 - val_loss: 0.6543 - val_accuracy: 0.7000\n",
      "Epoch 37/100\n",
      "13/13 [==============================] - 0s 4ms/step - loss: 0.6393 - accuracy: 0.7764 - val_loss: 0.6527 - val_accuracy: 0.7000\n",
      "Epoch 38/100\n",
      "13/13 [==============================] - 0s 4ms/step - loss: 0.6360 - accuracy: 0.7700 - val_loss: 0.6514 - val_accuracy: 0.7000\n",
      "Epoch 39/100\n",
      "13/13 [==============================] - 0s 4ms/step - loss: 0.6320 - accuracy: 0.7732 - val_loss: 0.6501 - val_accuracy: 0.6900\n",
      "Epoch 40/100\n",
      "13/13 [==============================] - 0s 4ms/step - loss: 0.6384 - accuracy: 0.7713 - val_loss: 0.6486 - val_accuracy: 0.6900\n",
      "Epoch 41/100\n",
      "13/13 [==============================] - 0s 4ms/step - loss: 0.6290 - accuracy: 0.7888 - val_loss: 0.6471 - val_accuracy: 0.7000\n",
      "Epoch 42/100\n",
      "13/13 [==============================] - 0s 5ms/step - loss: 0.6380 - accuracy: 0.7566 - val_loss: 0.6458 - val_accuracy: 0.7000\n",
      "Epoch 43/100\n",
      "13/13 [==============================] - 0s 4ms/step - loss: 0.6305 - accuracy: 0.7653 - val_loss: 0.6442 - val_accuracy: 0.7100\n",
      "Epoch 44/100\n",
      "13/13 [==============================] - 0s 4ms/step - loss: 0.6315 - accuracy: 0.7757 - val_loss: 0.6427 - val_accuracy: 0.7200\n",
      "Epoch 45/100\n",
      "13/13 [==============================] - 0s 4ms/step - loss: 0.6203 - accuracy: 0.8038 - val_loss: 0.6414 - val_accuracy: 0.7200\n",
      "Epoch 46/100\n",
      "13/13 [==============================] - 0s 5ms/step - loss: 0.6222 - accuracy: 0.7885 - val_loss: 0.6397 - val_accuracy: 0.7200\n",
      "Epoch 47/100\n",
      "13/13 [==============================] - 0s 4ms/step - loss: 0.6222 - accuracy: 0.7851 - val_loss: 0.6381 - val_accuracy: 0.7200\n",
      "Epoch 48/100\n",
      "13/13 [==============================] - 0s 4ms/step - loss: 0.6201 - accuracy: 0.7928 - val_loss: 0.6363 - val_accuracy: 0.7300\n",
      "Epoch 49/100\n",
      "13/13 [==============================] - 0s 4ms/step - loss: 0.6303 - accuracy: 0.7807 - val_loss: 0.6346 - val_accuracy: 0.7400\n",
      "Epoch 50/100\n",
      "13/13 [==============================] - 0s 5ms/step - loss: 0.6271 - accuracy: 0.7595 - val_loss: 0.6327 - val_accuracy: 0.7600\n",
      "Epoch 51/100\n",
      "13/13 [==============================] - 0s 4ms/step - loss: 0.6223 - accuracy: 0.7821 - val_loss: 0.6312 - val_accuracy: 0.7600\n",
      "Epoch 52/100\n",
      "13/13 [==============================] - 0s 4ms/step - loss: 0.6088 - accuracy: 0.7854 - val_loss: 0.6293 - val_accuracy: 0.7600\n",
      "Epoch 53/100\n",
      "13/13 [==============================] - 0s 4ms/step - loss: 0.6170 - accuracy: 0.7733 - val_loss: 0.6277 - val_accuracy: 0.7600\n",
      "Epoch 54/100\n",
      "13/13 [==============================] - 0s 4ms/step - loss: 0.6153 - accuracy: 0.7462 - val_loss: 0.6261 - val_accuracy: 0.7600\n",
      "Epoch 55/100\n",
      "13/13 [==============================] - 0s 4ms/step - loss: 0.6066 - accuracy: 0.7753 - val_loss: 0.6244 - val_accuracy: 0.7500\n",
      "Epoch 56/100\n",
      "13/13 [==============================] - 0s 4ms/step - loss: 0.6168 - accuracy: 0.7500 - val_loss: 0.6229 - val_accuracy: 0.7500\n",
      "Epoch 57/100\n",
      "13/13 [==============================] - 0s 4ms/step - loss: 0.6089 - accuracy: 0.7682 - val_loss: 0.6212 - val_accuracy: 0.7500\n",
      "Epoch 58/100\n",
      "13/13 [==============================] - 0s 4ms/step - loss: 0.6097 - accuracy: 0.7437 - val_loss: 0.6195 - val_accuracy: 0.7500\n"
     ]
    },
    {
     "name": "stdout",
     "output_type": "stream",
     "text": [
      "Epoch 59/100\n",
      "13/13 [==============================] - 0s 4ms/step - loss: 0.6100 - accuracy: 0.7393 - val_loss: 0.6176 - val_accuracy: 0.7400\n",
      "Epoch 60/100\n",
      "13/13 [==============================] - 0s 4ms/step - loss: 0.6111 - accuracy: 0.7105 - val_loss: 0.6158 - val_accuracy: 0.7400\n",
      "Epoch 61/100\n",
      "13/13 [==============================] - 0s 4ms/step - loss: 0.6037 - accuracy: 0.7445 - val_loss: 0.6140 - val_accuracy: 0.7400\n",
      "Epoch 62/100\n",
      "13/13 [==============================] - 0s 4ms/step - loss: 0.6122 - accuracy: 0.7299 - val_loss: 0.6122 - val_accuracy: 0.7400\n",
      "Epoch 63/100\n",
      "13/13 [==============================] - 0s 4ms/step - loss: 0.6102 - accuracy: 0.7331 - val_loss: 0.6104 - val_accuracy: 0.7500\n",
      "Epoch 64/100\n",
      "13/13 [==============================] - 0s 4ms/step - loss: 0.5994 - accuracy: 0.7518 - val_loss: 0.6087 - val_accuracy: 0.7500\n",
      "Epoch 65/100\n",
      "13/13 [==============================] - 0s 4ms/step - loss: 0.6000 - accuracy: 0.7400 - val_loss: 0.6070 - val_accuracy: 0.7500\n",
      "Epoch 66/100\n",
      "13/13 [==============================] - 0s 5ms/step - loss: 0.5966 - accuracy: 0.7413 - val_loss: 0.6050 - val_accuracy: 0.7500\n",
      "Epoch 67/100\n",
      "13/13 [==============================] - 0s 4ms/step - loss: 0.5966 - accuracy: 0.7513 - val_loss: 0.6031 - val_accuracy: 0.7700\n",
      "Epoch 68/100\n",
      "13/13 [==============================] - 0s 4ms/step - loss: 0.5851 - accuracy: 0.7840 - val_loss: 0.6011 - val_accuracy: 0.7700\n",
      "Epoch 69/100\n",
      "13/13 [==============================] - 0s 4ms/step - loss: 0.5853 - accuracy: 0.7677 - val_loss: 0.5994 - val_accuracy: 0.7700\n",
      "Epoch 70/100\n",
      "13/13 [==============================] - 0s 14ms/step - loss: 0.5937 - accuracy: 0.7477 - val_loss: 0.5976 - val_accuracy: 0.7700\n",
      "Epoch 71/100\n",
      "13/13 [==============================] - 0s 4ms/step - loss: 0.5826 - accuracy: 0.7659 - val_loss: 0.5959 - val_accuracy: 0.7700\n",
      "Epoch 72/100\n",
      "13/13 [==============================] - 0s 4ms/step - loss: 0.5769 - accuracy: 0.7733 - val_loss: 0.5942 - val_accuracy: 0.7700\n",
      "Epoch 73/100\n",
      "13/13 [==============================] - 0s 4ms/step - loss: 0.5864 - accuracy: 0.7220 - val_loss: 0.5925 - val_accuracy: 0.7700\n",
      "Epoch 74/100\n",
      "13/13 [==============================] - 0s 4ms/step - loss: 0.5842 - accuracy: 0.7370 - val_loss: 0.5906 - val_accuracy: 0.7700\n",
      "Epoch 75/100\n",
      "13/13 [==============================] - 0s 4ms/step - loss: 0.5840 - accuracy: 0.7396 - val_loss: 0.5888 - val_accuracy: 0.7700\n",
      "Epoch 76/100\n",
      "13/13 [==============================] - 0s 4ms/step - loss: 0.5808 - accuracy: 0.7569 - val_loss: 0.5871 - val_accuracy: 0.7700\n",
      "Epoch 77/100\n",
      "13/13 [==============================] - 0s 4ms/step - loss: 0.5685 - accuracy: 0.7800 - val_loss: 0.5856 - val_accuracy: 0.7700\n",
      "Epoch 78/100\n",
      "13/13 [==============================] - 0s 4ms/step - loss: 0.5704 - accuracy: 0.7818 - val_loss: 0.5839 - val_accuracy: 0.7700\n",
      "Epoch 79/100\n",
      "13/13 [==============================] - 0s 4ms/step - loss: 0.5663 - accuracy: 0.7722 - val_loss: 0.5820 - val_accuracy: 0.7700\n",
      "Epoch 80/100\n",
      "13/13 [==============================] - 0s 4ms/step - loss: 0.5649 - accuracy: 0.7767 - val_loss: 0.5801 - val_accuracy: 0.7700\n",
      "Epoch 81/100\n",
      "13/13 [==============================] - 0s 4ms/step - loss: 0.5631 - accuracy: 0.7936 - val_loss: 0.5785 - val_accuracy: 0.7700\n",
      "Epoch 82/100\n",
      "13/13 [==============================] - 0s 4ms/step - loss: 0.5666 - accuracy: 0.7633 - val_loss: 0.5764 - val_accuracy: 0.7900\n",
      "Epoch 83/100\n",
      "13/13 [==============================] - 0s 4ms/step - loss: 0.5493 - accuracy: 0.8028 - val_loss: 0.5746 - val_accuracy: 0.7900\n",
      "Epoch 84/100\n",
      "13/13 [==============================] - 0s 4ms/step - loss: 0.5664 - accuracy: 0.7680 - val_loss: 0.5728 - val_accuracy: 0.7900\n",
      "Epoch 85/100\n",
      "13/13 [==============================] - 0s 4ms/step - loss: 0.5652 - accuracy: 0.7588 - val_loss: 0.5709 - val_accuracy: 0.7800\n",
      "Epoch 86/100\n",
      "13/13 [==============================] - 0s 4ms/step - loss: 0.5567 - accuracy: 0.7822 - val_loss: 0.5693 - val_accuracy: 0.7900\n",
      "Epoch 87/100\n",
      "13/13 [==============================] - 0s 4ms/step - loss: 0.5554 - accuracy: 0.7847 - val_loss: 0.5676 - val_accuracy: 0.7900\n",
      "Epoch 88/100\n",
      "13/13 [==============================] - 0s 4ms/step - loss: 0.5570 - accuracy: 0.7748 - val_loss: 0.5659 - val_accuracy: 0.7900\n",
      "Epoch 89/100\n",
      "13/13 [==============================] - 0s 4ms/step - loss: 0.5414 - accuracy: 0.8058 - val_loss: 0.5644 - val_accuracy: 0.7900\n",
      "Epoch 90/100\n",
      "13/13 [==============================] - 0s 4ms/step - loss: 0.5424 - accuracy: 0.7920 - val_loss: 0.5627 - val_accuracy: 0.7900\n",
      "Epoch 91/100\n",
      "13/13 [==============================] - 0s 4ms/step - loss: 0.5490 - accuracy: 0.7868 - val_loss: 0.5611 - val_accuracy: 0.7900\n",
      "Epoch 92/100\n",
      "13/13 [==============================] - 0s 4ms/step - loss: 0.5464 - accuracy: 0.7841 - val_loss: 0.5592 - val_accuracy: 0.7900\n",
      "Epoch 93/100\n",
      "13/13 [==============================] - 0s 4ms/step - loss: 0.5352 - accuracy: 0.8109 - val_loss: 0.5574 - val_accuracy: 0.7900\n",
      "Epoch 94/100\n",
      "13/13 [==============================] - 0s 4ms/step - loss: 0.5539 - accuracy: 0.7789 - val_loss: 0.5556 - val_accuracy: 0.7900\n",
      "Epoch 95/100\n",
      "13/13 [==============================] - 0s 4ms/step - loss: 0.5392 - accuracy: 0.7961 - val_loss: 0.5537 - val_accuracy: 0.7900\n",
      "Epoch 96/100\n",
      "13/13 [==============================] - 0s 4ms/step - loss: 0.5404 - accuracy: 0.7722 - val_loss: 0.5520 - val_accuracy: 0.8000\n",
      "Epoch 97/100\n",
      "13/13 [==============================] - 0s 4ms/step - loss: 0.5384 - accuracy: 0.8020 - val_loss: 0.5503 - val_accuracy: 0.8000\n",
      "Epoch 98/100\n",
      "13/13 [==============================] - 0s 4ms/step - loss: 0.5340 - accuracy: 0.7817 - val_loss: 0.5485 - val_accuracy: 0.8100\n",
      "Epoch 99/100\n",
      "13/13 [==============================] - 0s 4ms/step - loss: 0.5460 - accuracy: 0.7655 - val_loss: 0.5465 - val_accuracy: 0.8100\n",
      "Epoch 100/100\n",
      "13/13 [==============================] - 0s 4ms/step - loss: 0.5312 - accuracy: 0.7761 - val_loss: 0.5448 - val_accuracy: 0.8100\n"
     ]
    }
   ],
   "source": [
    "history = m.fit(X, y, batch_size=32, epochs=100, validation_split=0.2)\n",
    "# batch_size: In Deep Learning you usually don't train your model on the whole dataset at once\n",
    "# The batch_size determines how many data points you train on at once before going on to the next batch\n",
    "# epochs: How often do we repeat the training on the whole training data; similar to max_iter in an sklearn model\n",
    "# validation_split: Determines which fraction of the data is used as a validation set"
   ]
  },
  {
   "cell_type": "markdown",
   "metadata": {},
   "source": [
    "**And plot the results!**"
   ]
  },
  {
   "cell_type": "code",
   "execution_count": 35,
   "metadata": {},
   "outputs": [
    {
     "data": {
      "text/plain": [
       "tensorflow.python.keras.callbacks.History"
      ]
     },
     "execution_count": 35,
     "metadata": {},
     "output_type": "execute_result"
    }
   ],
   "source": [
    "type(history)"
   ]
  },
  {
   "cell_type": "code",
   "execution_count": 22,
   "metadata": {},
   "outputs": [
    {
     "data": {
      "image/png": "[encoded data removed]",
      "text/plain": [
       "<Figure size 864x432 with 1 Axes>"
      ]
     },
     "metadata": {
      "needs_background": "light"
     },
     "output_type": "display_data"
    }
   ],
   "source": [
    "plt.plot(history.history['loss'], label='training_loss')\n",
    "plt.plot(history.history['val_loss'], label='validation_loss')\n",
    "plt.title('Training and Validation Loss')\n",
    "plt.xlabel('Epoch')\n",
    "plt.ylabel('Loss')\n",
    "plt.legend()\n",
    "plt.show()"
   ]
  },
  {
   "cell_type": "code",
   "execution_count": 23,
   "metadata": {},
   "outputs": [
    {
     "data": {
      "image/png": "[encoded data removed]",
      "text/plain": [
       "<Figure size 864x432 with 1 Axes>"
      ]
     },
     "metadata": {
      "needs_background": "light"
     },
     "output_type": "display_data"
    }
   ],
   "source": [
    "plt.plot(history.history['accuracy'], label='training_accuracy')\n",
    "plt.plot(history.history['val_accuracy'], label='validation_accuracy')\n",
    "plt.title('Training and Validation Accuracy')\n",
    "plt.xlabel('Epoch')\n",
    "plt.ylabel('Accuracy')\n",
    "plt.legend()\n",
    "plt.show()"
   ]
  },
  {
   "cell_type": "code",
   "execution_count": 24,
   "metadata": {},
   "outputs": [
    {
     "name": "stdout",
     "output_type": "stream",
     "text": [
      "16/16 [==============================] - 0s 804us/step - loss: 0.5348 - accuracy: 0.7880\n"
     ]
    },
    {
     "data": {
      "text/plain": [
       "[0.5347837209701538, 0.7879999876022339]"
      ]
     },
     "execution_count": 24,
     "metadata": {},
     "output_type": "execute_result"
    }
   ],
   "source": [
    "# Evaluate the model\n",
    "m.evaluate(X, y)"
   ]
  },
  {
   "cell_type": "code",
   "execution_count": 25,
   "metadata": {},
   "outputs": [
    {
     "data": {
      "text/plain": [
       "array([[0.5929246 ],\n",
       "       [0.4990587 ],\n",
       "       [0.6252575 ],\n",
       "       [0.31645492],\n",
       "       [0.35922155],\n",
       "       [0.63846534],\n",
       "       [0.61727077],\n",
       "       [0.33212066],\n",
       "       [0.4498827 ],\n",
       "       [0.65190786],\n",
       "       [0.5881756 ],\n",
       "       [0.31279343],\n",
       "       [0.65649855],\n",
       "       [0.38821307],\n",
       "       [0.6409352 ],\n",
       "       [0.6376779 ],\n",
       "       [0.64596367],\n",
       "       [0.536983  ],\n",
       "       [0.5927651 ],\n",
       "       [0.652289  ],\n",
       "       [0.645374  ],\n",
       "       [0.6521692 ],\n",
       "       [0.3613924 ],\n",
       "       [0.6079581 ],\n",
       "       [0.44078225],\n",
       "       [0.62275255],\n",
       "       [0.63196564],\n",
       "       [0.28627688],\n",
       "       [0.3392691 ],\n",
       "       [0.5277953 ],\n",
       "       [0.6540316 ],\n",
       "       [0.50650996],\n",
       "       [0.6592381 ],\n",
       "       [0.29013568],\n",
       "       [0.55927   ],\n",
       "       [0.56142616],\n",
       "       [0.6216857 ],\n",
       "       [0.4806075 ],\n",
       "       [0.27430236],\n",
       "       [0.45420584],\n",
       "       [0.6470511 ],\n",
       "       [0.33267254],\n",
       "       [0.6296726 ],\n",
       "       [0.28761852],\n",
       "       [0.55245304],\n",
       "       [0.47495234],\n",
       "       [0.59523094],\n",
       "       [0.5785043 ],\n",
       "       [0.6462916 ],\n",
       "       [0.53506064],\n",
       "       [0.3434875 ],\n",
       "       [0.2639513 ],\n",
       "       [0.31789166],\n",
       "       [0.63594687],\n",
       "       [0.28001758],\n",
       "       [0.42102367],\n",
       "       [0.310848  ],\n",
       "       [0.5451906 ],\n",
       "       [0.27245277],\n",
       "       [0.3602884 ],\n",
       "       [0.64239746],\n",
       "       [0.3595019 ],\n",
       "       [0.5128432 ],\n",
       "       [0.650379  ],\n",
       "       [0.36427274],\n",
       "       [0.5081692 ],\n",
       "       [0.6550582 ],\n",
       "       [0.46219617],\n",
       "       [0.31296897],\n",
       "       [0.63635457],\n",
       "       [0.62221766],\n",
       "       [0.6015198 ],\n",
       "       [0.3873068 ],\n",
       "       [0.41206753],\n",
       "       [0.5204577 ],\n",
       "       [0.5230813 ],\n",
       "       [0.35141617],\n",
       "       [0.4395324 ],\n",
       "       [0.6483514 ],\n",
       "       [0.65359354],\n",
       "       [0.26319915],\n",
       "       [0.38281888],\n",
       "       [0.62242866],\n",
       "       [0.31679696],\n",
       "       [0.5502097 ],\n",
       "       [0.3892984 ],\n",
       "       [0.28563946],\n",
       "       [0.6395878 ],\n",
       "       [0.5195039 ],\n",
       "       [0.3219481 ],\n",
       "       [0.6155088 ],\n",
       "       [0.6600068 ],\n",
       "       [0.58024454],\n",
       "       [0.5342739 ],\n",
       "       [0.6227554 ],\n",
       "       [0.60596985],\n",
       "       [0.47108212],\n",
       "       [0.5418844 ],\n",
       "       [0.6613251 ],\n",
       "       [0.5984779 ],\n",
       "       [0.3095382 ],\n",
       "       [0.6520615 ],\n",
       "       [0.51106334],\n",
       "       [0.48486415],\n",
       "       [0.544208  ],\n",
       "       [0.4879756 ],\n",
       "       [0.5071311 ],\n",
       "       [0.28315803],\n",
       "       [0.53328097],\n",
       "       [0.37410003],\n",
       "       [0.29584485],\n",
       "       [0.64783394],\n",
       "       [0.57735765],\n",
       "       [0.5889383 ],\n",
       "       [0.65984714],\n",
       "       [0.45574772],\n",
       "       [0.29019272],\n",
       "       [0.2814594 ],\n",
       "       [0.3585971 ],\n",
       "       [0.5558461 ],\n",
       "       [0.26414707],\n",
       "       [0.29905024],\n",
       "       [0.5840383 ],\n",
       "       [0.36693597],\n",
       "       [0.27727634],\n",
       "       [0.28799734],\n",
       "       [0.63582206],\n",
       "       [0.27876404],\n",
       "       [0.35262972],\n",
       "       [0.56157714],\n",
       "       [0.5799858 ],\n",
       "       [0.36964682],\n",
       "       [0.66052246],\n",
       "       [0.403616  ],\n",
       "       [0.27525982],\n",
       "       [0.45571277],\n",
       "       [0.29786447],\n",
       "       [0.59877306],\n",
       "       [0.5593422 ],\n",
       "       [0.4174753 ],\n",
       "       [0.52947223],\n",
       "       [0.2855616 ],\n",
       "       [0.65302265],\n",
       "       [0.43007502],\n",
       "       [0.4709715 ],\n",
       "       [0.38258606],\n",
       "       [0.55906534],\n",
       "       [0.2915175 ],\n",
       "       [0.411502  ],\n",
       "       [0.64953744],\n",
       "       [0.59149593],\n",
       "       [0.32980156],\n",
       "       [0.56130254],\n",
       "       [0.54994583],\n",
       "       [0.6577695 ],\n",
       "       [0.6304668 ],\n",
       "       [0.5786581 ],\n",
       "       [0.25537363],\n",
       "       [0.60415274],\n",
       "       [0.55108744],\n",
       "       [0.29611257],\n",
       "       [0.5706277 ],\n",
       "       [0.6360878 ],\n",
       "       [0.5246634 ],\n",
       "       [0.64506656],\n",
       "       [0.6530938 ],\n",
       "       [0.55108386],\n",
       "       [0.5455406 ],\n",
       "       [0.6458854 ],\n",
       "       [0.30404863],\n",
       "       [0.60677767],\n",
       "       [0.36551496],\n",
       "       [0.61672586],\n",
       "       [0.34780627],\n",
       "       [0.3452954 ],\n",
       "       [0.27781296],\n",
       "       [0.5912134 ],\n",
       "       [0.29540998],\n",
       "       [0.33841223],\n",
       "       [0.5927428 ],\n",
       "       [0.6104507 ],\n",
       "       [0.27746737],\n",
       "       [0.6457267 ],\n",
       "       [0.390359  ],\n",
       "       [0.65868944],\n",
       "       [0.35228366],\n",
       "       [0.6238725 ],\n",
       "       [0.41847894],\n",
       "       [0.29718775],\n",
       "       [0.28612787],\n",
       "       [0.6514892 ],\n",
       "       [0.6105857 ],\n",
       "       [0.6333282 ],\n",
       "       [0.3596928 ],\n",
       "       [0.3289854 ],\n",
       "       [0.2849151 ],\n",
       "       [0.31707603],\n",
       "       [0.5089557 ],\n",
       "       [0.29634163],\n",
       "       [0.6091101 ],\n",
       "       [0.65086603],\n",
       "       [0.4692922 ],\n",
       "       [0.3009928 ],\n",
       "       [0.27011812],\n",
       "       [0.2916317 ],\n",
       "       [0.30496043],\n",
       "       [0.30327666],\n",
       "       [0.5012812 ],\n",
       "       [0.6439063 ],\n",
       "       [0.5886145 ],\n",
       "       [0.33350533],\n",
       "       [0.33086818],\n",
       "       [0.57604384],\n",
       "       [0.45200503],\n",
       "       [0.46292523],\n",
       "       [0.62562287],\n",
       "       [0.6319827 ],\n",
       "       [0.28864557],\n",
       "       [0.59002095],\n",
       "       [0.2697851 ],\n",
       "       [0.633657  ],\n",
       "       [0.42186037],\n",
       "       [0.55575603],\n",
       "       [0.28034627],\n",
       "       [0.34252194],\n",
       "       [0.6010557 ],\n",
       "       [0.27431107],\n",
       "       [0.63619304],\n",
       "       [0.40961865],\n",
       "       [0.50676596],\n",
       "       [0.34882492],\n",
       "       [0.42616647],\n",
       "       [0.6592797 ],\n",
       "       [0.5279867 ],\n",
       "       [0.62354654],\n",
       "       [0.5536271 ],\n",
       "       [0.56052065],\n",
       "       [0.30976802],\n",
       "       [0.3291363 ],\n",
       "       [0.2782728 ],\n",
       "       [0.64641154],\n",
       "       [0.27660593],\n",
       "       [0.6501105 ],\n",
       "       [0.6103474 ],\n",
       "       [0.6411424 ],\n",
       "       [0.46395618],\n",
       "       [0.38627192],\n",
       "       [0.48100486],\n",
       "       [0.52142   ],\n",
       "       [0.28257912],\n",
       "       [0.64935017],\n",
       "       [0.47572184],\n",
       "       [0.65338254],\n",
       "       [0.288404  ],\n",
       "       [0.5118758 ],\n",
       "       [0.6482436 ],\n",
       "       [0.32608274],\n",
       "       [0.6024329 ],\n",
       "       [0.3045799 ],\n",
       "       [0.6483588 ],\n",
       "       [0.4087084 ],\n",
       "       [0.33605754],\n",
       "       [0.6124465 ],\n",
       "       [0.3582874 ],\n",
       "       [0.32917455],\n",
       "       [0.28651908],\n",
       "       [0.65480137],\n",
       "       [0.39325777],\n",
       "       [0.6448469 ],\n",
       "       [0.30113465],\n",
       "       [0.29448277],\n",
       "       [0.27954298],\n",
       "       [0.31629658],\n",
       "       [0.57861173],\n",
       "       [0.483196  ],\n",
       "       [0.6249163 ],\n",
       "       [0.6408366 ],\n",
       "       [0.57357544],\n",
       "       [0.5261908 ],\n",
       "       [0.32097086],\n",
       "       [0.4999482 ],\n",
       "       [0.25554815],\n",
       "       [0.63692987],\n",
       "       [0.28409386],\n",
       "       [0.3433313 ],\n",
       "       [0.6481466 ],\n",
       "       [0.37229064],\n",
       "       [0.6443425 ],\n",
       "       [0.638209  ],\n",
       "       [0.38550806],\n",
       "       [0.5938581 ],\n",
       "       [0.381847  ],\n",
       "       [0.63813496],\n",
       "       [0.53245664],\n",
       "       [0.3587351 ],\n",
       "       [0.28446567],\n",
       "       [0.48247173],\n",
       "       [0.65723807],\n",
       "       [0.65351427],\n",
       "       [0.64475834],\n",
       "       [0.644475  ],\n",
       "       [0.2975576 ],\n",
       "       [0.4634049 ],\n",
       "       [0.3109695 ],\n",
       "       [0.3216419 ],\n",
       "       [0.27566448],\n",
       "       [0.4124112 ],\n",
       "       [0.27440435],\n",
       "       [0.32208222],\n",
       "       [0.32625997],\n",
       "       [0.5979925 ],\n",
       "       [0.2667371 ],\n",
       "       [0.6353879 ],\n",
       "       [0.64159715],\n",
       "       [0.31946748],\n",
       "       [0.41721258],\n",
       "       [0.6354687 ],\n",
       "       [0.36244804],\n",
       "       [0.6297244 ],\n",
       "       [0.52216023],\n",
       "       [0.32243162],\n",
       "       [0.6551436 ],\n",
       "       [0.52579504],\n",
       "       [0.64726347],\n",
       "       [0.427762  ],\n",
       "       [0.4772975 ],\n",
       "       [0.3963613 ],\n",
       "       [0.28760356],\n",
       "       [0.27238196],\n",
       "       [0.62135994],\n",
       "       [0.3210075 ],\n",
       "       [0.54856384],\n",
       "       [0.5456248 ],\n",
       "       [0.5758541 ],\n",
       "       [0.29521942],\n",
       "       [0.30028754],\n",
       "       [0.65624803],\n",
       "       [0.48757148],\n",
       "       [0.30162126],\n",
       "       [0.40664512],\n",
       "       [0.4739048 ],\n",
       "       [0.27321267],\n",
       "       [0.6477134 ],\n",
       "       [0.6174046 ],\n",
       "       [0.26950142],\n",
       "       [0.5760878 ],\n",
       "       [0.6281039 ],\n",
       "       [0.64594126],\n",
       "       [0.2602245 ],\n",
       "       [0.37894547],\n",
       "       [0.39335456],\n",
       "       [0.63920087],\n",
       "       [0.54986787],\n",
       "       [0.39947304],\n",
       "       [0.63259786],\n",
       "       [0.33257464],\n",
       "       [0.2961051 ],\n",
       "       [0.6593727 ],\n",
       "       [0.28442174],\n",
       "       [0.29738766],\n",
       "       [0.33261722],\n",
       "       [0.47634307],\n",
       "       [0.28709638],\n",
       "       [0.45959973],\n",
       "       [0.4575035 ],\n",
       "       [0.5867832 ],\n",
       "       [0.4287246 ],\n",
       "       [0.5150027 ],\n",
       "       [0.28978658],\n",
       "       [0.65212095],\n",
       "       [0.5397197 ],\n",
       "       [0.65113056],\n",
       "       [0.28885186],\n",
       "       [0.37785345],\n",
       "       [0.42727774],\n",
       "       [0.33848226],\n",
       "       [0.65697074],\n",
       "       [0.3019866 ],\n",
       "       [0.5384964 ],\n",
       "       [0.34444034],\n",
       "       [0.39794037],\n",
       "       [0.65510345],\n",
       "       [0.58783215],\n",
       "       [0.5189142 ],\n",
       "       [0.6286068 ],\n",
       "       [0.3830638 ],\n",
       "       [0.48028353],\n",
       "       [0.58480924],\n",
       "       [0.31166965],\n",
       "       [0.5652732 ],\n",
       "       [0.6352794 ],\n",
       "       [0.64076424],\n",
       "       [0.6288432 ],\n",
       "       [0.27528432],\n",
       "       [0.5121788 ],\n",
       "       [0.6559665 ],\n",
       "       [0.6471932 ],\n",
       "       [0.5788905 ],\n",
       "       [0.27416927],\n",
       "       [0.2688331 ],\n",
       "       [0.29439402],\n",
       "       [0.51788783],\n",
       "       [0.64547306],\n",
       "       [0.3480041 ],\n",
       "       [0.6621581 ],\n",
       "       [0.65536654],\n",
       "       [0.50320995],\n",
       "       [0.5873786 ],\n",
       "       [0.42465952],\n",
       "       [0.26897386],\n",
       "       [0.3056891 ],\n",
       "       [0.46466205],\n",
       "       [0.3183328 ],\n",
       "       [0.64288723],\n",
       "       [0.2903554 ],\n",
       "       [0.495418  ],\n",
       "       [0.46820527],\n",
       "       [0.42323035],\n",
       "       [0.49533433],\n",
       "       [0.6437981 ],\n",
       "       [0.58876526],\n",
       "       [0.6493598 ],\n",
       "       [0.6511605 ],\n",
       "       [0.4939974 ],\n",
       "       [0.65475297],\n",
       "       [0.46140057],\n",
       "       [0.26341897],\n",
       "       [0.4562583 ],\n",
       "       [0.35353422],\n",
       "       [0.64743006],\n",
       "       [0.6061778 ],\n",
       "       [0.36516994],\n",
       "       [0.6014487 ],\n",
       "       [0.64778036],\n",
       "       [0.49850842],\n",
       "       [0.56128335],\n",
       "       [0.4076522 ],\n",
       "       [0.28540763],\n",
       "       [0.494921  ],\n",
       "       [0.5430645 ],\n",
       "       [0.4380114 ],\n",
       "       [0.6296936 ],\n",
       "       [0.43448746],\n",
       "       [0.3089764 ],\n",
       "       [0.5128007 ],\n",
       "       [0.6344547 ],\n",
       "       [0.36177844],\n",
       "       [0.5533762 ],\n",
       "       [0.64620334],\n",
       "       [0.5830124 ],\n",
       "       [0.2848823 ],\n",
       "       [0.4807654 ],\n",
       "       [0.5739762 ],\n",
       "       [0.5281007 ],\n",
       "       [0.6654733 ],\n",
       "       [0.26975453],\n",
       "       [0.62859285],\n",
       "       [0.30554157],\n",
       "       [0.6309468 ],\n",
       "       [0.2745412 ],\n",
       "       [0.2907708 ],\n",
       "       [0.44760638],\n",
       "       [0.45784172],\n",
       "       [0.59910405],\n",
       "       [0.316153  ],\n",
       "       [0.36070895],\n",
       "       [0.53302866],\n",
       "       [0.43971613],\n",
       "       [0.6407801 ],\n",
       "       [0.29908222],\n",
       "       [0.41085362],\n",
       "       [0.6422541 ],\n",
       "       [0.2769735 ],\n",
       "       [0.64599836],\n",
       "       [0.40824467],\n",
       "       [0.6521456 ],\n",
       "       [0.5328611 ],\n",
       "       [0.4089405 ],\n",
       "       [0.46607178],\n",
       "       [0.2997364 ],\n",
       "       [0.33514196],\n",
       "       [0.31699818],\n",
       "       [0.58092165],\n",
       "       [0.34993315],\n",
       "       [0.626633  ],\n",
       "       [0.53390664],\n",
       "       [0.65066326],\n",
       "       [0.5358187 ],\n",
       "       [0.26386315],\n",
       "       [0.6445764 ],\n",
       "       [0.3364977 ],\n",
       "       [0.6509237 ],\n",
       "       [0.5456627 ],\n",
       "       [0.3033309 ],\n",
       "       [0.3707645 ],\n",
       "       [0.36389786],\n",
       "       [0.45976815],\n",
       "       [0.5017607 ],\n",
       "       [0.64266396],\n",
       "       [0.3208293 ]], dtype=float32)"
      ]
     },
     "execution_count": 25,
     "metadata": {},
     "output_type": "execute_result"
    }
   ],
   "source": [
    "# Make predictions\n",
    "m.predict(X)"
   ]
  },
  {
   "cell_type": "code",
   "execution_count": 27,
   "metadata": {},
   "outputs": [
    {
     "data": {
      "text/plain": [
       "array([[ 1.4682807 , -1.6668885 ],\n",
       "       [-0.08525697,  1.3401841 ]], dtype=float32)"
      ]
     },
     "execution_count": 27,
     "metadata": {},
     "output_type": "execute_result"
    }
   ],
   "source": [
    "# Inspect the weights of the Neural Network\n",
    "m.get_weights()[0]"
   ]
  },
  {
   "cell_type": "code",
   "execution_count": 28,
   "metadata": {},
   "outputs": [
    {
     "data": {
      "text/plain": [
       "array([0.04976303, 0.28972796], dtype=float32)"
      ]
     },
     "execution_count": 28,
     "metadata": {},
     "output_type": "execute_result"
    }
   ],
   "source": [
    "m.get_weights()[1]"
   ]
  },
  {
   "cell_type": "code",
   "execution_count": 29,
   "metadata": {},
   "outputs": [
    {
     "name": "stdout",
     "output_type": "stream",
     "text": [
      "Model: \"sequential\"\n",
      "_________________________________________________________________\n",
      "Layer (type)                 Output Shape              Param #   \n",
      "=================================================================\n",
      "dense (Dense)                (None, 2)                 6         \n",
      "_________________________________________________________________\n",
      "dense_1 (Dense)              (None, 1)                 3         \n",
      "=================================================================\n",
      "Total params: 9\n",
      "Trainable params: 9\n",
      "Non-trainable params: 0\n",
      "_________________________________________________________________\n"
     ]
    }
   ],
   "source": [
    "m.summary()"
   ]
  },
  {
   "cell_type": "code",
   "execution_count": 31,
   "metadata": {},
   "outputs": [
    {
     "data": {
      "text/plain": [
       "<tensorflow.python.keras.engine.sequential.Sequential at 0x7ffac27b60f0>"
      ]
     },
     "execution_count": 31,
     "metadata": {},
     "output_type": "execute_result"
    }
   ],
   "source": [
    "m."
   ]
  },
  {
   "cell_type": "markdown",
   "metadata": {},
   "source": [
    "### Where to Begin Practicing: MNIST"
   ]
  },
  {
   "cell_type": "code",
   "execution_count": 32,
   "metadata": {},
   "outputs": [],
   "source": [
    "from tensorflow.keras.datasets import mnist\n",
    "\n",
    "(X_train, y_train), (X_test, y_test) = mnist.load_data()"
   ]
  },
  {
   "cell_type": "code",
   "execution_count": 33,
   "metadata": {},
   "outputs": [
    {
     "data": {
      "text/plain": [
       "<matplotlib.image.AxesImage at 0x7ffaa4dc78d0>"
      ]
     },
     "execution_count": 33,
     "metadata": {},
     "output_type": "execute_result"
    },
    {
     "data": {
      "image/png": "[encoded data removed]",
      "text/plain": [
       "<Figure size 864x432 with 1 Axes>"
      ]
     },
     "metadata": {
      "needs_background": "light"
     },
     "output_type": "display_data"
    }
   ],
   "source": [
    "# Show the first image\n",
    "plt.imshow(X_train[0], cmap=plt.cm.Greys)"
   ]
  },
  {
   "cell_type": "code",
   "execution_count": 34,
   "metadata": {},
   "outputs": [
    {
     "data": {
      "text/plain": [
       "5"
      ]
     },
     "execution_count": 34,
     "metadata": {},
     "output_type": "execute_result"
    }
   ],
   "source": [
    "# Show the first y value\n",
    "y_train[0]"
   ]
  },
  {
   "cell_type": "code",
   "execution_count": 36,
   "metadata": {},
   "outputs": [
    {
     "data": {
      "image/png": "[encoded data removed]",
      "text/plain": [
       "<Figure size 864x432 with 25 Axes>"
      ]
     },
     "metadata": {
      "needs_background": "light"
     },
     "output_type": "display_data"
    }
   ],
   "source": [
    "# Plot the first 25 digits\n",
    "for i in range(25):\n",
    "    plt.subplot(5, 5, i+1)\n",
    "    plt.imshow(X_train[i], cmap=plt.cm.Greys)\n",
    "    plt.axis('off')"
   ]
  },
  {
   "cell_type": "code",
   "execution_count": 39,
   "metadata": {},
   "outputs": [
    {
     "data": {
      "text/plain": [
       "(60000, 28, 28)"
      ]
     },
     "execution_count": 39,
     "metadata": {},
     "output_type": "execute_result"
    }
   ],
   "source": [
    "# Inspect the shape of X\n",
    "X_train.shape\n",
    "\n",
    "# 60_000: Nr. of handwritten digits in the dataset; size of the dataset\n",
    "# 28*28: image is 28 * 28 pixels"
   ]
  },
  {
   "cell_type": "code",
   "execution_count": 40,
   "metadata": {},
   "outputs": [
    {
     "data": {
      "text/plain": [
       "(60000,)"
      ]
     },
     "execution_count": 40,
     "metadata": {},
     "output_type": "execute_result"
    }
   ],
   "source": [
    "# Inspect the shape of y\n",
    "y_train.shape"
   ]
  },
  {
   "cell_type": "code",
   "execution_count": 41,
   "metadata": {},
   "outputs": [
    {
     "data": {
      "text/plain": [
       "(28, 28)"
      ]
     },
     "execution_count": 41,
     "metadata": {},
     "output_type": "execute_result"
    }
   ],
   "source": [
    "# Look at the shape of a single image\n",
    "X_train[0].shape"
   ]
  },
  {
   "cell_type": "code",
   "execution_count": 44,
   "metadata": {},
   "outputs": [
    {
     "data": {
      "text/plain": [
       "(60000, 784)"
      ]
     },
     "execution_count": 44,
     "metadata": {},
     "output_type": "execute_result"
    }
   ],
   "source": [
    "X_train.reshape(60000, 784).shape"
   ]
  },
  {
   "cell_type": "code",
   "execution_count": 46,
   "metadata": {},
   "outputs": [
    {
     "data": {
      "text/plain": [
       "array([[0, 0, 0, ..., 0, 0, 0],\n",
       "       [0, 0, 0, ..., 0, 0, 0],\n",
       "       [0, 0, 0, ..., 0, 0, 0],\n",
       "       ...,\n",
       "       [0, 0, 0, ..., 0, 0, 0],\n",
       "       [0, 0, 0, ..., 0, 0, 0],\n",
       "       [0, 0, 0, ..., 0, 0, 0]], dtype=uint8)"
      ]
     },
     "execution_count": 46,
     "metadata": {},
     "output_type": "execute_result"
    }
   ],
   "source": [
    "X_train.reshape(60000, -1)"
   ]
  },
  {
   "cell_type": "code",
   "execution_count": 47,
   "metadata": {},
   "outputs": [
    {
     "data": {
      "text/plain": [
       "(60000, 784)"
      ]
     },
     "execution_count": 47,
     "metadata": {},
     "output_type": "execute_result"
    }
   ],
   "source": [
    "# We want the input image to be a flat array.\n",
    "# Flatten the input\n",
    "X_train = X_train.reshape(60000, -1)\n",
    "X_train.shape"
   ]
  },
  {
   "cell_type": "code",
   "execution_count": 48,
   "metadata": {},
   "outputs": [
    {
     "data": {
      "text/html": [
       "<div>\n",
       "<style scoped>\n",
       "    .dataframe tbody tr th:only-of-type {\n",
       "        vertical-align: middle;\n",
       "    }\n",
       "\n",
       "    .dataframe tbody tr th {\n",
       "        vertical-align: top;\n",
       "    }\n",
       "\n",
       "    .dataframe thead th {\n",
       "        text-align: right;\n",
       "    }\n",
       "</style>\n",
       "<table border=\"1\" class=\"dataframe\">\n",
       "  <thead>\n",
       "    <tr style=\"text-align: right;\">\n",
       "      <th></th>\n",
       "      <th>0</th>\n",
       "      <th>1</th>\n",
       "      <th>2</th>\n",
       "      <th>3</th>\n",
       "      <th>4</th>\n",
       "      <th>5</th>\n",
       "      <th>6</th>\n",
       "      <th>7</th>\n",
       "      <th>8</th>\n",
       "      <th>9</th>\n",
       "      <th>...</th>\n",
       "      <th>774</th>\n",
       "      <th>775</th>\n",
       "      <th>776</th>\n",
       "      <th>777</th>\n",
       "      <th>778</th>\n",
       "      <th>779</th>\n",
       "      <th>780</th>\n",
       "      <th>781</th>\n",
       "      <th>782</th>\n",
       "      <th>783</th>\n",
       "    </tr>\n",
       "  </thead>\n",
       "  <tbody>\n",
       "    <tr>\n",
       "      <th>0</th>\n",
       "      <td>0</td>\n",
       "      <td>0</td>\n",
       "      <td>0</td>\n",
       "      <td>0</td>\n",
       "      <td>0</td>\n",
       "      <td>0</td>\n",
       "      <td>0</td>\n",
       "      <td>0</td>\n",
       "      <td>0</td>\n",
       "      <td>0</td>\n",
       "      <td>...</td>\n",
       "      <td>0</td>\n",
       "      <td>0</td>\n",
       "      <td>0</td>\n",
       "      <td>0</td>\n",
       "      <td>0</td>\n",
       "      <td>0</td>\n",
       "      <td>0</td>\n",
       "      <td>0</td>\n",
       "      <td>0</td>\n",
       "      <td>0</td>\n",
       "    </tr>\n",
       "    <tr>\n",
       "      <th>1</th>\n",
       "      <td>0</td>\n",
       "      <td>0</td>\n",
       "      <td>0</td>\n",
       "      <td>0</td>\n",
       "      <td>0</td>\n",
       "      <td>0</td>\n",
       "      <td>0</td>\n",
       "      <td>0</td>\n",
       "      <td>0</td>\n",
       "      <td>0</td>\n",
       "      <td>...</td>\n",
       "      <td>0</td>\n",
       "      <td>0</td>\n",
       "      <td>0</td>\n",
       "      <td>0</td>\n",
       "      <td>0</td>\n",
       "      <td>0</td>\n",
       "      <td>0</td>\n",
       "      <td>0</td>\n",
       "      <td>0</td>\n",
       "      <td>0</td>\n",
       "    </tr>\n",
       "    <tr>\n",
       "      <th>2</th>\n",
       "      <td>0</td>\n",
       "      <td>0</td>\n",
       "      <td>0</td>\n",
       "      <td>0</td>\n",
       "      <td>0</td>\n",
       "      <td>0</td>\n",
       "      <td>0</td>\n",
       "      <td>0</td>\n",
       "      <td>0</td>\n",
       "      <td>0</td>\n",
       "      <td>...</td>\n",
       "      <td>0</td>\n",
       "      <td>0</td>\n",
       "      <td>0</td>\n",
       "      <td>0</td>\n",
       "      <td>0</td>\n",
       "      <td>0</td>\n",
       "      <td>0</td>\n",
       "      <td>0</td>\n",
       "      <td>0</td>\n",
       "      <td>0</td>\n",
       "    </tr>\n",
       "    <tr>\n",
       "      <th>3</th>\n",
       "      <td>0</td>\n",
       "      <td>0</td>\n",
       "      <td>0</td>\n",
       "      <td>0</td>\n",
       "      <td>0</td>\n",
       "      <td>0</td>\n",
       "      <td>0</td>\n",
       "      <td>0</td>\n",
       "      <td>0</td>\n",
       "      <td>0</td>\n",
       "      <td>...</td>\n",
       "      <td>0</td>\n",
       "      <td>0</td>\n",
       "      <td>0</td>\n",
       "      <td>0</td>\n",
       "      <td>0</td>\n",
       "      <td>0</td>\n",
       "      <td>0</td>\n",
       "      <td>0</td>\n",
       "      <td>0</td>\n",
       "      <td>0</td>\n",
       "    </tr>\n",
       "    <tr>\n",
       "      <th>4</th>\n",
       "      <td>0</td>\n",
       "      <td>0</td>\n",
       "      <td>0</td>\n",
       "      <td>0</td>\n",
       "      <td>0</td>\n",
       "      <td>0</td>\n",
       "      <td>0</td>\n",
       "      <td>0</td>\n",
       "      <td>0</td>\n",
       "      <td>0</td>\n",
       "      <td>...</td>\n",
       "      <td>0</td>\n",
       "      <td>0</td>\n",
       "      <td>0</td>\n",
       "      <td>0</td>\n",
       "      <td>0</td>\n",
       "      <td>0</td>\n",
       "      <td>0</td>\n",
       "      <td>0</td>\n",
       "      <td>0</td>\n",
       "      <td>0</td>\n",
       "    </tr>\n",
       "    <tr>\n",
       "      <th>...</th>\n",
       "      <td>...</td>\n",
       "      <td>...</td>\n",
       "      <td>...</td>\n",
       "      <td>...</td>\n",
       "      <td>...</td>\n",
       "      <td>...</td>\n",
       "      <td>...</td>\n",
       "      <td>...</td>\n",
       "      <td>...</td>\n",
       "      <td>...</td>\n",
       "      <td>...</td>\n",
       "      <td>...</td>\n",
       "      <td>...</td>\n",
       "      <td>...</td>\n",
       "      <td>...</td>\n",
       "      <td>...</td>\n",
       "      <td>...</td>\n",
       "      <td>...</td>\n",
       "      <td>...</td>\n",
       "      <td>...</td>\n",
       "      <td>...</td>\n",
       "    </tr>\n",
       "    <tr>\n",
       "      <th>59995</th>\n",
       "      <td>0</td>\n",
       "      <td>0</td>\n",
       "      <td>0</td>\n",
       "      <td>0</td>\n",
       "      <td>0</td>\n",
       "      <td>0</td>\n",
       "      <td>0</td>\n",
       "      <td>0</td>\n",
       "      <td>0</td>\n",
       "      <td>0</td>\n",
       "      <td>...</td>\n",
       "      <td>0</td>\n",
       "      <td>0</td>\n",
       "      <td>0</td>\n",
       "      <td>0</td>\n",
       "      <td>0</td>\n",
       "      <td>0</td>\n",
       "      <td>0</td>\n",
       "      <td>0</td>\n",
       "      <td>0</td>\n",
       "      <td>0</td>\n",
       "    </tr>\n",
       "    <tr>\n",
       "      <th>59996</th>\n",
       "      <td>0</td>\n",
       "      <td>0</td>\n",
       "      <td>0</td>\n",
       "      <td>0</td>\n",
       "      <td>0</td>\n",
       "      <td>0</td>\n",
       "      <td>0</td>\n",
       "      <td>0</td>\n",
       "      <td>0</td>\n",
       "      <td>0</td>\n",
       "      <td>...</td>\n",
       "      <td>0</td>\n",
       "      <td>0</td>\n",
       "      <td>0</td>\n",
       "      <td>0</td>\n",
       "      <td>0</td>\n",
       "      <td>0</td>\n",
       "      <td>0</td>\n",
       "      <td>0</td>\n",
       "      <td>0</td>\n",
       "      <td>0</td>\n",
       "    </tr>\n",
       "    <tr>\n",
       "      <th>59997</th>\n",
       "      <td>0</td>\n",
       "      <td>0</td>\n",
       "      <td>0</td>\n",
       "      <td>0</td>\n",
       "      <td>0</td>\n",
       "      <td>0</td>\n",
       "      <td>0</td>\n",
       "      <td>0</td>\n",
       "      <td>0</td>\n",
       "      <td>0</td>\n",
       "      <td>...</td>\n",
       "      <td>0</td>\n",
       "      <td>0</td>\n",
       "      <td>0</td>\n",
       "      <td>0</td>\n",
       "      <td>0</td>\n",
       "      <td>0</td>\n",
       "      <td>0</td>\n",
       "      <td>0</td>\n",
       "      <td>0</td>\n",
       "      <td>0</td>\n",
       "    </tr>\n",
       "    <tr>\n",
       "      <th>59998</th>\n",
       "      <td>0</td>\n",
       "      <td>0</td>\n",
       "      <td>0</td>\n",
       "      <td>0</td>\n",
       "      <td>0</td>\n",
       "      <td>0</td>\n",
       "      <td>0</td>\n",
       "      <td>0</td>\n",
       "      <td>0</td>\n",
       "      <td>0</td>\n",
       "      <td>...</td>\n",
       "      <td>0</td>\n",
       "      <td>0</td>\n",
       "      <td>0</td>\n",
       "      <td>0</td>\n",
       "      <td>0</td>\n",
       "      <td>0</td>\n",
       "      <td>0</td>\n",
       "      <td>0</td>\n",
       "      <td>0</td>\n",
       "      <td>0</td>\n",
       "    </tr>\n",
       "    <tr>\n",
       "      <th>59999</th>\n",
       "      <td>0</td>\n",
       "      <td>0</td>\n",
       "      <td>0</td>\n",
       "      <td>0</td>\n",
       "      <td>0</td>\n",
       "      <td>0</td>\n",
       "      <td>0</td>\n",
       "      <td>0</td>\n",
       "      <td>0</td>\n",
       "      <td>0</td>\n",
       "      <td>...</td>\n",
       "      <td>0</td>\n",
       "      <td>0</td>\n",
       "      <td>0</td>\n",
       "      <td>0</td>\n",
       "      <td>0</td>\n",
       "      <td>0</td>\n",
       "      <td>0</td>\n",
       "      <td>0</td>\n",
       "      <td>0</td>\n",
       "      <td>0</td>\n",
       "    </tr>\n",
       "  </tbody>\n",
       "</table>\n",
       "<p>60000 rows × 784 columns</p>\n",
       "</div>"
      ],
      "text/plain": [
       "       0    1    2    3    4    5    6    7    8    9    ...  774  775  776  \\\n",
       "0        0    0    0    0    0    0    0    0    0    0  ...    0    0    0   \n",
       "1        0    0    0    0    0    0    0    0    0    0  ...    0    0    0   \n",
       "2        0    0    0    0    0    0    0    0    0    0  ...    0    0    0   \n",
       "3        0    0    0    0    0    0    0    0    0    0  ...    0    0    0   \n",
       "4        0    0    0    0    0    0    0    0    0    0  ...    0    0    0   \n",
       "...    ...  ...  ...  ...  ...  ...  ...  ...  ...  ...  ...  ...  ...  ...   \n",
       "59995    0    0    0    0    0    0    0    0    0    0  ...    0    0    0   \n",
       "59996    0    0    0    0    0    0    0    0    0    0  ...    0    0    0   \n",
       "59997    0    0    0    0    0    0    0    0    0    0  ...    0    0    0   \n",
       "59998    0    0    0    0    0    0    0    0    0    0  ...    0    0    0   \n",
       "59999    0    0    0    0    0    0    0    0    0    0  ...    0    0    0   \n",
       "\n",
       "       777  778  779  780  781  782  783  \n",
       "0        0    0    0    0    0    0    0  \n",
       "1        0    0    0    0    0    0    0  \n",
       "2        0    0    0    0    0    0    0  \n",
       "3        0    0    0    0    0    0    0  \n",
       "4        0    0    0    0    0    0    0  \n",
       "...    ...  ...  ...  ...  ...  ...  ...  \n",
       "59995    0    0    0    0    0    0    0  \n",
       "59996    0    0    0    0    0    0    0  \n",
       "59997    0    0    0    0    0    0    0  \n",
       "59998    0    0    0    0    0    0    0  \n",
       "59999    0    0    0    0    0    0    0  \n",
       "\n",
       "[60000 rows x 784 columns]"
      ]
     },
     "execution_count": 48,
     "metadata": {},
     "output_type": "execute_result"
    }
   ],
   "source": [
    "# Understand what it means to flatten the images\n",
    "import pandas as pd\n",
    "pd.DataFrame(X_train)"
   ]
  },
  {
   "cell_type": "markdown",
   "metadata": {},
   "source": [
    "#### Let's build a model\n",
    "\n",
    "There will be two intricacies you have to take care of.\n",
    "\n",
    "1. Defining the right input shape\n",
    "2. Dealing with the shape of y"
   ]
  },
  {
   "cell_type": "code",
   "execution_count": null,
   "metadata": {},
   "outputs": [],
   "source": [
    "# input_shape of first layer has to be (784,)"
   ]
  },
  {
   "cell_type": "code",
   "execution_count": 49,
   "metadata": {},
   "outputs": [],
   "source": [
    "from tensorflow.keras.utils import to_categorical"
   ]
  },
  {
   "cell_type": "code",
   "execution_count": 51,
   "metadata": {},
   "outputs": [
    {
     "data": {
      "text/plain": [
       "array([5, 0, 4, ..., 5, 6, 8], dtype=uint8)"
      ]
     },
     "execution_count": 51,
     "metadata": {},
     "output_type": "execute_result"
    }
   ],
   "source": [
    "y_train"
   ]
  },
  {
   "cell_type": "code",
   "execution_count": 52,
   "metadata": {},
   "outputs": [],
   "source": [
    "# Before passing y_train into the model\n",
    "y_train = to_categorical(y_train) # one-hot-encode the y values"
   ]
  },
  {
   "cell_type": "code",
   "execution_count": 54,
   "metadata": {},
   "outputs": [
    {
     "data": {
      "text/plain": [
       "array([0., 0., 0., 0., 0., 1., 0., 0., 0., 0.], dtype=float32)"
      ]
     },
     "execution_count": 54,
     "metadata": {},
     "output_type": "execute_result"
    }
   ],
   "source": [
    "y_train[0]"
   ]
  },
  {
   "cell_type": "code",
   "execution_count": null,
   "metadata": {},
   "outputs": [],
   "source": [
    "# loss='categorical_crossentropy'"
   ]
  },
  {
   "cell_type": "code",
   "execution_count": 56,
   "metadata": {},
   "outputs": [],
   "source": [
    "mnist = Sequential([\n",
    "    Dense(units=10, activation='sigmoid', input_shape=(784,)), # 10 neurons in the hidden layer is arbitrary\n",
    "    Dense(units=10, activation='softmax') # 10 neurons in the output layer because we have 10 classes /digits\n",
    "])"
   ]
  },
  {
   "cell_type": "code",
   "execution_count": 57,
   "metadata": {},
   "outputs": [],
   "source": [
    "mnist.compile(optimizer='rmsprop', loss='categorical_crossentropy', metrics=['accuracy'])"
   ]
  },
  {
   "cell_type": "code",
   "execution_count": 58,
   "metadata": {},
   "outputs": [
    {
     "name": "stdout",
     "output_type": "stream",
     "text": [
      "Epoch 1/100\n",
      "1500/1500 [==============================] - 2s 1ms/step - loss: 1.6952 - accuracy: 0.4959 - val_loss: 0.8088 - val_accuracy: 0.8056\n",
      "Epoch 2/100\n",
      "1500/1500 [==============================] - 1s 927us/step - loss: 0.7723 - accuracy: 0.7966 - val_loss: 0.5982 - val_accuracy: 0.8422\n",
      "Epoch 3/100\n",
      "1500/1500 [==============================] - 1s 932us/step - loss: 0.6060 - accuracy: 0.8324 - val_loss: 0.5286 - val_accuracy: 0.8522\n",
      "Epoch 4/100\n",
      "1500/1500 [==============================] - 1s 901us/step - loss: 0.5382 - accuracy: 0.8499 - val_loss: 0.4965 - val_accuracy: 0.8642\n",
      "Epoch 5/100\n",
      "1500/1500 [==============================] - 1s 899us/step - loss: 0.5103 - accuracy: 0.8572 - val_loss: 0.5291 - val_accuracy: 0.8461\n",
      "Epoch 6/100\n",
      "1500/1500 [==============================] - 1s 951us/step - loss: 0.5264 - accuracy: 0.8499 - val_loss: 0.4635 - val_accuracy: 0.8671\n",
      "Epoch 7/100\n",
      "1500/1500 [==============================] - 2s 1ms/step - loss: 0.4916 - accuracy: 0.8611 - val_loss: 0.4811 - val_accuracy: 0.8630\n",
      "Epoch 8/100\n",
      "1500/1500 [==============================] - 1s 982us/step - loss: 0.4738 - accuracy: 0.8659 - val_loss: 0.4578 - val_accuracy: 0.8749\n",
      "Epoch 9/100\n",
      "1500/1500 [==============================] - 2s 1ms/step - loss: 0.4699 - accuracy: 0.8661 - val_loss: 0.4490 - val_accuracy: 0.8744\n",
      "Epoch 10/100\n",
      "1500/1500 [==============================] - 2s 1ms/step - loss: 0.4722 - accuracy: 0.8637 - val_loss: 0.4452 - val_accuracy: 0.8717\n",
      "Epoch 11/100\n",
      "1500/1500 [==============================] - 2s 1ms/step - loss: 0.4594 - accuracy: 0.8660 - val_loss: 0.4379 - val_accuracy: 0.8765\n",
      "Epoch 12/100\n",
      "1500/1500 [==============================] - 2s 1ms/step - loss: 0.4566 - accuracy: 0.8675 - val_loss: 0.4506 - val_accuracy: 0.8717\n",
      "Epoch 13/100\n",
      "1500/1500 [==============================] - 2s 1ms/step - loss: 0.4533 - accuracy: 0.8683 - val_loss: 0.4434 - val_accuracy: 0.8669\n",
      "Epoch 14/100\n",
      "1500/1500 [==============================] - 2s 1ms/step - loss: 0.4444 - accuracy: 0.8709 - val_loss: 0.4417 - val_accuracy: 0.8711\n",
      "Epoch 15/100\n",
      "1500/1500 [==============================] - 2s 1ms/step - loss: 0.4402 - accuracy: 0.8754 - val_loss: 0.4616 - val_accuracy: 0.8625\n",
      "Epoch 16/100\n",
      "1500/1500 [==============================] - 1s 986us/step - loss: 0.4382 - accuracy: 0.8734 - val_loss: 0.4379 - val_accuracy: 0.8780\n",
      "Epoch 17/100\n",
      "1500/1500 [==============================] - 2s 1ms/step - loss: 0.4363 - accuracy: 0.8769 - val_loss: 0.4271 - val_accuracy: 0.8765\n",
      "Epoch 18/100\n",
      "1500/1500 [==============================] - 2s 1ms/step - loss: 0.4298 - accuracy: 0.8779 - val_loss: 0.4296 - val_accuracy: 0.8786\n",
      "Epoch 19/100\n",
      "1500/1500 [==============================] - 2s 1ms/step - loss: 0.4479 - accuracy: 0.8732 - val_loss: 0.4366 - val_accuracy: 0.8751\n",
      "Epoch 20/100\n",
      "1500/1500 [==============================] - 2s 1ms/step - loss: 0.4221 - accuracy: 0.8815 - val_loss: 0.4413 - val_accuracy: 0.8769\n",
      "Epoch 21/100\n",
      "1500/1500 [==============================] - 2s 1ms/step - loss: 0.4250 - accuracy: 0.8790 - val_loss: 0.4196 - val_accuracy: 0.8810\n",
      "Epoch 22/100\n",
      "1500/1500 [==============================] - 2s 1ms/step - loss: 0.4271 - accuracy: 0.8779 - val_loss: 0.4175 - val_accuracy: 0.8813\n",
      "Epoch 23/100\n",
      "1500/1500 [==============================] - 2s 1ms/step - loss: 0.4271 - accuracy: 0.8775 - val_loss: 0.4166 - val_accuracy: 0.8846\n",
      "Epoch 24/100\n",
      "1500/1500 [==============================] - 2s 1ms/step - loss: 0.4265 - accuracy: 0.8785 - val_loss: 0.4284 - val_accuracy: 0.8756\n",
      "Epoch 25/100\n",
      "1500/1500 [==============================] - 2s 1ms/step - loss: 0.4310 - accuracy: 0.8777 - val_loss: 0.4289 - val_accuracy: 0.8758\n",
      "Epoch 26/100\n",
      "1500/1500 [==============================] - 1s 998us/step - loss: 0.4250 - accuracy: 0.8779 - val_loss: 0.4307 - val_accuracy: 0.8772\n",
      "Epoch 27/100\n",
      "1500/1500 [==============================] - 2s 1ms/step - loss: 0.4198 - accuracy: 0.8800 - val_loss: 0.4387 - val_accuracy: 0.8704\n",
      "Epoch 28/100\n",
      "1500/1500 [==============================] - 2s 1ms/step - loss: 0.4166 - accuracy: 0.8818 - val_loss: 0.4146 - val_accuracy: 0.8813\n",
      "Epoch 29/100\n",
      "1500/1500 [==============================] - 2s 1ms/step - loss: 0.4089 - accuracy: 0.8831 - val_loss: 0.4177 - val_accuracy: 0.8831\n",
      "Epoch 30/100\n",
      "1500/1500 [==============================] - 2s 1ms/step - loss: 0.4178 - accuracy: 0.8839 - val_loss: 0.4187 - val_accuracy: 0.8839\n",
      "Epoch 31/100\n",
      "1500/1500 [==============================] - 2s 1ms/step - loss: 0.4109 - accuracy: 0.8849 - val_loss: 0.4016 - val_accuracy: 0.8832\n",
      "Epoch 32/100\n",
      "1500/1500 [==============================] - 2s 1ms/step - loss: 0.4091 - accuracy: 0.8812 - val_loss: 0.4153 - val_accuracy: 0.8768\n",
      "Epoch 33/100\n",
      "1500/1500 [==============================] - 2s 1ms/step - loss: 0.4051 - accuracy: 0.8823 - val_loss: 0.4020 - val_accuracy: 0.8849\n",
      "Epoch 34/100\n",
      "1500/1500 [==============================] - 2s 1ms/step - loss: 0.4133 - accuracy: 0.8808 - val_loss: 0.4185 - val_accuracy: 0.8783\n",
      "Epoch 35/100\n",
      "1500/1500 [==============================] - 2s 1ms/step - loss: 0.4079 - accuracy: 0.8826 - val_loss: 0.4016 - val_accuracy: 0.8834\n",
      "Epoch 36/100\n",
      "1500/1500 [==============================] - 2s 1ms/step - loss: 0.4020 - accuracy: 0.8847 - val_loss: 0.4157 - val_accuracy: 0.8769\n",
      "Epoch 37/100\n",
      "1500/1500 [==============================] - 2s 1ms/step - loss: 0.3907 - accuracy: 0.8888 - val_loss: 0.4045 - val_accuracy: 0.8849\n",
      "Epoch 38/100\n",
      "1500/1500 [==============================] - 2s 1ms/step - loss: 0.3969 - accuracy: 0.8873 - val_loss: 0.4071 - val_accuracy: 0.8839\n",
      "Epoch 39/100\n",
      "1500/1500 [==============================] - 2s 1ms/step - loss: 0.4146 - accuracy: 0.8844 - val_loss: 0.4142 - val_accuracy: 0.8827\n",
      "Epoch 40/100\n",
      "1500/1500 [==============================] - 2s 1ms/step - loss: 0.4133 - accuracy: 0.8838 - val_loss: 0.4369 - val_accuracy: 0.8740\n",
      "Epoch 41/100\n",
      "1500/1500 [==============================] - 2s 1ms/step - loss: 0.4254 - accuracy: 0.8801 - val_loss: 0.4207 - val_accuracy: 0.8780\n",
      "Epoch 42/100\n",
      "1500/1500 [==============================] - 2s 1ms/step - loss: 0.4084 - accuracy: 0.8825 - val_loss: 0.4174 - val_accuracy: 0.8779\n",
      "Epoch 43/100\n",
      "1500/1500 [==============================] - 2s 1ms/step - loss: 0.4120 - accuracy: 0.8810 - val_loss: 0.4126 - val_accuracy: 0.8788\n",
      "Epoch 44/100\n",
      "1500/1500 [==============================] - 2s 1ms/step - loss: 0.4030 - accuracy: 0.8841 - val_loss: 0.4014 - val_accuracy: 0.8811\n",
      "Epoch 45/100\n",
      "1500/1500 [==============================] - 2s 1ms/step - loss: 0.4027 - accuracy: 0.8829 - val_loss: 0.3947 - val_accuracy: 0.8870\n",
      "Epoch 46/100\n",
      "1500/1500 [==============================] - 2s 1ms/step - loss: 0.4062 - accuracy: 0.8837 - val_loss: 0.4109 - val_accuracy: 0.8830\n",
      "Epoch 47/100\n",
      "1500/1500 [==============================] - 2s 1ms/step - loss: 0.3962 - accuracy: 0.8857 - val_loss: 0.4184 - val_accuracy: 0.8820\n",
      "Epoch 48/100\n",
      "1500/1500 [==============================] - 2s 1ms/step - loss: 0.4034 - accuracy: 0.8845 - val_loss: 0.4009 - val_accuracy: 0.8867\n",
      "Epoch 49/100\n",
      "1500/1500 [==============================] - 2s 1ms/step - loss: 0.3966 - accuracy: 0.8854 - val_loss: 0.4238 - val_accuracy: 0.8753\n",
      "Epoch 50/100\n",
      "1500/1500 [==============================] - 2s 1ms/step - loss: 0.3997 - accuracy: 0.8849 - val_loss: 0.4008 - val_accuracy: 0.8834\n",
      "Epoch 51/100\n",
      "1500/1500 [==============================] - 2s 1ms/step - loss: 0.4026 - accuracy: 0.8852 - val_loss: 0.3999 - val_accuracy: 0.8869\n",
      "Epoch 52/100\n",
      "1500/1500 [==============================] - 2s 1ms/step - loss: 0.4195 - accuracy: 0.8808 - val_loss: 0.4041 - val_accuracy: 0.8837\n",
      "Epoch 53/100\n",
      "1500/1500 [==============================] - 2s 1ms/step - loss: 0.4136 - accuracy: 0.8813 - val_loss: 0.3902 - val_accuracy: 0.8891\n",
      "Epoch 54/100\n",
      "1500/1500 [==============================] - 2s 1ms/step - loss: 0.3894 - accuracy: 0.8865 - val_loss: 0.4047 - val_accuracy: 0.8845\n",
      "Epoch 55/100\n",
      "1500/1500 [==============================] - 2s 1ms/step - loss: 0.3996 - accuracy: 0.8844 - val_loss: 0.4025 - val_accuracy: 0.8896\n",
      "Epoch 56/100\n",
      "1500/1500 [==============================] - 2s 1ms/step - loss: 0.3978 - accuracy: 0.8856 - val_loss: 0.4024 - val_accuracy: 0.8878\n",
      "Epoch 57/100\n"
     ]
    },
    {
     "name": "stdout",
     "output_type": "stream",
     "text": [
      "1500/1500 [==============================] - 2s 1ms/step - loss: 0.3975 - accuracy: 0.8857 - val_loss: 0.3938 - val_accuracy: 0.8890\n",
      "Epoch 58/100\n",
      "1500/1500 [==============================] - 2s 1ms/step - loss: 0.3980 - accuracy: 0.8874 - val_loss: 0.3934 - val_accuracy: 0.8871\n",
      "Epoch 59/100\n",
      "1500/1500 [==============================] - 2s 1ms/step - loss: 0.3871 - accuracy: 0.8886 - val_loss: 0.4040 - val_accuracy: 0.8882\n",
      "Epoch 60/100\n",
      "1500/1500 [==============================] - 2s 1ms/step - loss: 0.4111 - accuracy: 0.8822 - val_loss: 0.4040 - val_accuracy: 0.8822\n",
      "Epoch 61/100\n",
      "1500/1500 [==============================] - 2s 1ms/step - loss: 0.3982 - accuracy: 0.8858 - val_loss: 0.4137 - val_accuracy: 0.8815\n",
      "Epoch 62/100\n",
      "1500/1500 [==============================] - 2s 1ms/step - loss: 0.4016 - accuracy: 0.8812 - val_loss: 0.4036 - val_accuracy: 0.8861\n",
      "Epoch 63/100\n",
      "1500/1500 [==============================] - 2s 1ms/step - loss: 0.3954 - accuracy: 0.8876 - val_loss: 0.4022 - val_accuracy: 0.8860\n",
      "Epoch 64/100\n",
      "1500/1500 [==============================] - 2s 1ms/step - loss: 0.3960 - accuracy: 0.8866 - val_loss: 0.4053 - val_accuracy: 0.8849\n",
      "Epoch 65/100\n",
      "1500/1500 [==============================] - 2s 1ms/step - loss: 0.4017 - accuracy: 0.8862 - val_loss: 0.4052 - val_accuracy: 0.8858\n",
      "Epoch 66/100\n",
      "1500/1500 [==============================] - 2s 1ms/step - loss: 0.4005 - accuracy: 0.8860 - val_loss: 0.3837 - val_accuracy: 0.8905\n",
      "Epoch 67/100\n",
      "1500/1500 [==============================] - 2s 1ms/step - loss: 0.3958 - accuracy: 0.8845 - val_loss: 0.3943 - val_accuracy: 0.8873\n",
      "Epoch 68/100\n",
      "1500/1500 [==============================] - 2s 1ms/step - loss: 0.3864 - accuracy: 0.8874 - val_loss: 0.3974 - val_accuracy: 0.8857\n",
      "Epoch 69/100\n",
      "1500/1500 [==============================] - 2s 1ms/step - loss: 0.3981 - accuracy: 0.8855 - val_loss: 0.4020 - val_accuracy: 0.8817\n",
      "Epoch 70/100\n",
      "1500/1500 [==============================] - 2s 1ms/step - loss: 0.3998 - accuracy: 0.8851 - val_loss: 0.3957 - val_accuracy: 0.8862\n",
      "Epoch 71/100\n",
      "1500/1500 [==============================] - 2s 1ms/step - loss: 0.3942 - accuracy: 0.8857 - val_loss: 0.3939 - val_accuracy: 0.8882\n",
      "Epoch 72/100\n",
      "1500/1500 [==============================] - 2s 1ms/step - loss: 0.3794 - accuracy: 0.8904 - val_loss: 0.4030 - val_accuracy: 0.8856\n",
      "Epoch 73/100\n",
      "1500/1500 [==============================] - 2s 1ms/step - loss: 0.3939 - accuracy: 0.8860 - val_loss: 0.4068 - val_accuracy: 0.8856\n",
      "Epoch 74/100\n",
      "1500/1500 [==============================] - 2s 1ms/step - loss: 0.3936 - accuracy: 0.8871 - val_loss: 0.4046 - val_accuracy: 0.8848\n",
      "Epoch 75/100\n",
      "1500/1500 [==============================] - 2s 1ms/step - loss: 0.3983 - accuracy: 0.8838 - val_loss: 0.4072 - val_accuracy: 0.8825\n",
      "Epoch 76/100\n",
      "1500/1500 [==============================] - 2s 1ms/step - loss: 0.3907 - accuracy: 0.8855 - val_loss: 0.4051 - val_accuracy: 0.8816\n",
      "Epoch 77/100\n",
      "1500/1500 [==============================] - 2s 1ms/step - loss: 0.3988 - accuracy: 0.8849 - val_loss: 0.4100 - val_accuracy: 0.8837\n",
      "Epoch 78/100\n",
      "1500/1500 [==============================] - 2s 1ms/step - loss: 0.4130 - accuracy: 0.8810 - val_loss: 0.4068 - val_accuracy: 0.8848\n",
      "Epoch 79/100\n",
      "1500/1500 [==============================] - 2s 1ms/step - loss: 0.3931 - accuracy: 0.8855 - val_loss: 0.4053 - val_accuracy: 0.8819\n",
      "Epoch 80/100\n",
      "1500/1500 [==============================] - 2s 1ms/step - loss: 0.3920 - accuracy: 0.8871 - val_loss: 0.3863 - val_accuracy: 0.8871\n",
      "Epoch 81/100\n",
      "1500/1500 [==============================] - 2s 1ms/step - loss: 0.3976 - accuracy: 0.8849 - val_loss: 0.4012 - val_accuracy: 0.8867\n",
      "Epoch 82/100\n",
      "1500/1500 [==============================] - 2s 1ms/step - loss: 0.4003 - accuracy: 0.8851 - val_loss: 0.4025 - val_accuracy: 0.8845\n",
      "Epoch 83/100\n",
      "1500/1500 [==============================] - 2s 1ms/step - loss: 0.4031 - accuracy: 0.8858 - val_loss: 0.3963 - val_accuracy: 0.8867\n",
      "Epoch 84/100\n",
      "1500/1500 [==============================] - 2s 1ms/step - loss: 0.3977 - accuracy: 0.8872 - val_loss: 0.4006 - val_accuracy: 0.8864\n",
      "Epoch 85/100\n",
      "1500/1500 [==============================] - 2s 1ms/step - loss: 0.4019 - accuracy: 0.8852 - val_loss: 0.4118 - val_accuracy: 0.8804\n",
      "Epoch 86/100\n",
      "1500/1500 [==============================] - 2s 1ms/step - loss: 0.4044 - accuracy: 0.8825 - val_loss: 0.4176 - val_accuracy: 0.8796oss: 0.4\n",
      "Epoch 87/100\n",
      "1500/1500 [==============================] - 2s 1ms/step - loss: 0.3954 - accuracy: 0.8867 - val_loss: 0.4027 - val_accuracy: 0.8823\n",
      "Epoch 88/100\n",
      "1500/1500 [==============================] - 2s 1ms/step - loss: 0.3953 - accuracy: 0.8861 - val_loss: 0.4027 - val_accuracy: 0.8829\n",
      "Epoch 89/100\n",
      "1500/1500 [==============================] - 2s 1ms/step - loss: 0.3882 - accuracy: 0.8867 - val_loss: 0.3943 - val_accuracy: 0.8867\n",
      "Epoch 90/100\n",
      "1500/1500 [==============================] - 2s 1ms/step - loss: 0.3966 - accuracy: 0.8826 - val_loss: 0.4061 - val_accuracy: 0.8814\n",
      "Epoch 91/100\n",
      "1500/1500 [==============================] - 2s 1ms/step - loss: 0.3966 - accuracy: 0.8826 - val_loss: 0.3977 - val_accuracy: 0.8825\n",
      "Epoch 92/100\n",
      "1500/1500 [==============================] - 2s 1ms/step - loss: 0.3934 - accuracy: 0.8873 - val_loss: 0.4007 - val_accuracy: 0.8828\n",
      "Epoch 93/100\n",
      "1500/1500 [==============================] - 2s 1ms/step - loss: 0.3848 - accuracy: 0.8876 - val_loss: 0.3994 - val_accuracy: 0.8840\n",
      "Epoch 94/100\n",
      "1500/1500 [==============================] - 2s 1ms/step - loss: 0.3849 - accuracy: 0.8871 - val_loss: 0.4073 - val_accuracy: 0.8801\n",
      "Epoch 95/100\n",
      "1500/1500 [==============================] - 2s 1ms/step - loss: 0.3904 - accuracy: 0.8868 - val_loss: 0.4088 - val_accuracy: 0.8829s: 0.388\n",
      "Epoch 96/100\n",
      "1500/1500 [==============================] - 2s 1ms/step - loss: 0.3954 - accuracy: 0.8852 - val_loss: 0.3982 - val_accuracy: 0.8860\n",
      "Epoch 97/100\n",
      "1500/1500 [==============================] - 2s 1ms/step - loss: 0.3868 - accuracy: 0.8884 - val_loss: 0.3943 - val_accuracy: 0.8867\n",
      "Epoch 98/100\n",
      "1500/1500 [==============================] - 2s 1ms/step - loss: 0.3891 - accuracy: 0.8861 - val_loss: 0.4070 - val_accuracy: 0.8829\n",
      "Epoch 99/100\n",
      "1500/1500 [==============================] - 2s 1ms/step - loss: 0.3910 - accuracy: 0.8895 - val_loss: 0.3988 - val_accuracy: 0.8847\n",
      "Epoch 100/100\n",
      "1500/1500 [==============================] - 2s 1ms/step - loss: 0.3805 - accuracy: 0.8916 - val_loss: 0.4009 - val_accuracy: 0.8848\n"
     ]
    }
   ],
   "source": [
    "mnist_hist = mnist.fit(X_train, y_train, batch_size=32, epochs=100, validation_split=0.2)"
   ]
  },
  {
   "cell_type": "markdown",
   "metadata": {},
   "source": [
    "### Mini-Projects this Week:\n",
    "- Neural Network From Scratch\n",
    "- Classifying Handwritten Digits (MNIST)\n",
    "    - Fashion MNIST: https://github.com/zalandoresearch/fashion-mnist\n",
    "- Transfer Learning for Image Recognition\n",
    "    - Up to you!"
   ]
  }
 ],
 "metadata": {
  "kernelspec": {
   "display_name": "Python 3",
   "language": "python",
   "name": "python3"
  },
  "language_info": {
   "codemirror_mode": {
    "name": "ipython",
    "version": 3
   },
   "file_extension": ".py",
   "mimetype": "text/x-python",
   "name": "python",
   "nbconvert_exporter": "python",
   "pygments_lexer": "ipython3",
   "version": "3.6.13"
  }
 },
 "nbformat": 4,
 "nbformat_minor": 4
}
