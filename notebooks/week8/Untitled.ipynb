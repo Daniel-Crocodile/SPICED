{
 "cells": [
  {
   "cell_type": "code",
   "execution_count": 1,
   "metadata": {},
   "outputs": [],
   "source": [
    "import pandas as pd\n",
    "import numpy as np"
   ]
  },
  {
   "cell_type": "code",
   "execution_count": null,
   "metadata": {},
   "outputs": [],
   "source": [
    "class Supermarket:\n",
    "sm = Supermarket()\n",
    "    \"\"\"\n",
    "    a supermarket in a MCMC simulation\n",
    "    \"\"\"\n",
    "    def __init__(self, state, budget=100):\n",
    "    self.state = state\n",
    "    self.budget = budget\n",
    "    \n",
    "    def __repr__(self):\n",
    "    return f'<Customer {self.name} in {self.state}>'\n",
    "\n",
    "    def next_state(self):\n",
    "    '''\n",
    "    Propagates the customer to the next state.\n",
    "    Returns nothing.\n",
    "    '''\n",
    "    self.state = random.choice(['spices', 'drinks', 'fruit'])\n",
    "     \n",
    "        \n",
    "        "
   ]
  }
 ],
 "metadata": {
  "kernelspec": {
   "display_name": "Python 3",
   "language": "python",
   "name": "python3"
  },
  "language_info": {
   "codemirror_mode": {
    "name": "ipython",
    "version": 3
   },
   "file_extension": ".py",
   "mimetype": "text/x-python",
   "name": "python",
   "nbconvert_exporter": "python",
   "pygments_lexer": "ipython3",
   "version": "3.8.5"
  }
 },
 "nbformat": 4,
 "nbformat_minor": 4
}
