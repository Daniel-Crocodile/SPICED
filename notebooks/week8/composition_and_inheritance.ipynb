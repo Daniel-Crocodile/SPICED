{
 "cells": [
  {
   "cell_type": "markdown",
   "metadata": {},
   "source": [
    "### Composition and Inheritance: Python Classes, Pt. II\n",
    "- 2 methods of combining classes together"
   ]
  },
  {
   "cell_type": "markdown",
   "metadata": {},
   "source": [
    "Warmup: Fix the bugs:\n",
    "- should be `class`, not `def`.\n",
    "- add `__double underscores__` to `__init__`\n",
    "- instantiate class with `(` parentheses `)`\n",
    "- don't call self when instantiating the class.\n",
    "    - In fact, you never actually pass in anything for `self`. This happens automatically!\n",
    "- IMPORTANT: do not make the name of a method the same name as an attribute!"
   ]
  },
  {
   "cell_type": "code",
   "execution_count": 1,
   "metadata": {},
   "outputs": [],
   "source": [
    "class Animal:\n",
    "\n",
    "    def __init__(self, name, sound):\n",
    "        self.name = name\n",
    "        self.sound = sound\n",
    "    \n",
    "    def __repr__(self):\n",
    "        return f\"<Animal>\" #or print something out more meaningful\n",
    "\n",
    "    def make_sound(self):\n",
    "        print(f'{self.sound.upper()}!!')"
   ]
  },
  {
   "cell_type": "code",
   "execution_count": 2,
   "metadata": {},
   "outputs": [
    {
     "name": "stdout",
     "output_type": "stream",
     "text": [
      "SNAP!!!\n"
     ]
    }
   ],
   "source": [
    "croc = Animal('crocodile', 'snap!')\n",
    "croc.make_sound()"
   ]
  },
  {
   "cell_type": "code",
   "execution_count": 3,
   "metadata": {},
   "outputs": [],
   "source": [
    "# print = 'hi!' #don't override stuff!\n",
    "# print('paul')"
   ]
  },
  {
   "cell_type": "markdown",
   "metadata": {},
   "source": [
    "---\n",
    "### Let's look at Inheritance first\n",
    "- Inheritance describes a \"is-a\" relationship.\n",
    "- A dog is a (type of) animal.\n",
    "---"
   ]
  },
  {
   "cell_type": "code",
   "execution_count": 4,
   "metadata": {},
   "outputs": [],
   "source": [
    "class Dog(Animal):\n",
    "    pass"
   ]
  },
  {
   "cell_type": "code",
   "execution_count": 5,
   "metadata": {},
   "outputs": [],
   "source": [
    "dog = Dog('dog', 'woof!')"
   ]
  },
  {
   "cell_type": "markdown",
   "metadata": {},
   "source": [
    "This still works! Why?\n",
    "- Because even though python cannot find an `__init()__` method inside Dog, it looks to it's \"parent class\" , or \"super class\"."
   ]
  },
  {
   "cell_type": "markdown",
   "metadata": {},
   "source": [
    "We also would like to instantiate a Dog with more things than what the parent class already defines:\n",
    "- attribute: `.breed`\n",
    "- method: `.fetch_stick()`"
   ]
  },
  {
   "cell_type": "code",
   "execution_count": 6,
   "metadata": {},
   "outputs": [],
   "source": [
    "class Dog(Animal):\n",
    "    \n",
    "    #this is copy-pasted from the parent class\n",
    "    def __init__(self, name, sound, breed):\n",
    "        self.name = name\n",
    "        self.sound = sound\n",
    "        \n",
    "        ####NEW ATTRIBUTES######\n",
    "        self.breed = breed\n",
    "        \n",
    "    #### NEW METHODS#####\n",
    "    def fetch_stick(self):\n",
    "        print(f'{self.name} fetches a stick.')\n",
    "    \n"
   ]
  },
  {
   "cell_type": "code",
   "execution_count": 7,
   "metadata": {},
   "outputs": [],
   "source": [
    "d = Dog('dog', 'woof', 'corgie')"
   ]
  },
  {
   "cell_type": "code",
   "execution_count": 8,
   "metadata": {},
   "outputs": [
    {
     "name": "stdout",
     "output_type": "stream",
     "text": [
      "dog fetches a stick.\n"
     ]
    }
   ],
   "source": [
    "d.fetch_stick()"
   ]
  },
  {
   "cell_type": "markdown",
   "metadata": {},
   "source": [
    "It works! But this is still repetetive (and hence not easily maintainable).\n",
    "\n",
    "So instead, we're going to let the parent class (Animal) handle \"name\" and \"sound\" for us.\n",
    "- using `super().__init__()`"
   ]
  },
  {
   "cell_type": "code",
   "execution_count": 9,
   "metadata": {},
   "outputs": [],
   "source": [
    "class Dog(Animal):\n",
    "    \n",
    "    #this is copy-pasted from the parent class\n",
    "    def __init__(self, breed):\n",
    "        \n",
    "        super().__init__('dog', 'woof')\n",
    "        self.breed = breed\n",
    "        \n",
    "    def fetch_stick(self):\n",
    "        print(f'{self.name} fetches a stick.')\n",
    "        \n",
    "#     def make_sound(self):\n",
    "#         print(f'{self.sound.upper()}!!' * 3)\n",
    "\n",
    "    #we can also override methods ^^^\n",
    "    \n"
   ]
  },
  {
   "cell_type": "code",
   "execution_count": 10,
   "metadata": {},
   "outputs": [],
   "source": [
    "d = Dog('corgie')"
   ]
  },
  {
   "cell_type": "code",
   "execution_count": 11,
   "metadata": {},
   "outputs": [
    {
     "data": {
      "text/plain": [
       "'dog'"
      ]
     },
     "execution_count": 11,
     "metadata": {},
     "output_type": "execute_result"
    }
   ],
   "source": [
    "d.name"
   ]
  },
  {
   "cell_type": "code",
   "execution_count": 12,
   "metadata": {},
   "outputs": [],
   "source": [
    "d.sound = 'bow bow' #we can still overwrite stuff, if we wanted."
   ]
  },
  {
   "cell_type": "code",
   "execution_count": 13,
   "metadata": {},
   "outputs": [
    {
     "data": {
      "text/plain": [
       "'bow bow'"
      ]
     },
     "execution_count": 13,
     "metadata": {},
     "output_type": "execute_result"
    }
   ],
   "source": [
    "d.sound"
   ]
  },
  {
   "cell_type": "code",
   "execution_count": 14,
   "metadata": {},
   "outputs": [
    {
     "data": {
      "text/plain": [
       "'corgie'"
      ]
     },
     "execution_count": 14,
     "metadata": {},
     "output_type": "execute_result"
    }
   ],
   "source": [
    "d.breed"
   ]
  },
  {
   "cell_type": "code",
   "execution_count": 15,
   "metadata": {},
   "outputs": [
    {
     "name": "stdout",
     "output_type": "stream",
     "text": [
      "BOW BOW!!\n"
     ]
    }
   ],
   "source": [
    "d.make_sound()"
   ]
  },
  {
   "cell_type": "markdown",
   "metadata": {},
   "source": [
    "Potential Application of Inheritance this week:\n",
    "- e.g. create different types of Customers, like old customers, young customers, party customers. If you did some clustering on the data, for example."
   ]
  },
  {
   "cell_type": "markdown",
   "metadata": {},
   "source": [
    "---\n",
    "---"
   ]
  },
  {
   "cell_type": "markdown",
   "metadata": {},
   "source": [
    "### Let's look at Composition\n",
    "- this describes as \"has-a\" relationship.\n",
    "    - e.g. a Dog Shed has a Dog (or multiple dogs)\n",
    "    - e.g. a Zoo contains / has multiple animals\n",
    "    - e.g. A Supermarket has many customers."
   ]
  },
  {
   "cell_type": "code",
   "execution_count": 16,
   "metadata": {},
   "outputs": [],
   "source": [
    "class DogShed:\n",
    "\n",
    "    def __init__(self, dog):\n",
    "        self.dog = dog"
   ]
  },
  {
   "cell_type": "code",
   "execution_count": 17,
   "metadata": {},
   "outputs": [],
   "source": [
    "d = Dog('corgie')"
   ]
  },
  {
   "cell_type": "code",
   "execution_count": 18,
   "metadata": {},
   "outputs": [
    {
     "data": {
      "text/plain": [
       "'corgie'"
      ]
     },
     "execution_count": 18,
     "metadata": {},
     "output_type": "execute_result"
    }
   ],
   "source": [
    "d.breed"
   ]
  },
  {
   "cell_type": "code",
   "execution_count": 19,
   "metadata": {},
   "outputs": [],
   "source": [
    "shed = DogShed(d)"
   ]
  },
  {
   "cell_type": "code",
   "execution_count": 20,
   "metadata": {},
   "outputs": [
    {
     "name": "stdout",
     "output_type": "stream",
     "text": [
      "WOOF!!\n"
     ]
    }
   ],
   "source": [
    "shed.dog.make_sound()\n",
    "#the dog is \"nested\" within the DogShed"
   ]
  },
  {
   "cell_type": "code",
   "execution_count": 21,
   "metadata": {},
   "outputs": [],
   "source": [
    "### We could also add anything into our DogShed class, based on how we defined the code\n",
    "\n",
    "# from sklearn.linear_model import LinearRegression\n",
    "\n",
    "# m = LinearRegression()\n",
    "\n",
    "# shed = DogShed(m)\n",
    "\n",
    "# # shed.dog.make_sound()"
   ]
  },
  {
   "cell_type": "markdown",
   "metadata": {},
   "source": [
    "**One-to-many relationship:**\n",
    "    - e.g. a SuperMarket contains multiple customers"
   ]
  },
  {
   "cell_type": "code",
   "execution_count": 22,
   "metadata": {},
   "outputs": [],
   "source": [
    "class Zoo:\n",
    "\n",
    "    def __init__(self):\n",
    "        self.animals = []\n",
    "\n",
    "    def add(self, animal):\n",
    "        self.animals.append(animal)\n",
    "\n",
    "    def make_all_sounds(self):\n",
    "        for a in self.animals:\n",
    "            a.make_sound()\n",
    "        \n",
    "\n",
    "z = Zoo()\n",
    "\n",
    "croc = Animal('crocodile', 'snap!')\n",
    "z.add(croc)\n",
    "z.add(Animal('elephant', 'toott'))\n",
    "z.add(Animal('lion', 'roar'))"
   ]
  },
  {
   "cell_type": "code",
   "execution_count": 23,
   "metadata": {},
   "outputs": [
    {
     "name": "stdout",
     "output_type": "stream",
     "text": [
      "SNAP!!!\n",
      "TOOTT!!\n",
      "ROAR!!\n"
     ]
    }
   ],
   "source": [
    "z.make_all_sounds()"
   ]
  },
  {
   "cell_type": "markdown",
   "metadata": {},
   "source": [
    "### IDEA FOR PROJECT:\n",
    "- your supermarket might have a method called `.move_all_customers()` or something which simulates all customers by one time step, and increases the time by 1 minute.\n",
    "- i.e. you will use composition to create a supermarket class that contains many customers inside of it."
   ]
  },
  {
   "cell_type": "code",
   "execution_count": 24,
   "metadata": {},
   "outputs": [],
   "source": [
    "### In the end your program might look like something like this:"
   ]
  },
  {
   "cell_type": "raw",
   "metadata": {},
   "source": [
    "sm = SuperMarket()\n",
    "sm.add(list_of_customers)\n",
    "sm.simulate()"
   ]
  },
  {
   "cell_type": "code",
   "execution_count": 25,
   "metadata": {},
   "outputs": [],
   "source": [
    "#how to generate a population of animals / customers:\n",
    "animals = [Animal('chicken', 'cluck') for i in range(500)]"
   ]
  },
  {
   "cell_type": "code",
   "execution_count": null,
   "metadata": {},
   "outputs": [],
   "source": []
  }
 ],
 "metadata": {
  "kernelspec": {
   "display_name": "Python 3",
   "language": "python",
   "name": "python3"
  },
  "language_info": {
   "codemirror_mode": {
    "name": "ipython",
    "version": 3
   },
   "file_extension": ".py",
   "mimetype": "text/x-python",
   "name": "python",
   "nbconvert_exporter": "python",
   "pygments_lexer": "ipython3",
   "version": "3.8.5"
  }
 },
 "nbformat": 4,
 "nbformat_minor": 4
}
