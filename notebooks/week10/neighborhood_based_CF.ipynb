{
 "cells": [
  {
   "cell_type": "markdown",
   "metadata": {},
   "source": [
    "# Neighborhood-Based Collaborative Filtering"
   ]
  },
  {
   "cell_type": "markdown",
   "metadata": {},
   "source": [
    "Imagine you have to build a recommender. What approach could you take for recommending movies to your users?"
   ]
  },
  {
   "cell_type": "markdown",
   "metadata": {},
   "source": [
    "* Majority vote (potentially weighing critics and regular users differently)\n",
    "* Based on genres (e.g. ask users for their favorite genre and primarily recommend movies from that genre)\n",
    "* Based on user categories / demographics\n",
    "* Don't recommend the highest scoring result, but allow for serendipity/discovery"
   ]
  },
  {
   "cell_type": "markdown",
   "metadata": {},
   "source": [
    "### What is collaborative filtering?"
   ]
  },
  {
   "cell_type": "markdown",
   "metadata": {},
   "source": [
    "In the context of e.g. recommendations engines, using (explicit/implicit) taste of other users (collaborative) to infer the taste of the target user. As opposed to _content-based filtering_, e.g. recommending movies based on someone's favorite genre, gender, age, location."
   ]
  },
  {
   "cell_type": "markdown",
   "metadata": {},
   "source": [
    "### Types of collaborative filtering"
   ]
  },
  {
   "cell_type": "markdown",
   "metadata": {},
   "source": [
    "* _Neighborhood-based_ (also, memory-based):\n",
    "    * **user-based**: looks for similarities in ratings between target user and other users; _user-item matrix_\n",
    "    * **item-based**: looks for similarities in items target user has rated compared to items other users have rated; _item-item matrix_\n",
    "* _Model-based_:\n",
    "    * e.g. NMF, LDA, SVD"
   ]
  },
  {
   "cell_type": "code",
   "execution_count": null,
   "metadata": {},
   "outputs": [],
   "source": [
    "import pandas as pd\n",
    "import numpy as np\n",
    "import seaborn as sns"
   ]
  },
  {
   "cell_type": "code",
   "execution_count": null,
   "metadata": {},
   "outputs": [],
   "source": [
    "df = pd.read_csv('movie_ratings_vv.csv', index_col=1, header=1)"
   ]
  },
  {
   "cell_type": "code",
   "execution_count": null,
   "metadata": {},
   "outputs": [],
   "source": [
    "df.drop(['Unnamed: 0', 'Unnamed: 12', 'knows ...'], axis=1, inplace=True)"
   ]
  },
  {
   "cell_type": "code",
   "execution_count": null,
   "metadata": {},
   "outputs": [],
   "source": [
    "df.drop(['avg', 'votes'], inplace=True)"
   ]
  },
  {
   "cell_type": "code",
   "execution_count": null,
   "metadata": {},
   "outputs": [],
   "source": [
    "df = df[df.index.notnull()]"
   ]
  },
  {
   "cell_type": "code",
   "execution_count": null,
   "metadata": {},
   "outputs": [],
   "source": [
    "df = df.T"
   ]
  },
  {
   "cell_type": "code",
   "execution_count": null,
   "metadata": {},
   "outputs": [],
   "source": [
    "sns.heatmap(df.fillna(0))"
   ]
  },
  {
   "cell_type": "markdown",
   "metadata": {},
   "source": [
    "### How do we measure similarity?"
   ]
  },
  {
   "cell_type": "markdown",
   "metadata": {},
   "source": [
    "* Euclidean distance: $$ \\sqrt{(x_1-x_2)^2 + (y_1-y_2)^2} $$\n",
    "* Manhattan distance: $$ |x_1-x_2|+|y_1-y_2| $$\n",
    "* Minkowsky distance: $$ \\sqrt[\\lambda]{|x_1-x_2|^\\lambda + |y_1-y_2|^\\lambda} $$\n",
    "* Jaccard similarity (on sets): $$ \\frac{|A \\cap B|}{|A \\cup B|} $$\n",
    "* Cosine similarity"
   ]
  },
  {
   "cell_type": "markdown",
   "metadata": {},
   "source": [
    "#### Cosine Similarity"
   ]
  },
  {
   "cell_type": "markdown",
   "metadata": {},
   "source": [
    "A normalized dot product of two vectors. Geometrical interpretation is that it is an angle (or a cosine of an angle) between two vectors."
   ]
  },
  {
   "cell_type": "markdown",
   "metadata": {},
   "source": [
    "$$ cos(X, Y) = \\frac{X \\cdot Y}{\\lVert X \\rVert \\lVert Y \\rVert} = \\frac{\\sum x_i y_i}{\\sqrt{\\sum x_i^2}\\sqrt{\\sum y_i^2}} $$"
   ]
  },
  {
   "cell_type": "code",
   "execution_count": null,
   "metadata": {},
   "outputs": [],
   "source": [
    "# Implement cosine similarity\n",
    "def cosim(X, Y):\n",
    "    num = np.nansum(X*Y) # np.dot(X, Y)\n",
    "    denom = np.sqrt(np.nansum(X*X)*np.nansum(Y*Y)) # np.sqrt(np.dot(X, X)*np.dot(Y, Y))\n",
    "    return num/denom"
   ]
  },
  {
   "cell_type": "code",
   "execution_count": null,
   "metadata": {},
   "outputs": [],
   "source": [
    "cosim(df['Marija'], df['Stefan'])"
   ]
  },
  {
   "cell_type": "code",
   "execution_count": null,
   "metadata": {},
   "outputs": [],
   "source": [
    "cosim_table = []\n",
    "for user1 in df.columns:\n",
    "    row = []\n",
    "    for user2 in df.columns:\n",
    "        row.append(cosim(df[user1], df[user2]))\n",
    "    cosim_table.append(row)"
   ]
  },
  {
   "cell_type": "code",
   "execution_count": null,
   "metadata": {},
   "outputs": [],
   "source": [
    "cosim_df = pd.DataFrame(cosim_table, columns=df.columns, index=df.columns).round(2)"
   ]
  },
  {
   "cell_type": "code",
   "execution_count": null,
   "metadata": {},
   "outputs": [],
   "source": [
    "sns.heatmap(cosim_df)"
   ]
  },
  {
   "cell_type": "markdown",
   "metadata": {},
   "source": [
    "### Making predictions"
   ]
  },
  {
   "cell_type": "markdown",
   "metadata": {},
   "source": [
    "What approach would you take now to recommending movies to people?"
   ]
  },
  {
   "cell_type": "markdown",
   "metadata": {},
   "source": [
    "* Look for a data-twin (or 10, or N) and get recommendations from them \n",
    "    * Use average of those users: sum(ratings)/N\n",
    "    * Use weighted average of their ratings: sum(similarity*rating)/sum(similarity)\n",
    "* Extend this to all users and use weighted average"
   ]
  },
  {
   "cell_type": "markdown",
   "metadata": {},
   "source": [
    "How do we go about making predictions:\n",
    "* Select only movies your target user hasn't seen\n",
    "* For those movies, calculate weighted average of the ratings of other users\n",
    "* Rank this and pick top 1/3/N"
   ]
  },
  {
   "cell_type": "code",
   "execution_count": null,
   "metadata": {},
   "outputs": [],
   "source": [
    "target_user = 'Marija'"
   ]
  },
  {
   "cell_type": "code",
   "execution_count": null,
   "metadata": {},
   "outputs": [],
   "source": [
    "unseen_movies = df[df[target_user].isna()].index"
   ]
  },
  {
   "cell_type": "code",
   "execution_count": null,
   "metadata": {},
   "outputs": [],
   "source": [
    "predicted_ratings = []\n",
    "for movie in unseen_movies:\n",
    "    other_users = df.columns[df.loc[movie].isna() == False]\n",
    "    nominator = 0\n",
    "    denominator = 0\n",
    "    for user in other_users:\n",
    "        nominator += cosim(df[target_user], df[user])*df.loc[movie][user]\n",
    "        denominator += cosim(df[target_user], df[user])\n",
    "    predicted_ratings.append((movie, nominator/denominator))"
   ]
  },
  {
   "cell_type": "code",
   "execution_count": null,
   "metadata": {},
   "outputs": [],
   "source": [
    "predicted_ratings"
   ]
  },
  {
   "cell_type": "code",
   "execution_count": null,
   "metadata": {},
   "outputs": [],
   "source": [
    "sorted(predicted_ratings, key=lambda x: x[1])"
   ]
  }
 ],
 "metadata": {
  "kernelspec": {
   "display_name": "Python 3",
   "language": "python",
   "name": "python3"
  },
  "language_info": {
   "codemirror_mode": {
    "name": "ipython",
    "version": 3
   },
   "file_extension": ".py",
   "mimetype": "text/x-python",
   "name": "python",
   "nbconvert_exporter": "python",
   "pygments_lexer": "ipython3",
   "version": "3.8.5"
  }
 },
 "nbformat": 4,
 "nbformat_minor": 4
}
